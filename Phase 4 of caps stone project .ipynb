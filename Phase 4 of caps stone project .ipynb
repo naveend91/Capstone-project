{
 "cells": [
  {
   "cell_type": "code",
   "execution_count": 274,
   "id": "3848f094",
   "metadata": {},
   "outputs": [],
   "source": [
    "#Clustering of each type of crimes -02_01_District_wise_crimes_committed_against_SC_2001_2012.csv\n",
    "import numpy as np \n",
    "import pandas as pd \n",
    "import matplotlib.pyplot as plt\n",
    "import seaborn as sns\n",
    "import warnings\n",
    "warnings.filterwarnings('ignore')"
   ]
  },
  {
   "cell_type": "code",
   "execution_count": 275,
   "id": "0df75be0",
   "metadata": {},
   "outputs": [],
   "source": [
    "# Importing Data and removing total crimes\n",
    "df=pd.read_csv('02_01_District_wise_crimes_committed_against_SC_2001_2012.csv')\n",
    "df=df.drop(list(df[df[\"DISTRICT\"]==\"TOTAL\"].index))"
   ]
  },
  {
   "cell_type": "code",
   "execution_count": 276,
   "id": "583dd7b6",
   "metadata": {},
   "outputs": [
    {
     "data": {
      "text/plain": [
       "(8597, 13)"
      ]
     },
     "execution_count": 276,
     "metadata": {},
     "output_type": "execute_result"
    }
   ],
   "source": [
    "df.shape"
   ]
  },
  {
   "cell_type": "code",
   "execution_count": 277,
   "id": "a5e2f275",
   "metadata": {},
   "outputs": [
    {
     "data": {
      "text/html": [
       "<div>\n",
       "<style scoped>\n",
       "    .dataframe tbody tr th:only-of-type {\n",
       "        vertical-align: middle;\n",
       "    }\n",
       "\n",
       "    .dataframe tbody tr th {\n",
       "        vertical-align: top;\n",
       "    }\n",
       "\n",
       "    .dataframe thead th {\n",
       "        text-align: right;\n",
       "    }\n",
       "</style>\n",
       "<table border=\"1\" class=\"dataframe\">\n",
       "  <thead>\n",
       "    <tr style=\"text-align: right;\">\n",
       "      <th></th>\n",
       "      <th>STATE/UT</th>\n",
       "      <th>DISTRICT</th>\n",
       "      <th>Year</th>\n",
       "      <th>Murder</th>\n",
       "      <th>Rape</th>\n",
       "      <th>Kidnapping and Abduction</th>\n",
       "      <th>Dacoity</th>\n",
       "      <th>Robbery</th>\n",
       "      <th>Arson</th>\n",
       "      <th>Hurt</th>\n",
       "      <th>Prevention of atrocities (POA) Act</th>\n",
       "      <th>Protection of Civil Rights (PCR) Act</th>\n",
       "      <th>Other Crimes Against SCs</th>\n",
       "    </tr>\n",
       "  </thead>\n",
       "  <tbody>\n",
       "    <tr>\n",
       "      <th>0</th>\n",
       "      <td>ANDHRA PRADESH</td>\n",
       "      <td>ADILABAD</td>\n",
       "      <td>2001</td>\n",
       "      <td>0</td>\n",
       "      <td>1</td>\n",
       "      <td>4</td>\n",
       "      <td>0</td>\n",
       "      <td>0</td>\n",
       "      <td>0</td>\n",
       "      <td>3</td>\n",
       "      <td>0</td>\n",
       "      <td>15</td>\n",
       "      <td>32</td>\n",
       "    </tr>\n",
       "    <tr>\n",
       "      <th>1</th>\n",
       "      <td>ANDHRA PRADESH</td>\n",
       "      <td>ANANTAPUR</td>\n",
       "      <td>2001</td>\n",
       "      <td>0</td>\n",
       "      <td>4</td>\n",
       "      <td>0</td>\n",
       "      <td>0</td>\n",
       "      <td>0</td>\n",
       "      <td>0</td>\n",
       "      <td>49</td>\n",
       "      <td>21</td>\n",
       "      <td>0</td>\n",
       "      <td>53</td>\n",
       "    </tr>\n",
       "    <tr>\n",
       "      <th>2</th>\n",
       "      <td>ANDHRA PRADESH</td>\n",
       "      <td>CHITTOOR</td>\n",
       "      <td>2001</td>\n",
       "      <td>3</td>\n",
       "      <td>3</td>\n",
       "      <td>0</td>\n",
       "      <td>0</td>\n",
       "      <td>0</td>\n",
       "      <td>0</td>\n",
       "      <td>38</td>\n",
       "      <td>36</td>\n",
       "      <td>0</td>\n",
       "      <td>34</td>\n",
       "    </tr>\n",
       "    <tr>\n",
       "      <th>3</th>\n",
       "      <td>ANDHRA PRADESH</td>\n",
       "      <td>CUDDAPAH</td>\n",
       "      <td>2001</td>\n",
       "      <td>0</td>\n",
       "      <td>3</td>\n",
       "      <td>0</td>\n",
       "      <td>0</td>\n",
       "      <td>0</td>\n",
       "      <td>0</td>\n",
       "      <td>20</td>\n",
       "      <td>52</td>\n",
       "      <td>0</td>\n",
       "      <td>25</td>\n",
       "    </tr>\n",
       "    <tr>\n",
       "      <th>4</th>\n",
       "      <td>ANDHRA PRADESH</td>\n",
       "      <td>EAST GODAVARI</td>\n",
       "      <td>2001</td>\n",
       "      <td>1</td>\n",
       "      <td>3</td>\n",
       "      <td>0</td>\n",
       "      <td>0</td>\n",
       "      <td>0</td>\n",
       "      <td>0</td>\n",
       "      <td>3</td>\n",
       "      <td>12</td>\n",
       "      <td>63</td>\n",
       "      <td>7</td>\n",
       "    </tr>\n",
       "  </tbody>\n",
       "</table>\n",
       "</div>"
      ],
      "text/plain": [
       "         STATE/UT       DISTRICT  Year  Murder  Rape  \\\n",
       "0  ANDHRA PRADESH       ADILABAD  2001       0     1   \n",
       "1  ANDHRA PRADESH      ANANTAPUR  2001       0     4   \n",
       "2  ANDHRA PRADESH       CHITTOOR  2001       3     3   \n",
       "3  ANDHRA PRADESH       CUDDAPAH  2001       0     3   \n",
       "4  ANDHRA PRADESH  EAST GODAVARI  2001       1     3   \n",
       "\n",
       "   Kidnapping and Abduction  Dacoity  Robbery  Arson  Hurt  \\\n",
       "0                         4        0        0      0     3   \n",
       "1                         0        0        0      0    49   \n",
       "2                         0        0        0      0    38   \n",
       "3                         0        0        0      0    20   \n",
       "4                         0        0        0      0     3   \n",
       "\n",
       "   Prevention of atrocities (POA) Act  Protection of Civil Rights (PCR) Act  \\\n",
       "0                                   0                                    15   \n",
       "1                                  21                                     0   \n",
       "2                                  36                                     0   \n",
       "3                                  52                                     0   \n",
       "4                                  12                                    63   \n",
       "\n",
       "   Other Crimes Against SCs  \n",
       "0                        32  \n",
       "1                        53  \n",
       "2                        34  \n",
       "3                        25  \n",
       "4                         7  "
      ]
     },
     "execution_count": 277,
     "metadata": {},
     "output_type": "execute_result"
    }
   ],
   "source": [
    "df.head()"
   ]
  },
  {
   "cell_type": "code",
   "execution_count": 278,
   "id": "2f04a4ff",
   "metadata": {},
   "outputs": [
    {
     "data": {
      "text/html": [
       "<div>\n",
       "<style scoped>\n",
       "    .dataframe tbody tr th:only-of-type {\n",
       "        vertical-align: middle;\n",
       "    }\n",
       "\n",
       "    .dataframe tbody tr th {\n",
       "        vertical-align: top;\n",
       "    }\n",
       "\n",
       "    .dataframe thead th {\n",
       "        text-align: right;\n",
       "    }\n",
       "</style>\n",
       "<table border=\"1\" class=\"dataframe\">\n",
       "  <thead>\n",
       "    <tr style=\"text-align: right;\">\n",
       "      <th></th>\n",
       "      <th>STATE/UT</th>\n",
       "      <th>DISTRICT</th>\n",
       "      <th>Year</th>\n",
       "      <th>Murder</th>\n",
       "      <th>Rape</th>\n",
       "      <th>Kidnapping and Abduction</th>\n",
       "      <th>Dacoity</th>\n",
       "      <th>Robbery</th>\n",
       "      <th>Arson</th>\n",
       "      <th>Hurt</th>\n",
       "      <th>Prevention of atrocities (POA) Act</th>\n",
       "      <th>Protection of Civil Rights (PCR) Act</th>\n",
       "      <th>Other Crimes Against SCs</th>\n",
       "    </tr>\n",
       "  </thead>\n",
       "  <tbody>\n",
       "    <tr>\n",
       "      <th>9010</th>\n",
       "      <td>DELHI</td>\n",
       "      <td>STF</td>\n",
       "      <td>2012</td>\n",
       "      <td>0</td>\n",
       "      <td>0</td>\n",
       "      <td>0</td>\n",
       "      <td>0</td>\n",
       "      <td>0</td>\n",
       "      <td>0</td>\n",
       "      <td>0</td>\n",
       "      <td>0</td>\n",
       "      <td>0</td>\n",
       "      <td>0</td>\n",
       "    </tr>\n",
       "    <tr>\n",
       "      <th>9011</th>\n",
       "      <td>DELHI</td>\n",
       "      <td>WEST</td>\n",
       "      <td>2012</td>\n",
       "      <td>0</td>\n",
       "      <td>0</td>\n",
       "      <td>0</td>\n",
       "      <td>0</td>\n",
       "      <td>0</td>\n",
       "      <td>0</td>\n",
       "      <td>0</td>\n",
       "      <td>2</td>\n",
       "      <td>0</td>\n",
       "      <td>0</td>\n",
       "    </tr>\n",
       "    <tr>\n",
       "      <th>9013</th>\n",
       "      <td>LAKSHADWEEP</td>\n",
       "      <td>LAKSHADWEEP</td>\n",
       "      <td>2012</td>\n",
       "      <td>0</td>\n",
       "      <td>0</td>\n",
       "      <td>0</td>\n",
       "      <td>0</td>\n",
       "      <td>0</td>\n",
       "      <td>0</td>\n",
       "      <td>0</td>\n",
       "      <td>0</td>\n",
       "      <td>0</td>\n",
       "      <td>0</td>\n",
       "    </tr>\n",
       "    <tr>\n",
       "      <th>9015</th>\n",
       "      <td>PUDUCHERRY</td>\n",
       "      <td>KARAIKAL</td>\n",
       "      <td>2012</td>\n",
       "      <td>1</td>\n",
       "      <td>0</td>\n",
       "      <td>0</td>\n",
       "      <td>0</td>\n",
       "      <td>0</td>\n",
       "      <td>0</td>\n",
       "      <td>0</td>\n",
       "      <td>0</td>\n",
       "      <td>0</td>\n",
       "      <td>0</td>\n",
       "    </tr>\n",
       "    <tr>\n",
       "      <th>9016</th>\n",
       "      <td>PUDUCHERRY</td>\n",
       "      <td>PUDUCHERRY</td>\n",
       "      <td>2012</td>\n",
       "      <td>1</td>\n",
       "      <td>0</td>\n",
       "      <td>0</td>\n",
       "      <td>0</td>\n",
       "      <td>0</td>\n",
       "      <td>0</td>\n",
       "      <td>0</td>\n",
       "      <td>1</td>\n",
       "      <td>20</td>\n",
       "      <td>1</td>\n",
       "    </tr>\n",
       "  </tbody>\n",
       "</table>\n",
       "</div>"
      ],
      "text/plain": [
       "         STATE/UT     DISTRICT  Year  Murder  Rape  Kidnapping and Abduction  \\\n",
       "9010        DELHI          STF  2012       0     0                         0   \n",
       "9011        DELHI         WEST  2012       0     0                         0   \n",
       "9013  LAKSHADWEEP  LAKSHADWEEP  2012       0     0                         0   \n",
       "9015   PUDUCHERRY     KARAIKAL  2012       1     0                         0   \n",
       "9016   PUDUCHERRY   PUDUCHERRY  2012       1     0                         0   \n",
       "\n",
       "      Dacoity  Robbery  Arson  Hurt  Prevention of atrocities (POA) Act  \\\n",
       "9010        0        0      0     0                                   0   \n",
       "9011        0        0      0     0                                   2   \n",
       "9013        0        0      0     0                                   0   \n",
       "9015        0        0      0     0                                   0   \n",
       "9016        0        0      0     0                                   1   \n",
       "\n",
       "      Protection of Civil Rights (PCR) Act  Other Crimes Against SCs  \n",
       "9010                                     0                         0  \n",
       "9011                                     0                         0  \n",
       "9013                                     0                         0  \n",
       "9015                                     0                         0  \n",
       "9016                                    20                         1  "
      ]
     },
     "execution_count": 278,
     "metadata": {},
     "output_type": "execute_result"
    }
   ],
   "source": [
    "df.tail()"
   ]
  },
  {
   "cell_type": "code",
   "execution_count": 279,
   "id": "0cc56487",
   "metadata": {},
   "outputs": [
    {
     "name": "stdout",
     "output_type": "stream",
     "text": [
      "<class 'pandas.core.frame.DataFrame'>\n",
      "Int64Index: 8597 entries, 0 to 9016\n",
      "Data columns (total 13 columns):\n",
      " #   Column                                Non-Null Count  Dtype \n",
      "---  ------                                --------------  ----- \n",
      " 0   STATE/UT                              8597 non-null   object\n",
      " 1   DISTRICT                              8597 non-null   object\n",
      " 2   Year                                  8597 non-null   int64 \n",
      " 3   Murder                                8597 non-null   int64 \n",
      " 4   Rape                                  8597 non-null   int64 \n",
      " 5   Kidnapping and Abduction              8597 non-null   int64 \n",
      " 6   Dacoity                               8597 non-null   int64 \n",
      " 7   Robbery                               8597 non-null   int64 \n",
      " 8   Arson                                 8597 non-null   int64 \n",
      " 9   Hurt                                  8597 non-null   int64 \n",
      " 10  Prevention of atrocities (POA) Act    8597 non-null   int64 \n",
      " 11  Protection of Civil Rights (PCR) Act  8597 non-null   int64 \n",
      " 12  Other Crimes Against SCs              8597 non-null   int64 \n",
      "dtypes: int64(11), object(2)\n",
      "memory usage: 940.3+ KB\n"
     ]
    }
   ],
   "source": [
    "df.info()"
   ]
  },
  {
   "cell_type": "code",
   "execution_count": 280,
   "id": "44b8eab6",
   "metadata": {},
   "outputs": [
    {
     "data": {
      "text/plain": [
       "Index(['STATE/UT', 'DISTRICT', 'Year', 'Murder', 'Rape',\n",
       "       'Kidnapping and Abduction', 'Dacoity', 'Robbery', 'Arson', 'Hurt',\n",
       "       'Prevention of atrocities (POA) Act',\n",
       "       'Protection of Civil Rights (PCR) Act', 'Other Crimes Against SCs'],\n",
       "      dtype='object')"
      ]
     },
     "execution_count": 280,
     "metadata": {},
     "output_type": "execute_result"
    }
   ],
   "source": [
    "df.columns"
   ]
  },
  {
   "cell_type": "code",
   "execution_count": 281,
   "id": "e770029b",
   "metadata": {},
   "outputs": [],
   "source": [
    "x=['Murder', 'Rape',\n",
    "       'Kidnapping and Abduction', 'Dacoity', 'Robbery', 'Arson', 'Hurt',\n",
    "       'Prevention of atrocities (POA) Act',\n",
    "       'Protection of Civil Rights (PCR) Act', 'Other Crimes Against SCs']\n",
    "df['Total']= df[x].sum(axis=1)\n"
   ]
  },
  {
   "cell_type": "code",
   "execution_count": 282,
   "id": "63d5ad9a",
   "metadata": {},
   "outputs": [
    {
     "data": {
      "text/plain": [
       "Index(['STATE/UT', 'DISTRICT', 'Year', 'Murder', 'Rape',\n",
       "       'Kidnapping and Abduction', 'Dacoity', 'Robbery', 'Arson', 'Hurt',\n",
       "       'Prevention of atrocities (POA) Act',\n",
       "       'Protection of Civil Rights (PCR) Act', 'Other Crimes Against SCs',\n",
       "       'Total'],\n",
       "      dtype='object')"
      ]
     },
     "execution_count": 282,
     "metadata": {},
     "output_type": "execute_result"
    }
   ],
   "source": [
    "df.columns"
   ]
  },
  {
   "cell_type": "code",
   "execution_count": 283,
   "id": "7eef17e6",
   "metadata": {},
   "outputs": [
    {
     "data": {
      "text/html": [
       "<div>\n",
       "<style scoped>\n",
       "    .dataframe tbody tr th:only-of-type {\n",
       "        vertical-align: middle;\n",
       "    }\n",
       "\n",
       "    .dataframe tbody tr th {\n",
       "        vertical-align: top;\n",
       "    }\n",
       "\n",
       "    .dataframe thead th {\n",
       "        text-align: right;\n",
       "    }\n",
       "</style>\n",
       "<table border=\"1\" class=\"dataframe\">\n",
       "  <thead>\n",
       "    <tr style=\"text-align: right;\">\n",
       "      <th></th>\n",
       "      <th>STATE/UT</th>\n",
       "      <th>DISTRICT</th>\n",
       "      <th>Year</th>\n",
       "      <th>Murder</th>\n",
       "      <th>Rape</th>\n",
       "      <th>Kidnapping and Abduction</th>\n",
       "      <th>Dacoity</th>\n",
       "      <th>Robbery</th>\n",
       "      <th>Arson</th>\n",
       "      <th>Hurt</th>\n",
       "      <th>Prevention of atrocities (POA) Act</th>\n",
       "      <th>Protection of Civil Rights (PCR) Act</th>\n",
       "      <th>Other Crimes Against SCs</th>\n",
       "      <th>Total</th>\n",
       "    </tr>\n",
       "  </thead>\n",
       "  <tbody>\n",
       "    <tr>\n",
       "      <th>0</th>\n",
       "      <td>ANDHRA PRADESH</td>\n",
       "      <td>ADILABAD</td>\n",
       "      <td>2001</td>\n",
       "      <td>0</td>\n",
       "      <td>1</td>\n",
       "      <td>4</td>\n",
       "      <td>0</td>\n",
       "      <td>0</td>\n",
       "      <td>0</td>\n",
       "      <td>3</td>\n",
       "      <td>0</td>\n",
       "      <td>15</td>\n",
       "      <td>32</td>\n",
       "      <td>55</td>\n",
       "    </tr>\n",
       "    <tr>\n",
       "      <th>1</th>\n",
       "      <td>ANDHRA PRADESH</td>\n",
       "      <td>ANANTAPUR</td>\n",
       "      <td>2001</td>\n",
       "      <td>0</td>\n",
       "      <td>4</td>\n",
       "      <td>0</td>\n",
       "      <td>0</td>\n",
       "      <td>0</td>\n",
       "      <td>0</td>\n",
       "      <td>49</td>\n",
       "      <td>21</td>\n",
       "      <td>0</td>\n",
       "      <td>53</td>\n",
       "      <td>127</td>\n",
       "    </tr>\n",
       "    <tr>\n",
       "      <th>2</th>\n",
       "      <td>ANDHRA PRADESH</td>\n",
       "      <td>CHITTOOR</td>\n",
       "      <td>2001</td>\n",
       "      <td>3</td>\n",
       "      <td>3</td>\n",
       "      <td>0</td>\n",
       "      <td>0</td>\n",
       "      <td>0</td>\n",
       "      <td>0</td>\n",
       "      <td>38</td>\n",
       "      <td>36</td>\n",
       "      <td>0</td>\n",
       "      <td>34</td>\n",
       "      <td>114</td>\n",
       "    </tr>\n",
       "    <tr>\n",
       "      <th>3</th>\n",
       "      <td>ANDHRA PRADESH</td>\n",
       "      <td>CUDDAPAH</td>\n",
       "      <td>2001</td>\n",
       "      <td>0</td>\n",
       "      <td>3</td>\n",
       "      <td>0</td>\n",
       "      <td>0</td>\n",
       "      <td>0</td>\n",
       "      <td>0</td>\n",
       "      <td>20</td>\n",
       "      <td>52</td>\n",
       "      <td>0</td>\n",
       "      <td>25</td>\n",
       "      <td>100</td>\n",
       "    </tr>\n",
       "    <tr>\n",
       "      <th>4</th>\n",
       "      <td>ANDHRA PRADESH</td>\n",
       "      <td>EAST GODAVARI</td>\n",
       "      <td>2001</td>\n",
       "      <td>1</td>\n",
       "      <td>3</td>\n",
       "      <td>0</td>\n",
       "      <td>0</td>\n",
       "      <td>0</td>\n",
       "      <td>0</td>\n",
       "      <td>3</td>\n",
       "      <td>12</td>\n",
       "      <td>63</td>\n",
       "      <td>7</td>\n",
       "      <td>89</td>\n",
       "    </tr>\n",
       "  </tbody>\n",
       "</table>\n",
       "</div>"
      ],
      "text/plain": [
       "         STATE/UT       DISTRICT  Year  Murder  Rape  \\\n",
       "0  ANDHRA PRADESH       ADILABAD  2001       0     1   \n",
       "1  ANDHRA PRADESH      ANANTAPUR  2001       0     4   \n",
       "2  ANDHRA PRADESH       CHITTOOR  2001       3     3   \n",
       "3  ANDHRA PRADESH       CUDDAPAH  2001       0     3   \n",
       "4  ANDHRA PRADESH  EAST GODAVARI  2001       1     3   \n",
       "\n",
       "   Kidnapping and Abduction  Dacoity  Robbery  Arson  Hurt  \\\n",
       "0                         4        0        0      0     3   \n",
       "1                         0        0        0      0    49   \n",
       "2                         0        0        0      0    38   \n",
       "3                         0        0        0      0    20   \n",
       "4                         0        0        0      0     3   \n",
       "\n",
       "   Prevention of atrocities (POA) Act  Protection of Civil Rights (PCR) Act  \\\n",
       "0                                   0                                    15   \n",
       "1                                  21                                     0   \n",
       "2                                  36                                     0   \n",
       "3                                  52                                     0   \n",
       "4                                  12                                    63   \n",
       "\n",
       "   Other Crimes Against SCs  Total  \n",
       "0                        32     55  \n",
       "1                        53    127  \n",
       "2                        34    114  \n",
       "3                        25    100  \n",
       "4                         7     89  "
      ]
     },
     "execution_count": 283,
     "metadata": {},
     "output_type": "execute_result"
    }
   ],
   "source": [
    "df.head()"
   ]
  },
  {
   "cell_type": "code",
   "execution_count": 284,
   "id": "ec4793f5",
   "metadata": {},
   "outputs": [
    {
     "data": {
      "text/html": [
       "<div>\n",
       "<style scoped>\n",
       "    .dataframe tbody tr th:only-of-type {\n",
       "        vertical-align: middle;\n",
       "    }\n",
       "\n",
       "    .dataframe tbody tr th {\n",
       "        vertical-align: top;\n",
       "    }\n",
       "\n",
       "    .dataframe thead th {\n",
       "        text-align: right;\n",
       "    }\n",
       "</style>\n",
       "<table border=\"1\" class=\"dataframe\">\n",
       "  <thead>\n",
       "    <tr style=\"text-align: right;\">\n",
       "      <th></th>\n",
       "      <th>Total</th>\n",
       "    </tr>\n",
       "    <tr>\n",
       "      <th>DISTRICT</th>\n",
       "      <th></th>\n",
       "    </tr>\n",
       "  </thead>\n",
       "  <tbody>\n",
       "    <tr>\n",
       "      <th>24 PARGANAS NORTH</th>\n",
       "      <td>22</td>\n",
       "    </tr>\n",
       "    <tr>\n",
       "      <th>24 PARGANAS SOUTH</th>\n",
       "      <td>7</td>\n",
       "    </tr>\n",
       "    <tr>\n",
       "      <th>A and N ISLANDS</th>\n",
       "      <td>0</td>\n",
       "    </tr>\n",
       "    <tr>\n",
       "      <th>ADILABAD</th>\n",
       "      <td>686</td>\n",
       "    </tr>\n",
       "    <tr>\n",
       "      <th>AGRA</th>\n",
       "      <td>1943</td>\n",
       "    </tr>\n",
       "    <tr>\n",
       "      <th>...</th>\n",
       "      <td>...</td>\n",
       "    </tr>\n",
       "    <tr>\n",
       "      <th>WOKHA</th>\n",
       "      <td>2</td>\n",
       "    </tr>\n",
       "    <tr>\n",
       "      <th>YADGIRI</th>\n",
       "      <td>253</td>\n",
       "    </tr>\n",
       "    <tr>\n",
       "      <th>YAMUNANAGAR</th>\n",
       "      <td>84</td>\n",
       "    </tr>\n",
       "    <tr>\n",
       "      <th>YAVATMAL</th>\n",
       "      <td>286</td>\n",
       "    </tr>\n",
       "    <tr>\n",
       "      <th>ZUNHEBOTO</th>\n",
       "      <td>1</td>\n",
       "    </tr>\n",
       "  </tbody>\n",
       "</table>\n",
       "<p>812 rows × 1 columns</p>\n",
       "</div>"
      ],
      "text/plain": [
       "                   Total\n",
       "DISTRICT                \n",
       "24 PARGANAS NORTH     22\n",
       "24 PARGANAS SOUTH      7\n",
       "A and N ISLANDS        0\n",
       "ADILABAD             686\n",
       "AGRA                1943\n",
       "...                  ...\n",
       "WOKHA                  2\n",
       "YADGIRI              253\n",
       "YAMUNANAGAR           84\n",
       "YAVATMAL             286\n",
       "ZUNHEBOTO              1\n",
       "\n",
       "[812 rows x 1 columns]"
      ]
     },
     "execution_count": 284,
     "metadata": {},
     "output_type": "execute_result"
    }
   ],
   "source": [
    "District= pd.DataFrame(df.groupby(['DISTRICT'])['Total'].sum())\n",
    "District"
   ]
  },
  {
   "cell_type": "code",
   "execution_count": 285,
   "id": "6c0e1179",
   "metadata": {},
   "outputs": [
    {
     "data": {
      "application/vnd.plotly.v1+json": {
       "config": {
        "plotlyServerURL": "https://plot.ly"
       },
       "data": [
        {
         "domain": {
          "x": [
           0,
           1
          ],
          "y": [
           0,
           1
          ]
         },
         "hovertemplate": "DISTRICT=%{label}<br>Total=%{value}<extra></extra>",
         "labels": [
          "BHARATPUR",
          "SITAPUR",
          "GANGANAGAR",
          "KURNOOL",
          "UJJAIN",
          "KARIMNAGAR",
          "ALWAR",
          "GULBARGA",
          "WEST GODAVARI",
          "NALGONDA"
         ],
         "legendgroup": "",
         "name": "",
         "showlegend": true,
         "type": "pie",
         "values": [
          5143,
          3654,
          3625,
          3450,
          3441,
          3331,
          3272,
          2810,
          2738,
          2692
         ]
        }
       ],
       "layout": {
        "font": {
         "color": "red",
         "family": "Times New Roman",
         "size": 10
        },
        "legend": {
         "tracegroupgap": 0
        },
        "paper_bgcolor": "black",
        "template": {
         "data": {
          "bar": [
           {
            "error_x": {
             "color": "#f2f5fa"
            },
            "error_y": {
             "color": "#f2f5fa"
            },
            "marker": {
             "line": {
              "color": "rgb(17,17,17)",
              "width": 0.5
             },
             "pattern": {
              "fillmode": "overlay",
              "size": 10,
              "solidity": 0.2
             }
            },
            "type": "bar"
           }
          ],
          "barpolar": [
           {
            "marker": {
             "line": {
              "color": "rgb(17,17,17)",
              "width": 0.5
             },
             "pattern": {
              "fillmode": "overlay",
              "size": 10,
              "solidity": 0.2
             }
            },
            "type": "barpolar"
           }
          ],
          "carpet": [
           {
            "aaxis": {
             "endlinecolor": "#A2B1C6",
             "gridcolor": "#506784",
             "linecolor": "#506784",
             "minorgridcolor": "#506784",
             "startlinecolor": "#A2B1C6"
            },
            "baxis": {
             "endlinecolor": "#A2B1C6",
             "gridcolor": "#506784",
             "linecolor": "#506784",
             "minorgridcolor": "#506784",
             "startlinecolor": "#A2B1C6"
            },
            "type": "carpet"
           }
          ],
          "choropleth": [
           {
            "colorbar": {
             "outlinewidth": 0,
             "ticks": ""
            },
            "type": "choropleth"
           }
          ],
          "contour": [
           {
            "colorbar": {
             "outlinewidth": 0,
             "ticks": ""
            },
            "colorscale": [
             [
              0,
              "#0d0887"
             ],
             [
              0.1111111111111111,
              "#46039f"
             ],
             [
              0.2222222222222222,
              "#7201a8"
             ],
             [
              0.3333333333333333,
              "#9c179e"
             ],
             [
              0.4444444444444444,
              "#bd3786"
             ],
             [
              0.5555555555555556,
              "#d8576b"
             ],
             [
              0.6666666666666666,
              "#ed7953"
             ],
             [
              0.7777777777777778,
              "#fb9f3a"
             ],
             [
              0.8888888888888888,
              "#fdca26"
             ],
             [
              1,
              "#f0f921"
             ]
            ],
            "type": "contour"
           }
          ],
          "contourcarpet": [
           {
            "colorbar": {
             "outlinewidth": 0,
             "ticks": ""
            },
            "type": "contourcarpet"
           }
          ],
          "heatmap": [
           {
            "colorbar": {
             "outlinewidth": 0,
             "ticks": ""
            },
            "colorscale": [
             [
              0,
              "#0d0887"
             ],
             [
              0.1111111111111111,
              "#46039f"
             ],
             [
              0.2222222222222222,
              "#7201a8"
             ],
             [
              0.3333333333333333,
              "#9c179e"
             ],
             [
              0.4444444444444444,
              "#bd3786"
             ],
             [
              0.5555555555555556,
              "#d8576b"
             ],
             [
              0.6666666666666666,
              "#ed7953"
             ],
             [
              0.7777777777777778,
              "#fb9f3a"
             ],
             [
              0.8888888888888888,
              "#fdca26"
             ],
             [
              1,
              "#f0f921"
             ]
            ],
            "type": "heatmap"
           }
          ],
          "heatmapgl": [
           {
            "colorbar": {
             "outlinewidth": 0,
             "ticks": ""
            },
            "colorscale": [
             [
              0,
              "#0d0887"
             ],
             [
              0.1111111111111111,
              "#46039f"
             ],
             [
              0.2222222222222222,
              "#7201a8"
             ],
             [
              0.3333333333333333,
              "#9c179e"
             ],
             [
              0.4444444444444444,
              "#bd3786"
             ],
             [
              0.5555555555555556,
              "#d8576b"
             ],
             [
              0.6666666666666666,
              "#ed7953"
             ],
             [
              0.7777777777777778,
              "#fb9f3a"
             ],
             [
              0.8888888888888888,
              "#fdca26"
             ],
             [
              1,
              "#f0f921"
             ]
            ],
            "type": "heatmapgl"
           }
          ],
          "histogram": [
           {
            "marker": {
             "pattern": {
              "fillmode": "overlay",
              "size": 10,
              "solidity": 0.2
             }
            },
            "type": "histogram"
           }
          ],
          "histogram2d": [
           {
            "colorbar": {
             "outlinewidth": 0,
             "ticks": ""
            },
            "colorscale": [
             [
              0,
              "#0d0887"
             ],
             [
              0.1111111111111111,
              "#46039f"
             ],
             [
              0.2222222222222222,
              "#7201a8"
             ],
             [
              0.3333333333333333,
              "#9c179e"
             ],
             [
              0.4444444444444444,
              "#bd3786"
             ],
             [
              0.5555555555555556,
              "#d8576b"
             ],
             [
              0.6666666666666666,
              "#ed7953"
             ],
             [
              0.7777777777777778,
              "#fb9f3a"
             ],
             [
              0.8888888888888888,
              "#fdca26"
             ],
             [
              1,
              "#f0f921"
             ]
            ],
            "type": "histogram2d"
           }
          ],
          "histogram2dcontour": [
           {
            "colorbar": {
             "outlinewidth": 0,
             "ticks": ""
            },
            "colorscale": [
             [
              0,
              "#0d0887"
             ],
             [
              0.1111111111111111,
              "#46039f"
             ],
             [
              0.2222222222222222,
              "#7201a8"
             ],
             [
              0.3333333333333333,
              "#9c179e"
             ],
             [
              0.4444444444444444,
              "#bd3786"
             ],
             [
              0.5555555555555556,
              "#d8576b"
             ],
             [
              0.6666666666666666,
              "#ed7953"
             ],
             [
              0.7777777777777778,
              "#fb9f3a"
             ],
             [
              0.8888888888888888,
              "#fdca26"
             ],
             [
              1,
              "#f0f921"
             ]
            ],
            "type": "histogram2dcontour"
           }
          ],
          "mesh3d": [
           {
            "colorbar": {
             "outlinewidth": 0,
             "ticks": ""
            },
            "type": "mesh3d"
           }
          ],
          "parcoords": [
           {
            "line": {
             "colorbar": {
              "outlinewidth": 0,
              "ticks": ""
             }
            },
            "type": "parcoords"
           }
          ],
          "pie": [
           {
            "automargin": true,
            "type": "pie"
           }
          ],
          "scatter": [
           {
            "marker": {
             "line": {
              "color": "#283442"
             }
            },
            "type": "scatter"
           }
          ],
          "scatter3d": [
           {
            "line": {
             "colorbar": {
              "outlinewidth": 0,
              "ticks": ""
             }
            },
            "marker": {
             "colorbar": {
              "outlinewidth": 0,
              "ticks": ""
             }
            },
            "type": "scatter3d"
           }
          ],
          "scattercarpet": [
           {
            "marker": {
             "colorbar": {
              "outlinewidth": 0,
              "ticks": ""
             }
            },
            "type": "scattercarpet"
           }
          ],
          "scattergeo": [
           {
            "marker": {
             "colorbar": {
              "outlinewidth": 0,
              "ticks": ""
             }
            },
            "type": "scattergeo"
           }
          ],
          "scattergl": [
           {
            "marker": {
             "line": {
              "color": "#283442"
             }
            },
            "type": "scattergl"
           }
          ],
          "scattermapbox": [
           {
            "marker": {
             "colorbar": {
              "outlinewidth": 0,
              "ticks": ""
             }
            },
            "type": "scattermapbox"
           }
          ],
          "scatterpolar": [
           {
            "marker": {
             "colorbar": {
              "outlinewidth": 0,
              "ticks": ""
             }
            },
            "type": "scatterpolar"
           }
          ],
          "scatterpolargl": [
           {
            "marker": {
             "colorbar": {
              "outlinewidth": 0,
              "ticks": ""
             }
            },
            "type": "scatterpolargl"
           }
          ],
          "scatterternary": [
           {
            "marker": {
             "colorbar": {
              "outlinewidth": 0,
              "ticks": ""
             }
            },
            "type": "scatterternary"
           }
          ],
          "surface": [
           {
            "colorbar": {
             "outlinewidth": 0,
             "ticks": ""
            },
            "colorscale": [
             [
              0,
              "#0d0887"
             ],
             [
              0.1111111111111111,
              "#46039f"
             ],
             [
              0.2222222222222222,
              "#7201a8"
             ],
             [
              0.3333333333333333,
              "#9c179e"
             ],
             [
              0.4444444444444444,
              "#bd3786"
             ],
             [
              0.5555555555555556,
              "#d8576b"
             ],
             [
              0.6666666666666666,
              "#ed7953"
             ],
             [
              0.7777777777777778,
              "#fb9f3a"
             ],
             [
              0.8888888888888888,
              "#fdca26"
             ],
             [
              1,
              "#f0f921"
             ]
            ],
            "type": "surface"
           }
          ],
          "table": [
           {
            "cells": {
             "fill": {
              "color": "#506784"
             },
             "line": {
              "color": "rgb(17,17,17)"
             }
            },
            "header": {
             "fill": {
              "color": "#2a3f5f"
             },
             "line": {
              "color": "rgb(17,17,17)"
             }
            },
            "type": "table"
           }
          ]
         },
         "layout": {
          "annotationdefaults": {
           "arrowcolor": "#f2f5fa",
           "arrowhead": 0,
           "arrowwidth": 1
          },
          "autotypenumbers": "strict",
          "coloraxis": {
           "colorbar": {
            "outlinewidth": 0,
            "ticks": ""
           }
          },
          "colorscale": {
           "diverging": [
            [
             0,
             "#8e0152"
            ],
            [
             0.1,
             "#c51b7d"
            ],
            [
             0.2,
             "#de77ae"
            ],
            [
             0.3,
             "#f1b6da"
            ],
            [
             0.4,
             "#fde0ef"
            ],
            [
             0.5,
             "#f7f7f7"
            ],
            [
             0.6,
             "#e6f5d0"
            ],
            [
             0.7,
             "#b8e186"
            ],
            [
             0.8,
             "#7fbc41"
            ],
            [
             0.9,
             "#4d9221"
            ],
            [
             1,
             "#276419"
            ]
           ],
           "sequential": [
            [
             0,
             "#0d0887"
            ],
            [
             0.1111111111111111,
             "#46039f"
            ],
            [
             0.2222222222222222,
             "#7201a8"
            ],
            [
             0.3333333333333333,
             "#9c179e"
            ],
            [
             0.4444444444444444,
             "#bd3786"
            ],
            [
             0.5555555555555556,
             "#d8576b"
            ],
            [
             0.6666666666666666,
             "#ed7953"
            ],
            [
             0.7777777777777778,
             "#fb9f3a"
            ],
            [
             0.8888888888888888,
             "#fdca26"
            ],
            [
             1,
             "#f0f921"
            ]
           ],
           "sequentialminus": [
            [
             0,
             "#0d0887"
            ],
            [
             0.1111111111111111,
             "#46039f"
            ],
            [
             0.2222222222222222,
             "#7201a8"
            ],
            [
             0.3333333333333333,
             "#9c179e"
            ],
            [
             0.4444444444444444,
             "#bd3786"
            ],
            [
             0.5555555555555556,
             "#d8576b"
            ],
            [
             0.6666666666666666,
             "#ed7953"
            ],
            [
             0.7777777777777778,
             "#fb9f3a"
            ],
            [
             0.8888888888888888,
             "#fdca26"
            ],
            [
             1,
             "#f0f921"
            ]
           ]
          },
          "colorway": [
           "#636efa",
           "#EF553B",
           "#00cc96",
           "#ab63fa",
           "#FFA15A",
           "#19d3f3",
           "#FF6692",
           "#B6E880",
           "#FF97FF",
           "#FECB52"
          ],
          "font": {
           "color": "#f2f5fa"
          },
          "geo": {
           "bgcolor": "rgb(17,17,17)",
           "lakecolor": "rgb(17,17,17)",
           "landcolor": "rgb(17,17,17)",
           "showlakes": true,
           "showland": true,
           "subunitcolor": "#506784"
          },
          "hoverlabel": {
           "align": "left"
          },
          "hovermode": "closest",
          "mapbox": {
           "style": "dark"
          },
          "paper_bgcolor": "rgb(17,17,17)",
          "plot_bgcolor": "rgb(17,17,17)",
          "polar": {
           "angularaxis": {
            "gridcolor": "#506784",
            "linecolor": "#506784",
            "ticks": ""
           },
           "bgcolor": "rgb(17,17,17)",
           "radialaxis": {
            "gridcolor": "#506784",
            "linecolor": "#506784",
            "ticks": ""
           }
          },
          "scene": {
           "xaxis": {
            "backgroundcolor": "rgb(17,17,17)",
            "gridcolor": "#506784",
            "gridwidth": 2,
            "linecolor": "#506784",
            "showbackground": true,
            "ticks": "",
            "zerolinecolor": "#C8D4E3"
           },
           "yaxis": {
            "backgroundcolor": "rgb(17,17,17)",
            "gridcolor": "#506784",
            "gridwidth": 2,
            "linecolor": "#506784",
            "showbackground": true,
            "ticks": "",
            "zerolinecolor": "#C8D4E3"
           },
           "zaxis": {
            "backgroundcolor": "rgb(17,17,17)",
            "gridcolor": "#506784",
            "gridwidth": 2,
            "linecolor": "#506784",
            "showbackground": true,
            "ticks": "",
            "zerolinecolor": "#C8D4E3"
           }
          },
          "shapedefaults": {
           "line": {
            "color": "#f2f5fa"
           }
          },
          "sliderdefaults": {
           "bgcolor": "#C8D4E3",
           "bordercolor": "rgb(17,17,17)",
           "borderwidth": 1,
           "tickwidth": 0
          },
          "ternary": {
           "aaxis": {
            "gridcolor": "#506784",
            "linecolor": "#506784",
            "ticks": ""
           },
           "baxis": {
            "gridcolor": "#506784",
            "linecolor": "#506784",
            "ticks": ""
           },
           "bgcolor": "rgb(17,17,17)",
           "caxis": {
            "gridcolor": "#506784",
            "linecolor": "#506784",
            "ticks": ""
           }
          },
          "title": {
           "x": 0.05
          },
          "updatemenudefaults": {
           "bgcolor": "#506784",
           "borderwidth": 0
          },
          "xaxis": {
           "automargin": true,
           "gridcolor": "#283442",
           "linecolor": "#506784",
           "ticks": "",
           "title": {
            "standoff": 15
           },
           "zerolinecolor": "#283442",
           "zerolinewidth": 2
          },
          "yaxis": {
           "automargin": true,
           "gridcolor": "#283442",
           "linecolor": "#506784",
           "ticks": "",
           "title": {
            "standoff": 15
           },
           "zerolinecolor": "#283442",
           "zerolinewidth": 2
          }
         }
        },
        "title": {
         "font": {
          "family": "Aerial",
          "size": 24
         },
         "text": "Top 10 district with highest crime against SC Caste (%) in top 10 states"
        }
       }
      },
      "text/html": [
       "<div>                            <div id=\"41aed6c9-5d9b-41ea-a770-bbcec428ed1d\" class=\"plotly-graph-div\" style=\"height:525px; width:100%;\"></div>            <script type=\"text/javascript\">                require([\"plotly\"], function(Plotly) {                    window.PLOTLYENV=window.PLOTLYENV || {};                                    if (document.getElementById(\"41aed6c9-5d9b-41ea-a770-bbcec428ed1d\")) {                    Plotly.newPlot(                        \"41aed6c9-5d9b-41ea-a770-bbcec428ed1d\",                        [{\"domain\":{\"x\":[0.0,1.0],\"y\":[0.0,1.0]},\"hovertemplate\":\"DISTRICT=%{label}<br>Total=%{value}<extra></extra>\",\"labels\":[\"BHARATPUR\",\"SITAPUR\",\"GANGANAGAR\",\"KURNOOL\",\"UJJAIN\",\"KARIMNAGAR\",\"ALWAR\",\"GULBARGA\",\"WEST GODAVARI\",\"NALGONDA\"],\"legendgroup\":\"\",\"name\":\"\",\"showlegend\":true,\"values\":[5143,3654,3625,3450,3441,3331,3272,2810,2738,2692],\"type\":\"pie\"}],                        {\"template\":{\"data\":{\"barpolar\":[{\"marker\":{\"line\":{\"color\":\"rgb(17,17,17)\",\"width\":0.5},\"pattern\":{\"fillmode\":\"overlay\",\"size\":10,\"solidity\":0.2}},\"type\":\"barpolar\"}],\"bar\":[{\"error_x\":{\"color\":\"#f2f5fa\"},\"error_y\":{\"color\":\"#f2f5fa\"},\"marker\":{\"line\":{\"color\":\"rgb(17,17,17)\",\"width\":0.5},\"pattern\":{\"fillmode\":\"overlay\",\"size\":10,\"solidity\":0.2}},\"type\":\"bar\"}],\"carpet\":[{\"aaxis\":{\"endlinecolor\":\"#A2B1C6\",\"gridcolor\":\"#506784\",\"linecolor\":\"#506784\",\"minorgridcolor\":\"#506784\",\"startlinecolor\":\"#A2B1C6\"},\"baxis\":{\"endlinecolor\":\"#A2B1C6\",\"gridcolor\":\"#506784\",\"linecolor\":\"#506784\",\"minorgridcolor\":\"#506784\",\"startlinecolor\":\"#A2B1C6\"},\"type\":\"carpet\"}],\"choropleth\":[{\"colorbar\":{\"outlinewidth\":0,\"ticks\":\"\"},\"type\":\"choropleth\"}],\"contourcarpet\":[{\"colorbar\":{\"outlinewidth\":0,\"ticks\":\"\"},\"type\":\"contourcarpet\"}],\"contour\":[{\"colorbar\":{\"outlinewidth\":0,\"ticks\":\"\"},\"colorscale\":[[0.0,\"#0d0887\"],[0.1111111111111111,\"#46039f\"],[0.2222222222222222,\"#7201a8\"],[0.3333333333333333,\"#9c179e\"],[0.4444444444444444,\"#bd3786\"],[0.5555555555555556,\"#d8576b\"],[0.6666666666666666,\"#ed7953\"],[0.7777777777777778,\"#fb9f3a\"],[0.8888888888888888,\"#fdca26\"],[1.0,\"#f0f921\"]],\"type\":\"contour\"}],\"heatmapgl\":[{\"colorbar\":{\"outlinewidth\":0,\"ticks\":\"\"},\"colorscale\":[[0.0,\"#0d0887\"],[0.1111111111111111,\"#46039f\"],[0.2222222222222222,\"#7201a8\"],[0.3333333333333333,\"#9c179e\"],[0.4444444444444444,\"#bd3786\"],[0.5555555555555556,\"#d8576b\"],[0.6666666666666666,\"#ed7953\"],[0.7777777777777778,\"#fb9f3a\"],[0.8888888888888888,\"#fdca26\"],[1.0,\"#f0f921\"]],\"type\":\"heatmapgl\"}],\"heatmap\":[{\"colorbar\":{\"outlinewidth\":0,\"ticks\":\"\"},\"colorscale\":[[0.0,\"#0d0887\"],[0.1111111111111111,\"#46039f\"],[0.2222222222222222,\"#7201a8\"],[0.3333333333333333,\"#9c179e\"],[0.4444444444444444,\"#bd3786\"],[0.5555555555555556,\"#d8576b\"],[0.6666666666666666,\"#ed7953\"],[0.7777777777777778,\"#fb9f3a\"],[0.8888888888888888,\"#fdca26\"],[1.0,\"#f0f921\"]],\"type\":\"heatmap\"}],\"histogram2dcontour\":[{\"colorbar\":{\"outlinewidth\":0,\"ticks\":\"\"},\"colorscale\":[[0.0,\"#0d0887\"],[0.1111111111111111,\"#46039f\"],[0.2222222222222222,\"#7201a8\"],[0.3333333333333333,\"#9c179e\"],[0.4444444444444444,\"#bd3786\"],[0.5555555555555556,\"#d8576b\"],[0.6666666666666666,\"#ed7953\"],[0.7777777777777778,\"#fb9f3a\"],[0.8888888888888888,\"#fdca26\"],[1.0,\"#f0f921\"]],\"type\":\"histogram2dcontour\"}],\"histogram2d\":[{\"colorbar\":{\"outlinewidth\":0,\"ticks\":\"\"},\"colorscale\":[[0.0,\"#0d0887\"],[0.1111111111111111,\"#46039f\"],[0.2222222222222222,\"#7201a8\"],[0.3333333333333333,\"#9c179e\"],[0.4444444444444444,\"#bd3786\"],[0.5555555555555556,\"#d8576b\"],[0.6666666666666666,\"#ed7953\"],[0.7777777777777778,\"#fb9f3a\"],[0.8888888888888888,\"#fdca26\"],[1.0,\"#f0f921\"]],\"type\":\"histogram2d\"}],\"histogram\":[{\"marker\":{\"pattern\":{\"fillmode\":\"overlay\",\"size\":10,\"solidity\":0.2}},\"type\":\"histogram\"}],\"mesh3d\":[{\"colorbar\":{\"outlinewidth\":0,\"ticks\":\"\"},\"type\":\"mesh3d\"}],\"parcoords\":[{\"line\":{\"colorbar\":{\"outlinewidth\":0,\"ticks\":\"\"}},\"type\":\"parcoords\"}],\"pie\":[{\"automargin\":true,\"type\":\"pie\"}],\"scatter3d\":[{\"line\":{\"colorbar\":{\"outlinewidth\":0,\"ticks\":\"\"}},\"marker\":{\"colorbar\":{\"outlinewidth\":0,\"ticks\":\"\"}},\"type\":\"scatter3d\"}],\"scattercarpet\":[{\"marker\":{\"colorbar\":{\"outlinewidth\":0,\"ticks\":\"\"}},\"type\":\"scattercarpet\"}],\"scattergeo\":[{\"marker\":{\"colorbar\":{\"outlinewidth\":0,\"ticks\":\"\"}},\"type\":\"scattergeo\"}],\"scattergl\":[{\"marker\":{\"line\":{\"color\":\"#283442\"}},\"type\":\"scattergl\"}],\"scattermapbox\":[{\"marker\":{\"colorbar\":{\"outlinewidth\":0,\"ticks\":\"\"}},\"type\":\"scattermapbox\"}],\"scatterpolargl\":[{\"marker\":{\"colorbar\":{\"outlinewidth\":0,\"ticks\":\"\"}},\"type\":\"scatterpolargl\"}],\"scatterpolar\":[{\"marker\":{\"colorbar\":{\"outlinewidth\":0,\"ticks\":\"\"}},\"type\":\"scatterpolar\"}],\"scatter\":[{\"marker\":{\"line\":{\"color\":\"#283442\"}},\"type\":\"scatter\"}],\"scatterternary\":[{\"marker\":{\"colorbar\":{\"outlinewidth\":0,\"ticks\":\"\"}},\"type\":\"scatterternary\"}],\"surface\":[{\"colorbar\":{\"outlinewidth\":0,\"ticks\":\"\"},\"colorscale\":[[0.0,\"#0d0887\"],[0.1111111111111111,\"#46039f\"],[0.2222222222222222,\"#7201a8\"],[0.3333333333333333,\"#9c179e\"],[0.4444444444444444,\"#bd3786\"],[0.5555555555555556,\"#d8576b\"],[0.6666666666666666,\"#ed7953\"],[0.7777777777777778,\"#fb9f3a\"],[0.8888888888888888,\"#fdca26\"],[1.0,\"#f0f921\"]],\"type\":\"surface\"}],\"table\":[{\"cells\":{\"fill\":{\"color\":\"#506784\"},\"line\":{\"color\":\"rgb(17,17,17)\"}},\"header\":{\"fill\":{\"color\":\"#2a3f5f\"},\"line\":{\"color\":\"rgb(17,17,17)\"}},\"type\":\"table\"}]},\"layout\":{\"annotationdefaults\":{\"arrowcolor\":\"#f2f5fa\",\"arrowhead\":0,\"arrowwidth\":1},\"autotypenumbers\":\"strict\",\"coloraxis\":{\"colorbar\":{\"outlinewidth\":0,\"ticks\":\"\"}},\"colorscale\":{\"diverging\":[[0,\"#8e0152\"],[0.1,\"#c51b7d\"],[0.2,\"#de77ae\"],[0.3,\"#f1b6da\"],[0.4,\"#fde0ef\"],[0.5,\"#f7f7f7\"],[0.6,\"#e6f5d0\"],[0.7,\"#b8e186\"],[0.8,\"#7fbc41\"],[0.9,\"#4d9221\"],[1,\"#276419\"]],\"sequential\":[[0.0,\"#0d0887\"],[0.1111111111111111,\"#46039f\"],[0.2222222222222222,\"#7201a8\"],[0.3333333333333333,\"#9c179e\"],[0.4444444444444444,\"#bd3786\"],[0.5555555555555556,\"#d8576b\"],[0.6666666666666666,\"#ed7953\"],[0.7777777777777778,\"#fb9f3a\"],[0.8888888888888888,\"#fdca26\"],[1.0,\"#f0f921\"]],\"sequentialminus\":[[0.0,\"#0d0887\"],[0.1111111111111111,\"#46039f\"],[0.2222222222222222,\"#7201a8\"],[0.3333333333333333,\"#9c179e\"],[0.4444444444444444,\"#bd3786\"],[0.5555555555555556,\"#d8576b\"],[0.6666666666666666,\"#ed7953\"],[0.7777777777777778,\"#fb9f3a\"],[0.8888888888888888,\"#fdca26\"],[1.0,\"#f0f921\"]]},\"colorway\":[\"#636efa\",\"#EF553B\",\"#00cc96\",\"#ab63fa\",\"#FFA15A\",\"#19d3f3\",\"#FF6692\",\"#B6E880\",\"#FF97FF\",\"#FECB52\"],\"font\":{\"color\":\"#f2f5fa\"},\"geo\":{\"bgcolor\":\"rgb(17,17,17)\",\"lakecolor\":\"rgb(17,17,17)\",\"landcolor\":\"rgb(17,17,17)\",\"showlakes\":true,\"showland\":true,\"subunitcolor\":\"#506784\"},\"hoverlabel\":{\"align\":\"left\"},\"hovermode\":\"closest\",\"mapbox\":{\"style\":\"dark\"},\"paper_bgcolor\":\"rgb(17,17,17)\",\"plot_bgcolor\":\"rgb(17,17,17)\",\"polar\":{\"angularaxis\":{\"gridcolor\":\"#506784\",\"linecolor\":\"#506784\",\"ticks\":\"\"},\"bgcolor\":\"rgb(17,17,17)\",\"radialaxis\":{\"gridcolor\":\"#506784\",\"linecolor\":\"#506784\",\"ticks\":\"\"}},\"scene\":{\"xaxis\":{\"backgroundcolor\":\"rgb(17,17,17)\",\"gridcolor\":\"#506784\",\"gridwidth\":2,\"linecolor\":\"#506784\",\"showbackground\":true,\"ticks\":\"\",\"zerolinecolor\":\"#C8D4E3\"},\"yaxis\":{\"backgroundcolor\":\"rgb(17,17,17)\",\"gridcolor\":\"#506784\",\"gridwidth\":2,\"linecolor\":\"#506784\",\"showbackground\":true,\"ticks\":\"\",\"zerolinecolor\":\"#C8D4E3\"},\"zaxis\":{\"backgroundcolor\":\"rgb(17,17,17)\",\"gridcolor\":\"#506784\",\"gridwidth\":2,\"linecolor\":\"#506784\",\"showbackground\":true,\"ticks\":\"\",\"zerolinecolor\":\"#C8D4E3\"}},\"shapedefaults\":{\"line\":{\"color\":\"#f2f5fa\"}},\"sliderdefaults\":{\"bgcolor\":\"#C8D4E3\",\"bordercolor\":\"rgb(17,17,17)\",\"borderwidth\":1,\"tickwidth\":0},\"ternary\":{\"aaxis\":{\"gridcolor\":\"#506784\",\"linecolor\":\"#506784\",\"ticks\":\"\"},\"baxis\":{\"gridcolor\":\"#506784\",\"linecolor\":\"#506784\",\"ticks\":\"\"},\"bgcolor\":\"rgb(17,17,17)\",\"caxis\":{\"gridcolor\":\"#506784\",\"linecolor\":\"#506784\",\"ticks\":\"\"}},\"title\":{\"x\":0.05},\"updatemenudefaults\":{\"bgcolor\":\"#506784\",\"borderwidth\":0},\"xaxis\":{\"automargin\":true,\"gridcolor\":\"#283442\",\"linecolor\":\"#506784\",\"ticks\":\"\",\"title\":{\"standoff\":15},\"zerolinecolor\":\"#283442\",\"zerolinewidth\":2},\"yaxis\":{\"automargin\":true,\"gridcolor\":\"#283442\",\"linecolor\":\"#506784\",\"ticks\":\"\",\"title\":{\"standoff\":15},\"zerolinecolor\":\"#283442\",\"zerolinewidth\":2}}},\"legend\":{\"tracegroupgap\":0},\"title\":{\"text\":\"Top 10 district with highest crime against SC Caste (%) in top 10 states\",\"font\":{\"size\":24,\"family\":\"Aerial\"}},\"font\":{\"color\":\"red\",\"family\":\"Times New Roman\",\"size\":10},\"paper_bgcolor\":\"black\"},                        {\"responsive\": true}                    ).then(function(){\n",
       "                            \n",
       "var gd = document.getElementById('41aed6c9-5d9b-41ea-a770-bbcec428ed1d');\n",
       "var x = new MutationObserver(function (mutations, observer) {{\n",
       "        var display = window.getComputedStyle(gd).display;\n",
       "        if (!display || display === 'none') {{\n",
       "            console.log([gd, 'removed!']);\n",
       "            Plotly.purge(gd);\n",
       "            observer.disconnect();\n",
       "        }}\n",
       "}});\n",
       "\n",
       "// Listen for the removal of the full notebook cells\n",
       "var notebookContainer = gd.closest('#notebook-container');\n",
       "if (notebookContainer) {{\n",
       "    x.observe(notebookContainer, {childList: true});\n",
       "}}\n",
       "\n",
       "// Listen for the clearing of the current output cell\n",
       "var outputEl = gd.closest('.output');\n",
       "if (outputEl) {{\n",
       "    x.observe(outputEl, {childList: true});\n",
       "}}\n",
       "\n",
       "                        })                };                });            </script>        </div>"
      ]
     },
     "metadata": {},
     "output_type": "display_data"
    }
   ],
   "source": [
    "#Top 10 district with highest crime against SC Caste \n",
    "import plotly.express as px\n",
    "df_top10 = District.sort_values('Total',ascending=False).head(10)\n",
    "fig = px.pie(df_top10,values='Total',names=df_top10.index,title = 'PIECHART',template='plotly_dark')\n",
    "fig.update_layout(title = 'Top 10 district with highest crime against SC Caste (%) in top 10 states',title_font_size=24,paper_bgcolor='black',\n",
    "                     title_font_family='Aerial',font={'color':'red','family':'Times New Roman','size':10})\n",
    "import plotly.io as pio#to display a figure defined by a dictuse the low level plotly.io.show\n",
    "pio.show(fig)"
   ]
  },
  {
   "cell_type": "code",
   "execution_count": 286,
   "id": "58c23f88",
   "metadata": {},
   "outputs": [],
   "source": [
    "States= pd.DataFrame(df.groupby(['STATE/UT'])['Total'].sum())\n"
   ]
  },
  {
   "cell_type": "code",
   "execution_count": 287,
   "id": "6faf8072",
   "metadata": {},
   "outputs": [
    {
     "data": {
      "application/vnd.plotly.v1+json": {
       "config": {
        "plotlyServerURL": "https://plot.ly"
       },
       "data": [
        {
         "domain": {
          "x": [
           0,
           1
          ],
          "y": [
           0,
           1
          ]
         },
         "hovertemplate": "STATE/UT=%{label}<br>Total=%{value}<extra></extra>",
         "labels": [
          "UTTAR PRADESH",
          "RAJASTHAN",
          "MADHYA PRADESH",
          "ANDHRA PRADESH",
          "BIHAR",
          "KARNATAKA",
          "TAMIL NADU",
          "ODISHA",
          "GUJARAT",
          "MAHARASHTRA"
         ],
         "legendgroup": "",
         "name": "",
         "showlegend": true,
         "type": "pie",
         "values": [
          76473,
          55002,
          49810,
          43419,
          33341,
          24406,
          18623,
          18406,
          13940,
          11409
         ]
        }
       ],
       "layout": {
        "font": {
         "color": "red",
         "family": "Times New Roman",
         "size": 10
        },
        "legend": {
         "tracegroupgap": 0
        },
        "paper_bgcolor": "black",
        "template": {
         "data": {
          "bar": [
           {
            "error_x": {
             "color": "#f2f5fa"
            },
            "error_y": {
             "color": "#f2f5fa"
            },
            "marker": {
             "line": {
              "color": "rgb(17,17,17)",
              "width": 0.5
             },
             "pattern": {
              "fillmode": "overlay",
              "size": 10,
              "solidity": 0.2
             }
            },
            "type": "bar"
           }
          ],
          "barpolar": [
           {
            "marker": {
             "line": {
              "color": "rgb(17,17,17)",
              "width": 0.5
             },
             "pattern": {
              "fillmode": "overlay",
              "size": 10,
              "solidity": 0.2
             }
            },
            "type": "barpolar"
           }
          ],
          "carpet": [
           {
            "aaxis": {
             "endlinecolor": "#A2B1C6",
             "gridcolor": "#506784",
             "linecolor": "#506784",
             "minorgridcolor": "#506784",
             "startlinecolor": "#A2B1C6"
            },
            "baxis": {
             "endlinecolor": "#A2B1C6",
             "gridcolor": "#506784",
             "linecolor": "#506784",
             "minorgridcolor": "#506784",
             "startlinecolor": "#A2B1C6"
            },
            "type": "carpet"
           }
          ],
          "choropleth": [
           {
            "colorbar": {
             "outlinewidth": 0,
             "ticks": ""
            },
            "type": "choropleth"
           }
          ],
          "contour": [
           {
            "colorbar": {
             "outlinewidth": 0,
             "ticks": ""
            },
            "colorscale": [
             [
              0,
              "#0d0887"
             ],
             [
              0.1111111111111111,
              "#46039f"
             ],
             [
              0.2222222222222222,
              "#7201a8"
             ],
             [
              0.3333333333333333,
              "#9c179e"
             ],
             [
              0.4444444444444444,
              "#bd3786"
             ],
             [
              0.5555555555555556,
              "#d8576b"
             ],
             [
              0.6666666666666666,
              "#ed7953"
             ],
             [
              0.7777777777777778,
              "#fb9f3a"
             ],
             [
              0.8888888888888888,
              "#fdca26"
             ],
             [
              1,
              "#f0f921"
             ]
            ],
            "type": "contour"
           }
          ],
          "contourcarpet": [
           {
            "colorbar": {
             "outlinewidth": 0,
             "ticks": ""
            },
            "type": "contourcarpet"
           }
          ],
          "heatmap": [
           {
            "colorbar": {
             "outlinewidth": 0,
             "ticks": ""
            },
            "colorscale": [
             [
              0,
              "#0d0887"
             ],
             [
              0.1111111111111111,
              "#46039f"
             ],
             [
              0.2222222222222222,
              "#7201a8"
             ],
             [
              0.3333333333333333,
              "#9c179e"
             ],
             [
              0.4444444444444444,
              "#bd3786"
             ],
             [
              0.5555555555555556,
              "#d8576b"
             ],
             [
              0.6666666666666666,
              "#ed7953"
             ],
             [
              0.7777777777777778,
              "#fb9f3a"
             ],
             [
              0.8888888888888888,
              "#fdca26"
             ],
             [
              1,
              "#f0f921"
             ]
            ],
            "type": "heatmap"
           }
          ],
          "heatmapgl": [
           {
            "colorbar": {
             "outlinewidth": 0,
             "ticks": ""
            },
            "colorscale": [
             [
              0,
              "#0d0887"
             ],
             [
              0.1111111111111111,
              "#46039f"
             ],
             [
              0.2222222222222222,
              "#7201a8"
             ],
             [
              0.3333333333333333,
              "#9c179e"
             ],
             [
              0.4444444444444444,
              "#bd3786"
             ],
             [
              0.5555555555555556,
              "#d8576b"
             ],
             [
              0.6666666666666666,
              "#ed7953"
             ],
             [
              0.7777777777777778,
              "#fb9f3a"
             ],
             [
              0.8888888888888888,
              "#fdca26"
             ],
             [
              1,
              "#f0f921"
             ]
            ],
            "type": "heatmapgl"
           }
          ],
          "histogram": [
           {
            "marker": {
             "pattern": {
              "fillmode": "overlay",
              "size": 10,
              "solidity": 0.2
             }
            },
            "type": "histogram"
           }
          ],
          "histogram2d": [
           {
            "colorbar": {
             "outlinewidth": 0,
             "ticks": ""
            },
            "colorscale": [
             [
              0,
              "#0d0887"
             ],
             [
              0.1111111111111111,
              "#46039f"
             ],
             [
              0.2222222222222222,
              "#7201a8"
             ],
             [
              0.3333333333333333,
              "#9c179e"
             ],
             [
              0.4444444444444444,
              "#bd3786"
             ],
             [
              0.5555555555555556,
              "#d8576b"
             ],
             [
              0.6666666666666666,
              "#ed7953"
             ],
             [
              0.7777777777777778,
              "#fb9f3a"
             ],
             [
              0.8888888888888888,
              "#fdca26"
             ],
             [
              1,
              "#f0f921"
             ]
            ],
            "type": "histogram2d"
           }
          ],
          "histogram2dcontour": [
           {
            "colorbar": {
             "outlinewidth": 0,
             "ticks": ""
            },
            "colorscale": [
             [
              0,
              "#0d0887"
             ],
             [
              0.1111111111111111,
              "#46039f"
             ],
             [
              0.2222222222222222,
              "#7201a8"
             ],
             [
              0.3333333333333333,
              "#9c179e"
             ],
             [
              0.4444444444444444,
              "#bd3786"
             ],
             [
              0.5555555555555556,
              "#d8576b"
             ],
             [
              0.6666666666666666,
              "#ed7953"
             ],
             [
              0.7777777777777778,
              "#fb9f3a"
             ],
             [
              0.8888888888888888,
              "#fdca26"
             ],
             [
              1,
              "#f0f921"
             ]
            ],
            "type": "histogram2dcontour"
           }
          ],
          "mesh3d": [
           {
            "colorbar": {
             "outlinewidth": 0,
             "ticks": ""
            },
            "type": "mesh3d"
           }
          ],
          "parcoords": [
           {
            "line": {
             "colorbar": {
              "outlinewidth": 0,
              "ticks": ""
             }
            },
            "type": "parcoords"
           }
          ],
          "pie": [
           {
            "automargin": true,
            "type": "pie"
           }
          ],
          "scatter": [
           {
            "marker": {
             "line": {
              "color": "#283442"
             }
            },
            "type": "scatter"
           }
          ],
          "scatter3d": [
           {
            "line": {
             "colorbar": {
              "outlinewidth": 0,
              "ticks": ""
             }
            },
            "marker": {
             "colorbar": {
              "outlinewidth": 0,
              "ticks": ""
             }
            },
            "type": "scatter3d"
           }
          ],
          "scattercarpet": [
           {
            "marker": {
             "colorbar": {
              "outlinewidth": 0,
              "ticks": ""
             }
            },
            "type": "scattercarpet"
           }
          ],
          "scattergeo": [
           {
            "marker": {
             "colorbar": {
              "outlinewidth": 0,
              "ticks": ""
             }
            },
            "type": "scattergeo"
           }
          ],
          "scattergl": [
           {
            "marker": {
             "line": {
              "color": "#283442"
             }
            },
            "type": "scattergl"
           }
          ],
          "scattermapbox": [
           {
            "marker": {
             "colorbar": {
              "outlinewidth": 0,
              "ticks": ""
             }
            },
            "type": "scattermapbox"
           }
          ],
          "scatterpolar": [
           {
            "marker": {
             "colorbar": {
              "outlinewidth": 0,
              "ticks": ""
             }
            },
            "type": "scatterpolar"
           }
          ],
          "scatterpolargl": [
           {
            "marker": {
             "colorbar": {
              "outlinewidth": 0,
              "ticks": ""
             }
            },
            "type": "scatterpolargl"
           }
          ],
          "scatterternary": [
           {
            "marker": {
             "colorbar": {
              "outlinewidth": 0,
              "ticks": ""
             }
            },
            "type": "scatterternary"
           }
          ],
          "surface": [
           {
            "colorbar": {
             "outlinewidth": 0,
             "ticks": ""
            },
            "colorscale": [
             [
              0,
              "#0d0887"
             ],
             [
              0.1111111111111111,
              "#46039f"
             ],
             [
              0.2222222222222222,
              "#7201a8"
             ],
             [
              0.3333333333333333,
              "#9c179e"
             ],
             [
              0.4444444444444444,
              "#bd3786"
             ],
             [
              0.5555555555555556,
              "#d8576b"
             ],
             [
              0.6666666666666666,
              "#ed7953"
             ],
             [
              0.7777777777777778,
              "#fb9f3a"
             ],
             [
              0.8888888888888888,
              "#fdca26"
             ],
             [
              1,
              "#f0f921"
             ]
            ],
            "type": "surface"
           }
          ],
          "table": [
           {
            "cells": {
             "fill": {
              "color": "#506784"
             },
             "line": {
              "color": "rgb(17,17,17)"
             }
            },
            "header": {
             "fill": {
              "color": "#2a3f5f"
             },
             "line": {
              "color": "rgb(17,17,17)"
             }
            },
            "type": "table"
           }
          ]
         },
         "layout": {
          "annotationdefaults": {
           "arrowcolor": "#f2f5fa",
           "arrowhead": 0,
           "arrowwidth": 1
          },
          "autotypenumbers": "strict",
          "coloraxis": {
           "colorbar": {
            "outlinewidth": 0,
            "ticks": ""
           }
          },
          "colorscale": {
           "diverging": [
            [
             0,
             "#8e0152"
            ],
            [
             0.1,
             "#c51b7d"
            ],
            [
             0.2,
             "#de77ae"
            ],
            [
             0.3,
             "#f1b6da"
            ],
            [
             0.4,
             "#fde0ef"
            ],
            [
             0.5,
             "#f7f7f7"
            ],
            [
             0.6,
             "#e6f5d0"
            ],
            [
             0.7,
             "#b8e186"
            ],
            [
             0.8,
             "#7fbc41"
            ],
            [
             0.9,
             "#4d9221"
            ],
            [
             1,
             "#276419"
            ]
           ],
           "sequential": [
            [
             0,
             "#0d0887"
            ],
            [
             0.1111111111111111,
             "#46039f"
            ],
            [
             0.2222222222222222,
             "#7201a8"
            ],
            [
             0.3333333333333333,
             "#9c179e"
            ],
            [
             0.4444444444444444,
             "#bd3786"
            ],
            [
             0.5555555555555556,
             "#d8576b"
            ],
            [
             0.6666666666666666,
             "#ed7953"
            ],
            [
             0.7777777777777778,
             "#fb9f3a"
            ],
            [
             0.8888888888888888,
             "#fdca26"
            ],
            [
             1,
             "#f0f921"
            ]
           ],
           "sequentialminus": [
            [
             0,
             "#0d0887"
            ],
            [
             0.1111111111111111,
             "#46039f"
            ],
            [
             0.2222222222222222,
             "#7201a8"
            ],
            [
             0.3333333333333333,
             "#9c179e"
            ],
            [
             0.4444444444444444,
             "#bd3786"
            ],
            [
             0.5555555555555556,
             "#d8576b"
            ],
            [
             0.6666666666666666,
             "#ed7953"
            ],
            [
             0.7777777777777778,
             "#fb9f3a"
            ],
            [
             0.8888888888888888,
             "#fdca26"
            ],
            [
             1,
             "#f0f921"
            ]
           ]
          },
          "colorway": [
           "#636efa",
           "#EF553B",
           "#00cc96",
           "#ab63fa",
           "#FFA15A",
           "#19d3f3",
           "#FF6692",
           "#B6E880",
           "#FF97FF",
           "#FECB52"
          ],
          "font": {
           "color": "#f2f5fa"
          },
          "geo": {
           "bgcolor": "rgb(17,17,17)",
           "lakecolor": "rgb(17,17,17)",
           "landcolor": "rgb(17,17,17)",
           "showlakes": true,
           "showland": true,
           "subunitcolor": "#506784"
          },
          "hoverlabel": {
           "align": "left"
          },
          "hovermode": "closest",
          "mapbox": {
           "style": "dark"
          },
          "paper_bgcolor": "rgb(17,17,17)",
          "plot_bgcolor": "rgb(17,17,17)",
          "polar": {
           "angularaxis": {
            "gridcolor": "#506784",
            "linecolor": "#506784",
            "ticks": ""
           },
           "bgcolor": "rgb(17,17,17)",
           "radialaxis": {
            "gridcolor": "#506784",
            "linecolor": "#506784",
            "ticks": ""
           }
          },
          "scene": {
           "xaxis": {
            "backgroundcolor": "rgb(17,17,17)",
            "gridcolor": "#506784",
            "gridwidth": 2,
            "linecolor": "#506784",
            "showbackground": true,
            "ticks": "",
            "zerolinecolor": "#C8D4E3"
           },
           "yaxis": {
            "backgroundcolor": "rgb(17,17,17)",
            "gridcolor": "#506784",
            "gridwidth": 2,
            "linecolor": "#506784",
            "showbackground": true,
            "ticks": "",
            "zerolinecolor": "#C8D4E3"
           },
           "zaxis": {
            "backgroundcolor": "rgb(17,17,17)",
            "gridcolor": "#506784",
            "gridwidth": 2,
            "linecolor": "#506784",
            "showbackground": true,
            "ticks": "",
            "zerolinecolor": "#C8D4E3"
           }
          },
          "shapedefaults": {
           "line": {
            "color": "#f2f5fa"
           }
          },
          "sliderdefaults": {
           "bgcolor": "#C8D4E3",
           "bordercolor": "rgb(17,17,17)",
           "borderwidth": 1,
           "tickwidth": 0
          },
          "ternary": {
           "aaxis": {
            "gridcolor": "#506784",
            "linecolor": "#506784",
            "ticks": ""
           },
           "baxis": {
            "gridcolor": "#506784",
            "linecolor": "#506784",
            "ticks": ""
           },
           "bgcolor": "rgb(17,17,17)",
           "caxis": {
            "gridcolor": "#506784",
            "linecolor": "#506784",
            "ticks": ""
           }
          },
          "title": {
           "x": 0.05
          },
          "updatemenudefaults": {
           "bgcolor": "#506784",
           "borderwidth": 0
          },
          "xaxis": {
           "automargin": true,
           "gridcolor": "#283442",
           "linecolor": "#506784",
           "ticks": "",
           "title": {
            "standoff": 15
           },
           "zerolinecolor": "#283442",
           "zerolinewidth": 2
          },
          "yaxis": {
           "automargin": true,
           "gridcolor": "#283442",
           "linecolor": "#506784",
           "ticks": "",
           "title": {
            "standoff": 15
           },
           "zerolinecolor": "#283442",
           "zerolinewidth": 2
          }
         }
        },
        "title": {
         "font": {
          "family": "Aerial",
          "size": 24
         },
         "text": "Top 10 States with highest crime against SC Caste (%) in top 10 states"
        }
       }
      },
      "text/html": [
       "<div>                            <div id=\"b3d05e11-2d6e-44d1-a568-9f60431e08d6\" class=\"plotly-graph-div\" style=\"height:525px; width:100%;\"></div>            <script type=\"text/javascript\">                require([\"plotly\"], function(Plotly) {                    window.PLOTLYENV=window.PLOTLYENV || {};                                    if (document.getElementById(\"b3d05e11-2d6e-44d1-a568-9f60431e08d6\")) {                    Plotly.newPlot(                        \"b3d05e11-2d6e-44d1-a568-9f60431e08d6\",                        [{\"domain\":{\"x\":[0.0,1.0],\"y\":[0.0,1.0]},\"hovertemplate\":\"STATE/UT=%{label}<br>Total=%{value}<extra></extra>\",\"labels\":[\"UTTAR PRADESH\",\"RAJASTHAN\",\"MADHYA PRADESH\",\"ANDHRA PRADESH\",\"BIHAR\",\"KARNATAKA\",\"TAMIL NADU\",\"ODISHA\",\"GUJARAT\",\"MAHARASHTRA\"],\"legendgroup\":\"\",\"name\":\"\",\"showlegend\":true,\"values\":[76473,55002,49810,43419,33341,24406,18623,18406,13940,11409],\"type\":\"pie\"}],                        {\"template\":{\"data\":{\"barpolar\":[{\"marker\":{\"line\":{\"color\":\"rgb(17,17,17)\",\"width\":0.5},\"pattern\":{\"fillmode\":\"overlay\",\"size\":10,\"solidity\":0.2}},\"type\":\"barpolar\"}],\"bar\":[{\"error_x\":{\"color\":\"#f2f5fa\"},\"error_y\":{\"color\":\"#f2f5fa\"},\"marker\":{\"line\":{\"color\":\"rgb(17,17,17)\",\"width\":0.5},\"pattern\":{\"fillmode\":\"overlay\",\"size\":10,\"solidity\":0.2}},\"type\":\"bar\"}],\"carpet\":[{\"aaxis\":{\"endlinecolor\":\"#A2B1C6\",\"gridcolor\":\"#506784\",\"linecolor\":\"#506784\",\"minorgridcolor\":\"#506784\",\"startlinecolor\":\"#A2B1C6\"},\"baxis\":{\"endlinecolor\":\"#A2B1C6\",\"gridcolor\":\"#506784\",\"linecolor\":\"#506784\",\"minorgridcolor\":\"#506784\",\"startlinecolor\":\"#A2B1C6\"},\"type\":\"carpet\"}],\"choropleth\":[{\"colorbar\":{\"outlinewidth\":0,\"ticks\":\"\"},\"type\":\"choropleth\"}],\"contourcarpet\":[{\"colorbar\":{\"outlinewidth\":0,\"ticks\":\"\"},\"type\":\"contourcarpet\"}],\"contour\":[{\"colorbar\":{\"outlinewidth\":0,\"ticks\":\"\"},\"colorscale\":[[0.0,\"#0d0887\"],[0.1111111111111111,\"#46039f\"],[0.2222222222222222,\"#7201a8\"],[0.3333333333333333,\"#9c179e\"],[0.4444444444444444,\"#bd3786\"],[0.5555555555555556,\"#d8576b\"],[0.6666666666666666,\"#ed7953\"],[0.7777777777777778,\"#fb9f3a\"],[0.8888888888888888,\"#fdca26\"],[1.0,\"#f0f921\"]],\"type\":\"contour\"}],\"heatmapgl\":[{\"colorbar\":{\"outlinewidth\":0,\"ticks\":\"\"},\"colorscale\":[[0.0,\"#0d0887\"],[0.1111111111111111,\"#46039f\"],[0.2222222222222222,\"#7201a8\"],[0.3333333333333333,\"#9c179e\"],[0.4444444444444444,\"#bd3786\"],[0.5555555555555556,\"#d8576b\"],[0.6666666666666666,\"#ed7953\"],[0.7777777777777778,\"#fb9f3a\"],[0.8888888888888888,\"#fdca26\"],[1.0,\"#f0f921\"]],\"type\":\"heatmapgl\"}],\"heatmap\":[{\"colorbar\":{\"outlinewidth\":0,\"ticks\":\"\"},\"colorscale\":[[0.0,\"#0d0887\"],[0.1111111111111111,\"#46039f\"],[0.2222222222222222,\"#7201a8\"],[0.3333333333333333,\"#9c179e\"],[0.4444444444444444,\"#bd3786\"],[0.5555555555555556,\"#d8576b\"],[0.6666666666666666,\"#ed7953\"],[0.7777777777777778,\"#fb9f3a\"],[0.8888888888888888,\"#fdca26\"],[1.0,\"#f0f921\"]],\"type\":\"heatmap\"}],\"histogram2dcontour\":[{\"colorbar\":{\"outlinewidth\":0,\"ticks\":\"\"},\"colorscale\":[[0.0,\"#0d0887\"],[0.1111111111111111,\"#46039f\"],[0.2222222222222222,\"#7201a8\"],[0.3333333333333333,\"#9c179e\"],[0.4444444444444444,\"#bd3786\"],[0.5555555555555556,\"#d8576b\"],[0.6666666666666666,\"#ed7953\"],[0.7777777777777778,\"#fb9f3a\"],[0.8888888888888888,\"#fdca26\"],[1.0,\"#f0f921\"]],\"type\":\"histogram2dcontour\"}],\"histogram2d\":[{\"colorbar\":{\"outlinewidth\":0,\"ticks\":\"\"},\"colorscale\":[[0.0,\"#0d0887\"],[0.1111111111111111,\"#46039f\"],[0.2222222222222222,\"#7201a8\"],[0.3333333333333333,\"#9c179e\"],[0.4444444444444444,\"#bd3786\"],[0.5555555555555556,\"#d8576b\"],[0.6666666666666666,\"#ed7953\"],[0.7777777777777778,\"#fb9f3a\"],[0.8888888888888888,\"#fdca26\"],[1.0,\"#f0f921\"]],\"type\":\"histogram2d\"}],\"histogram\":[{\"marker\":{\"pattern\":{\"fillmode\":\"overlay\",\"size\":10,\"solidity\":0.2}},\"type\":\"histogram\"}],\"mesh3d\":[{\"colorbar\":{\"outlinewidth\":0,\"ticks\":\"\"},\"type\":\"mesh3d\"}],\"parcoords\":[{\"line\":{\"colorbar\":{\"outlinewidth\":0,\"ticks\":\"\"}},\"type\":\"parcoords\"}],\"pie\":[{\"automargin\":true,\"type\":\"pie\"}],\"scatter3d\":[{\"line\":{\"colorbar\":{\"outlinewidth\":0,\"ticks\":\"\"}},\"marker\":{\"colorbar\":{\"outlinewidth\":0,\"ticks\":\"\"}},\"type\":\"scatter3d\"}],\"scattercarpet\":[{\"marker\":{\"colorbar\":{\"outlinewidth\":0,\"ticks\":\"\"}},\"type\":\"scattercarpet\"}],\"scattergeo\":[{\"marker\":{\"colorbar\":{\"outlinewidth\":0,\"ticks\":\"\"}},\"type\":\"scattergeo\"}],\"scattergl\":[{\"marker\":{\"line\":{\"color\":\"#283442\"}},\"type\":\"scattergl\"}],\"scattermapbox\":[{\"marker\":{\"colorbar\":{\"outlinewidth\":0,\"ticks\":\"\"}},\"type\":\"scattermapbox\"}],\"scatterpolargl\":[{\"marker\":{\"colorbar\":{\"outlinewidth\":0,\"ticks\":\"\"}},\"type\":\"scatterpolargl\"}],\"scatterpolar\":[{\"marker\":{\"colorbar\":{\"outlinewidth\":0,\"ticks\":\"\"}},\"type\":\"scatterpolar\"}],\"scatter\":[{\"marker\":{\"line\":{\"color\":\"#283442\"}},\"type\":\"scatter\"}],\"scatterternary\":[{\"marker\":{\"colorbar\":{\"outlinewidth\":0,\"ticks\":\"\"}},\"type\":\"scatterternary\"}],\"surface\":[{\"colorbar\":{\"outlinewidth\":0,\"ticks\":\"\"},\"colorscale\":[[0.0,\"#0d0887\"],[0.1111111111111111,\"#46039f\"],[0.2222222222222222,\"#7201a8\"],[0.3333333333333333,\"#9c179e\"],[0.4444444444444444,\"#bd3786\"],[0.5555555555555556,\"#d8576b\"],[0.6666666666666666,\"#ed7953\"],[0.7777777777777778,\"#fb9f3a\"],[0.8888888888888888,\"#fdca26\"],[1.0,\"#f0f921\"]],\"type\":\"surface\"}],\"table\":[{\"cells\":{\"fill\":{\"color\":\"#506784\"},\"line\":{\"color\":\"rgb(17,17,17)\"}},\"header\":{\"fill\":{\"color\":\"#2a3f5f\"},\"line\":{\"color\":\"rgb(17,17,17)\"}},\"type\":\"table\"}]},\"layout\":{\"annotationdefaults\":{\"arrowcolor\":\"#f2f5fa\",\"arrowhead\":0,\"arrowwidth\":1},\"autotypenumbers\":\"strict\",\"coloraxis\":{\"colorbar\":{\"outlinewidth\":0,\"ticks\":\"\"}},\"colorscale\":{\"diverging\":[[0,\"#8e0152\"],[0.1,\"#c51b7d\"],[0.2,\"#de77ae\"],[0.3,\"#f1b6da\"],[0.4,\"#fde0ef\"],[0.5,\"#f7f7f7\"],[0.6,\"#e6f5d0\"],[0.7,\"#b8e186\"],[0.8,\"#7fbc41\"],[0.9,\"#4d9221\"],[1,\"#276419\"]],\"sequential\":[[0.0,\"#0d0887\"],[0.1111111111111111,\"#46039f\"],[0.2222222222222222,\"#7201a8\"],[0.3333333333333333,\"#9c179e\"],[0.4444444444444444,\"#bd3786\"],[0.5555555555555556,\"#d8576b\"],[0.6666666666666666,\"#ed7953\"],[0.7777777777777778,\"#fb9f3a\"],[0.8888888888888888,\"#fdca26\"],[1.0,\"#f0f921\"]],\"sequentialminus\":[[0.0,\"#0d0887\"],[0.1111111111111111,\"#46039f\"],[0.2222222222222222,\"#7201a8\"],[0.3333333333333333,\"#9c179e\"],[0.4444444444444444,\"#bd3786\"],[0.5555555555555556,\"#d8576b\"],[0.6666666666666666,\"#ed7953\"],[0.7777777777777778,\"#fb9f3a\"],[0.8888888888888888,\"#fdca26\"],[1.0,\"#f0f921\"]]},\"colorway\":[\"#636efa\",\"#EF553B\",\"#00cc96\",\"#ab63fa\",\"#FFA15A\",\"#19d3f3\",\"#FF6692\",\"#B6E880\",\"#FF97FF\",\"#FECB52\"],\"font\":{\"color\":\"#f2f5fa\"},\"geo\":{\"bgcolor\":\"rgb(17,17,17)\",\"lakecolor\":\"rgb(17,17,17)\",\"landcolor\":\"rgb(17,17,17)\",\"showlakes\":true,\"showland\":true,\"subunitcolor\":\"#506784\"},\"hoverlabel\":{\"align\":\"left\"},\"hovermode\":\"closest\",\"mapbox\":{\"style\":\"dark\"},\"paper_bgcolor\":\"rgb(17,17,17)\",\"plot_bgcolor\":\"rgb(17,17,17)\",\"polar\":{\"angularaxis\":{\"gridcolor\":\"#506784\",\"linecolor\":\"#506784\",\"ticks\":\"\"},\"bgcolor\":\"rgb(17,17,17)\",\"radialaxis\":{\"gridcolor\":\"#506784\",\"linecolor\":\"#506784\",\"ticks\":\"\"}},\"scene\":{\"xaxis\":{\"backgroundcolor\":\"rgb(17,17,17)\",\"gridcolor\":\"#506784\",\"gridwidth\":2,\"linecolor\":\"#506784\",\"showbackground\":true,\"ticks\":\"\",\"zerolinecolor\":\"#C8D4E3\"},\"yaxis\":{\"backgroundcolor\":\"rgb(17,17,17)\",\"gridcolor\":\"#506784\",\"gridwidth\":2,\"linecolor\":\"#506784\",\"showbackground\":true,\"ticks\":\"\",\"zerolinecolor\":\"#C8D4E3\"},\"zaxis\":{\"backgroundcolor\":\"rgb(17,17,17)\",\"gridcolor\":\"#506784\",\"gridwidth\":2,\"linecolor\":\"#506784\",\"showbackground\":true,\"ticks\":\"\",\"zerolinecolor\":\"#C8D4E3\"}},\"shapedefaults\":{\"line\":{\"color\":\"#f2f5fa\"}},\"sliderdefaults\":{\"bgcolor\":\"#C8D4E3\",\"bordercolor\":\"rgb(17,17,17)\",\"borderwidth\":1,\"tickwidth\":0},\"ternary\":{\"aaxis\":{\"gridcolor\":\"#506784\",\"linecolor\":\"#506784\",\"ticks\":\"\"},\"baxis\":{\"gridcolor\":\"#506784\",\"linecolor\":\"#506784\",\"ticks\":\"\"},\"bgcolor\":\"rgb(17,17,17)\",\"caxis\":{\"gridcolor\":\"#506784\",\"linecolor\":\"#506784\",\"ticks\":\"\"}},\"title\":{\"x\":0.05},\"updatemenudefaults\":{\"bgcolor\":\"#506784\",\"borderwidth\":0},\"xaxis\":{\"automargin\":true,\"gridcolor\":\"#283442\",\"linecolor\":\"#506784\",\"ticks\":\"\",\"title\":{\"standoff\":15},\"zerolinecolor\":\"#283442\",\"zerolinewidth\":2},\"yaxis\":{\"automargin\":true,\"gridcolor\":\"#283442\",\"linecolor\":\"#506784\",\"ticks\":\"\",\"title\":{\"standoff\":15},\"zerolinecolor\":\"#283442\",\"zerolinewidth\":2}}},\"legend\":{\"tracegroupgap\":0},\"title\":{\"text\":\"Top 10 States with highest crime against SC Caste (%) in top 10 states\",\"font\":{\"size\":24,\"family\":\"Aerial\"}},\"font\":{\"color\":\"red\",\"family\":\"Times New Roman\",\"size\":10},\"paper_bgcolor\":\"black\"},                        {\"responsive\": true}                    ).then(function(){\n",
       "                            \n",
       "var gd = document.getElementById('b3d05e11-2d6e-44d1-a568-9f60431e08d6');\n",
       "var x = new MutationObserver(function (mutations, observer) {{\n",
       "        var display = window.getComputedStyle(gd).display;\n",
       "        if (!display || display === 'none') {{\n",
       "            console.log([gd, 'removed!']);\n",
       "            Plotly.purge(gd);\n",
       "            observer.disconnect();\n",
       "        }}\n",
       "}});\n",
       "\n",
       "// Listen for the removal of the full notebook cells\n",
       "var notebookContainer = gd.closest('#notebook-container');\n",
       "if (notebookContainer) {{\n",
       "    x.observe(notebookContainer, {childList: true});\n",
       "}}\n",
       "\n",
       "// Listen for the clearing of the current output cell\n",
       "var outputEl = gd.closest('.output');\n",
       "if (outputEl) {{\n",
       "    x.observe(outputEl, {childList: true});\n",
       "}}\n",
       "\n",
       "                        })                };                });            </script>        </div>"
      ]
     },
     "metadata": {},
     "output_type": "display_data"
    }
   ],
   "source": [
    "#Top 10 States with highest crime against SC Caste \n",
    "import plotly.express as px\n",
    "df_top10 = States.sort_values('Total',ascending=False).head(10)\n",
    "fig = px.pie(df_top10,values='Total',names=df_top10.index,title = 'PIECHART',template='plotly_dark')\n",
    "fig.update_layout(title = 'Top 10 States with highest crime against SC Caste (%) in top 10 states',title_font_size=24,paper_bgcolor='black',\n",
    "                     title_font_family='Aerial',font={'color':'red','family':'Times New Roman','size':10})\n",
    "import plotly.io as pio#to display a figure defined by a dictuse the low level plotly.io.show\n",
    "pio.show(fig)"
   ]
  },
  {
   "cell_type": "code",
   "execution_count": 288,
   "id": "85525e55",
   "metadata": {},
   "outputs": [
    {
     "data": {
      "text/html": [
       "<div>\n",
       "<style scoped>\n",
       "    .dataframe tbody tr th:only-of-type {\n",
       "        vertical-align: middle;\n",
       "    }\n",
       "\n",
       "    .dataframe tbody tr th {\n",
       "        vertical-align: top;\n",
       "    }\n",
       "\n",
       "    .dataframe thead th {\n",
       "        text-align: right;\n",
       "    }\n",
       "</style>\n",
       "<table border=\"1\" class=\"dataframe\">\n",
       "  <thead>\n",
       "    <tr style=\"text-align: right;\">\n",
       "      <th></th>\n",
       "      <th></th>\n",
       "      <th>Total</th>\n",
       "    </tr>\n",
       "    <tr>\n",
       "      <th>DISTRICT</th>\n",
       "      <th>STATE/UT</th>\n",
       "      <th></th>\n",
       "    </tr>\n",
       "  </thead>\n",
       "  <tbody>\n",
       "    <tr>\n",
       "      <th>BHARATPUR</th>\n",
       "      <th>RAJASTHAN</th>\n",
       "      <td>5143</td>\n",
       "    </tr>\n",
       "    <tr>\n",
       "      <th>SITAPUR</th>\n",
       "      <th>UTTAR PRADESH</th>\n",
       "      <td>3654</td>\n",
       "    </tr>\n",
       "    <tr>\n",
       "      <th>GANGANAGAR</th>\n",
       "      <th>RAJASTHAN</th>\n",
       "      <td>3625</td>\n",
       "    </tr>\n",
       "    <tr>\n",
       "      <th>KURNOOL</th>\n",
       "      <th>ANDHRA PRADESH</th>\n",
       "      <td>3450</td>\n",
       "    </tr>\n",
       "    <tr>\n",
       "      <th>UJJAIN</th>\n",
       "      <th>MADHYA PRADESH</th>\n",
       "      <td>3441</td>\n",
       "    </tr>\n",
       "    <tr>\n",
       "      <th>...</th>\n",
       "      <th>...</th>\n",
       "      <td>...</td>\n",
       "    </tr>\n",
       "    <tr>\n",
       "      <th>DIBANG VALLEY</th>\n",
       "      <th>ARUNACHAL PRADESH</th>\n",
       "      <td>0</td>\n",
       "    </tr>\n",
       "    <tr>\n",
       "      <th>SRINAGAR</th>\n",
       "      <th>JAMMU &amp; KASHMIR</th>\n",
       "      <td>0</td>\n",
       "    </tr>\n",
       "    <tr>\n",
       "      <th>DIMAPUR</th>\n",
       "      <th>NAGALAND</th>\n",
       "      <td>0</td>\n",
       "    </tr>\n",
       "    <tr>\n",
       "      <th>SPL CELL</th>\n",
       "      <th>DELHI</th>\n",
       "      <td>0</td>\n",
       "    </tr>\n",
       "    <tr>\n",
       "      <th>GARO HILLS EAST</th>\n",
       "      <th>MEGHALAYA</th>\n",
       "      <td>0</td>\n",
       "    </tr>\n",
       "  </tbody>\n",
       "</table>\n",
       "<p>833 rows × 1 columns</p>\n",
       "</div>"
      ],
      "text/plain": [
       "                                   Total\n",
       "DISTRICT        STATE/UT                \n",
       "BHARATPUR       RAJASTHAN           5143\n",
       "SITAPUR         UTTAR PRADESH       3654\n",
       "GANGANAGAR      RAJASTHAN           3625\n",
       "KURNOOL         ANDHRA PRADESH      3450\n",
       "UJJAIN          MADHYA PRADESH      3441\n",
       "...                                  ...\n",
       "DIBANG VALLEY   ARUNACHAL PRADESH      0\n",
       "SRINAGAR        JAMMU & KASHMIR        0\n",
       "DIMAPUR         NAGALAND               0\n",
       "SPL CELL        DELHI                  0\n",
       "GARO HILLS EAST MEGHALAYA              0\n",
       "\n",
       "[833 rows x 1 columns]"
      ]
     },
     "execution_count": 288,
     "metadata": {},
     "output_type": "execute_result"
    }
   ],
   "source": [
    "\n",
    "y= pd.DataFrame(df.groupby(['DISTRICT','STATE/UT'])['Total'].sum())\n",
    "\n",
    "y.sort_values(by=\"Total\",ascending=False)"
   ]
  },
  {
   "cell_type": "code",
   "execution_count": null,
   "id": "5758392f",
   "metadata": {},
   "outputs": [],
   "source": []
  },
  {
   "cell_type": "code",
   "execution_count": 290,
   "id": "e2382962",
   "metadata": {},
   "outputs": [
    {
     "data": {
      "text/html": [
       "<div>\n",
       "<style scoped>\n",
       "    .dataframe tbody tr th:only-of-type {\n",
       "        vertical-align: middle;\n",
       "    }\n",
       "\n",
       "    .dataframe tbody tr th {\n",
       "        vertical-align: top;\n",
       "    }\n",
       "\n",
       "    .dataframe thead th {\n",
       "        text-align: right;\n",
       "    }\n",
       "</style>\n",
       "<table border=\"1\" class=\"dataframe\">\n",
       "  <thead>\n",
       "    <tr style=\"text-align: right;\">\n",
       "      <th></th>\n",
       "      <th>Total</th>\n",
       "      <th>Result</th>\n",
       "    </tr>\n",
       "    <tr>\n",
       "      <th>DISTRICT</th>\n",
       "      <th></th>\n",
       "      <th></th>\n",
       "    </tr>\n",
       "  </thead>\n",
       "  <tbody>\n",
       "    <tr>\n",
       "      <th>24 PARGANAS NORTH</th>\n",
       "      <td>22</td>\n",
       "      <td>Peacfull</td>\n",
       "    </tr>\n",
       "    <tr>\n",
       "      <th>24 PARGANAS SOUTH</th>\n",
       "      <td>7</td>\n",
       "      <td>Peacfull</td>\n",
       "    </tr>\n",
       "    <tr>\n",
       "      <th>A and N ISLANDS</th>\n",
       "      <td>0</td>\n",
       "      <td>Peacfull</td>\n",
       "    </tr>\n",
       "    <tr>\n",
       "      <th>ADILABAD</th>\n",
       "      <td>686</td>\n",
       "      <td>Peacfull</td>\n",
       "    </tr>\n",
       "    <tr>\n",
       "      <th>AGRA</th>\n",
       "      <td>1943</td>\n",
       "      <td>Moderate</td>\n",
       "    </tr>\n",
       "    <tr>\n",
       "      <th>...</th>\n",
       "      <td>...</td>\n",
       "      <td>...</td>\n",
       "    </tr>\n",
       "    <tr>\n",
       "      <th>WOKHA</th>\n",
       "      <td>2</td>\n",
       "      <td>Peacfull</td>\n",
       "    </tr>\n",
       "    <tr>\n",
       "      <th>YADGIRI</th>\n",
       "      <td>253</td>\n",
       "      <td>Peacfull</td>\n",
       "    </tr>\n",
       "    <tr>\n",
       "      <th>YAMUNANAGAR</th>\n",
       "      <td>84</td>\n",
       "      <td>Peacfull</td>\n",
       "    </tr>\n",
       "    <tr>\n",
       "      <th>YAVATMAL</th>\n",
       "      <td>286</td>\n",
       "      <td>Peacfull</td>\n",
       "    </tr>\n",
       "    <tr>\n",
       "      <th>ZUNHEBOTO</th>\n",
       "      <td>1</td>\n",
       "      <td>Peacfull</td>\n",
       "    </tr>\n",
       "  </tbody>\n",
       "</table>\n",
       "<p>812 rows × 2 columns</p>\n",
       "</div>"
      ],
      "text/plain": [
       "                   Total    Result\n",
       "DISTRICT                          \n",
       "24 PARGANAS NORTH     22  Peacfull\n",
       "24 PARGANAS SOUTH      7  Peacfull\n",
       "A and N ISLANDS        0  Peacfull\n",
       "ADILABAD             686  Peacfull\n",
       "AGRA                1943  Moderate\n",
       "...                  ...       ...\n",
       "WOKHA                  2  Peacfull\n",
       "YADGIRI              253  Peacfull\n",
       "YAMUNANAGAR           84  Peacfull\n",
       "YAVATMAL             286  Peacfull\n",
       "ZUNHEBOTO              1  Peacfull\n",
       "\n",
       "[812 rows x 2 columns]"
      ]
     },
     "execution_count": 290,
     "metadata": {},
     "output_type": "execute_result"
    }
   ],
   "source": [
    "\n",
    "District['Result'] = District['Total'].apply(lambda District: 'Sensitive' if District>=2500  else 'Moderate'if District>=1000 and District<2500 else 'Peacfull')\n",
    "\n",
    "District"
   ]
  },
  {
   "cell_type": "code",
   "execution_count": 291,
   "id": "161e1547",
   "metadata": {},
   "outputs": [
    {
     "name": "stdout",
     "output_type": "stream",
     "text": [
      "Peacfull     690\n",
      "Moderate     105\n",
      "Sensitive     17\n",
      "Name: Result, dtype: int64\n"
     ]
    },
    {
     "data": {
      "image/png": "[encoded data removed]",
      "text/plain": [
       "<Figure size 640x480 with 1 Axes>"
      ]
     },
     "metadata": {},
     "output_type": "display_data"
    }
   ],
   "source": [
    "ax=sns.countplot(data=Z,x='Result')\n",
    "print(Z['Result'].value_counts())"
   ]
  },
  {
   "cell_type": "code",
   "execution_count": 292,
   "id": "a9d639be",
   "metadata": {},
   "outputs": [],
   "source": [
    "#Wifercating \n",
    "sorting=y.sort_values(by=\"Total\",ascending=False)"
   ]
  },
  {
   "cell_type": "code",
   "execution_count": 293,
   "id": "b680ed36",
   "metadata": {},
   "outputs": [
    {
     "data": {
      "text/html": [
       "<div>\n",
       "<style scoped>\n",
       "    .dataframe tbody tr th:only-of-type {\n",
       "        vertical-align: middle;\n",
       "    }\n",
       "\n",
       "    .dataframe tbody tr th {\n",
       "        vertical-align: top;\n",
       "    }\n",
       "\n",
       "    .dataframe thead th {\n",
       "        text-align: right;\n",
       "    }\n",
       "</style>\n",
       "<table border=\"1\" class=\"dataframe\">\n",
       "  <thead>\n",
       "    <tr style=\"text-align: right;\">\n",
       "      <th></th>\n",
       "      <th></th>\n",
       "      <th>Total</th>\n",
       "    </tr>\n",
       "    <tr>\n",
       "      <th>DISTRICT</th>\n",
       "      <th>STATE/UT</th>\n",
       "      <th></th>\n",
       "    </tr>\n",
       "  </thead>\n",
       "  <tbody>\n",
       "    <tr>\n",
       "      <th>BHARATPUR</th>\n",
       "      <th>RAJASTHAN</th>\n",
       "      <td>5143</td>\n",
       "    </tr>\n",
       "    <tr>\n",
       "      <th>SITAPUR</th>\n",
       "      <th>UTTAR PRADESH</th>\n",
       "      <td>3654</td>\n",
       "    </tr>\n",
       "    <tr>\n",
       "      <th>GANGANAGAR</th>\n",
       "      <th>RAJASTHAN</th>\n",
       "      <td>3625</td>\n",
       "    </tr>\n",
       "    <tr>\n",
       "      <th>KURNOOL</th>\n",
       "      <th>ANDHRA PRADESH</th>\n",
       "      <td>3450</td>\n",
       "    </tr>\n",
       "    <tr>\n",
       "      <th>UJJAIN</th>\n",
       "      <th>MADHYA PRADESH</th>\n",
       "      <td>3441</td>\n",
       "    </tr>\n",
       "    <tr>\n",
       "      <th>KARIMNAGAR</th>\n",
       "      <th>ANDHRA PRADESH</th>\n",
       "      <td>3331</td>\n",
       "    </tr>\n",
       "    <tr>\n",
       "      <th>ALWAR</th>\n",
       "      <th>RAJASTHAN</th>\n",
       "      <td>3272</td>\n",
       "    </tr>\n",
       "    <tr>\n",
       "      <th>GULBARGA</th>\n",
       "      <th>KARNATAKA</th>\n",
       "      <td>2810</td>\n",
       "    </tr>\n",
       "    <tr>\n",
       "      <th>WEST GODAVARI</th>\n",
       "      <th>ANDHRA PRADESH</th>\n",
       "      <td>2738</td>\n",
       "    </tr>\n",
       "    <tr>\n",
       "      <th>NALGONDA</th>\n",
       "      <th>ANDHRA PRADESH</th>\n",
       "      <td>2692</td>\n",
       "    </tr>\n",
       "    <tr>\n",
       "      <th>NAGAUR</th>\n",
       "      <th>RAJASTHAN</th>\n",
       "      <td>2678</td>\n",
       "    </tr>\n",
       "    <tr>\n",
       "      <th>KANPUR NAGAR</th>\n",
       "      <th>UTTAR PRADESH</th>\n",
       "      <td>2654</td>\n",
       "    </tr>\n",
       "    <tr>\n",
       "      <th>MORENA</th>\n",
       "      <th>MADHYA PRADESH</th>\n",
       "      <td>2642</td>\n",
       "    </tr>\n",
       "    <tr>\n",
       "      <th>BARABANKI</th>\n",
       "      <th>UTTAR PRADESH</th>\n",
       "      <td>2626</td>\n",
       "    </tr>\n",
       "    <tr>\n",
       "      <th>HANUMANGARH</th>\n",
       "      <th>RAJASTHAN</th>\n",
       "      <td>2585</td>\n",
       "    </tr>\n",
       "    <tr>\n",
       "      <th>PALI</th>\n",
       "      <th>RAJASTHAN</th>\n",
       "      <td>2551</td>\n",
       "    </tr>\n",
       "    <tr>\n",
       "      <th>VAISHALI</th>\n",
       "      <th>BIHAR</th>\n",
       "      <td>2544</td>\n",
       "    </tr>\n",
       "  </tbody>\n",
       "</table>\n",
       "</div>"
      ],
      "text/plain": [
       "                              Total\n",
       "DISTRICT      STATE/UT             \n",
       "BHARATPUR     RAJASTHAN        5143\n",
       "SITAPUR       UTTAR PRADESH    3654\n",
       "GANGANAGAR    RAJASTHAN        3625\n",
       "KURNOOL       ANDHRA PRADESH   3450\n",
       "UJJAIN        MADHYA PRADESH   3441\n",
       "KARIMNAGAR    ANDHRA PRADESH   3331\n",
       "ALWAR         RAJASTHAN        3272\n",
       "GULBARGA      KARNATAKA        2810\n",
       "WEST GODAVARI ANDHRA PRADESH   2738\n",
       "NALGONDA      ANDHRA PRADESH   2692\n",
       "NAGAUR        RAJASTHAN        2678\n",
       "KANPUR NAGAR  UTTAR PRADESH    2654\n",
       "MORENA        MADHYA PRADESH   2642\n",
       "BARABANKI     UTTAR PRADESH    2626\n",
       "HANUMANGARH   RAJASTHAN        2585\n",
       "PALI          RAJASTHAN        2551\n",
       "VAISHALI      BIHAR            2544"
      ]
     },
     "execution_count": 293,
     "metadata": {},
     "output_type": "execute_result"
    }
   ],
   "source": [
    "# Top 10 district with highest Crime against SC\n",
    "sorting.head(17)"
   ]
  },
  {
   "cell_type": "code",
   "execution_count": 294,
   "id": "c3d11192",
   "metadata": {},
   "outputs": [
    {
     "data": {
      "text/html": [
       "<div>\n",
       "<style scoped>\n",
       "    .dataframe tbody tr th:only-of-type {\n",
       "        vertical-align: middle;\n",
       "    }\n",
       "\n",
       "    .dataframe tbody tr th {\n",
       "        vertical-align: top;\n",
       "    }\n",
       "\n",
       "    .dataframe thead th {\n",
       "        text-align: right;\n",
       "    }\n",
       "</style>\n",
       "<table border=\"1\" class=\"dataframe\">\n",
       "  <thead>\n",
       "    <tr style=\"text-align: right;\">\n",
       "      <th></th>\n",
       "      <th></th>\n",
       "      <th>Total</th>\n",
       "    </tr>\n",
       "    <tr>\n",
       "      <th>DISTRICT</th>\n",
       "      <th>STATE/UT</th>\n",
       "      <th></th>\n",
       "    </tr>\n",
       "  </thead>\n",
       "  <tbody>\n",
       "    <tr>\n",
       "      <th>KAMRUP</th>\n",
       "      <th>ASSAM</th>\n",
       "      <td>0</td>\n",
       "    </tr>\n",
       "    <tr>\n",
       "      <th>KAMENG WEST</th>\n",
       "      <th>ARUNACHAL PRADESH</th>\n",
       "      <td>0</td>\n",
       "    </tr>\n",
       "    <tr>\n",
       "      <th>RURAL</th>\n",
       "      <th>ARUNACHAL PRADESH</th>\n",
       "      <td>0</td>\n",
       "    </tr>\n",
       "    <tr>\n",
       "      <th>DARRANG</th>\n",
       "      <th>ASSAM</th>\n",
       "      <td>0</td>\n",
       "    </tr>\n",
       "    <tr>\n",
       "      <th>DHALAI</th>\n",
       "      <th>TRIPURA</th>\n",
       "      <td>0</td>\n",
       "    </tr>\n",
       "    <tr>\n",
       "      <th>S.T.F.</th>\n",
       "      <th>DELHI</th>\n",
       "      <td>0</td>\n",
       "    </tr>\n",
       "    <tr>\n",
       "      <th>SUKMA</th>\n",
       "      <th>CHHATTISGARH</th>\n",
       "      <td>0</td>\n",
       "    </tr>\n",
       "    <tr>\n",
       "      <th>SUBANSIRI UPPER</th>\n",
       "      <th>ARUNACHAL PRADESH</th>\n",
       "      <td>0</td>\n",
       "    </tr>\n",
       "    <tr>\n",
       "      <th>SUBANSIRI LOWER</th>\n",
       "      <th>ARUNACHAL PRADESH</th>\n",
       "      <td>0</td>\n",
       "    </tr>\n",
       "    <tr>\n",
       "      <th>KAMENG EAST</th>\n",
       "      <th>ARUNACHAL PRADESH</th>\n",
       "      <td>0</td>\n",
       "    </tr>\n",
       "    <tr>\n",
       "      <th>K/KUMEY</th>\n",
       "      <th>ARUNACHAL PRADESH</th>\n",
       "      <td>0</td>\n",
       "    </tr>\n",
       "    <tr>\n",
       "      <th>JHARGRAM</th>\n",
       "      <th>WEST BENGAL</th>\n",
       "      <td>0</td>\n",
       "    </tr>\n",
       "    <tr>\n",
       "      <th>DIBANG VALLEY</th>\n",
       "      <th>ARUNACHAL PRADESH</th>\n",
       "      <td>0</td>\n",
       "    </tr>\n",
       "    <tr>\n",
       "      <th>SRINAGAR</th>\n",
       "      <th>JAMMU &amp; KASHMIR</th>\n",
       "      <td>0</td>\n",
       "    </tr>\n",
       "    <tr>\n",
       "      <th>DIMAPUR</th>\n",
       "      <th>NAGALAND</th>\n",
       "      <td>0</td>\n",
       "    </tr>\n",
       "    <tr>\n",
       "      <th>SPL CELL</th>\n",
       "      <th>DELHI</th>\n",
       "      <td>0</td>\n",
       "    </tr>\n",
       "    <tr>\n",
       "      <th>GARO HILLS EAST</th>\n",
       "      <th>MEGHALAYA</th>\n",
       "      <td>0</td>\n",
       "    </tr>\n",
       "  </tbody>\n",
       "</table>\n",
       "</div>"
      ],
      "text/plain": [
       "                                   Total\n",
       "DISTRICT        STATE/UT                \n",
       "KAMRUP          ASSAM                  0\n",
       "KAMENG WEST     ARUNACHAL PRADESH      0\n",
       "RURAL           ARUNACHAL PRADESH      0\n",
       "DARRANG         ASSAM                  0\n",
       "DHALAI          TRIPURA                0\n",
       "S.T.F.          DELHI                  0\n",
       "SUKMA           CHHATTISGARH           0\n",
       "SUBANSIRI UPPER ARUNACHAL PRADESH      0\n",
       "SUBANSIRI LOWER ARUNACHAL PRADESH      0\n",
       "KAMENG EAST     ARUNACHAL PRADESH      0\n",
       "K/KUMEY         ARUNACHAL PRADESH      0\n",
       "JHARGRAM        WEST BENGAL            0\n",
       "DIBANG VALLEY   ARUNACHAL PRADESH      0\n",
       "SRINAGAR        JAMMU & KASHMIR        0\n",
       "DIMAPUR         NAGALAND               0\n",
       "SPL CELL        DELHI                  0\n",
       "GARO HILLS EAST MEGHALAYA              0"
      ]
     },
     "execution_count": 294,
     "metadata": {},
     "output_type": "execute_result"
    }
   ],
   "source": [
    "# Bottom  10 district with Lowest Crime against SC\n",
    "sorting.tail(17)"
   ]
  },
  {
   "cell_type": "code",
   "execution_count": 295,
   "id": "6f218d1c",
   "metadata": {},
   "outputs": [
    {
     "data": {
      "text/plain": [
       "<bound method DataFrame.groupby of                                   Total\n",
       "DISTRICT          STATE/UT             \n",
       "24 PARGANAS NORTH WEST BENGAL        22\n",
       "24 PARGANAS SOUTH WEST BENGAL         7\n",
       "A and N ISLANDS   A & N ISLANDS       0\n",
       "ADILABAD          ANDHRA PRADESH    686\n",
       "AGRA              UTTAR PRADESH    1943\n",
       "...                                 ...\n",
       "WOKHA             NAGALAND            2\n",
       "YADGIRI           KARNATAKA         253\n",
       "YAMUNANAGAR       HARYANA            84\n",
       "YAVATMAL          MAHARASHTRA       286\n",
       "ZUNHEBOTO         NAGALAND            1\n",
       "\n",
       "[833 rows x 1 columns]>"
      ]
     },
     "execution_count": 295,
     "metadata": {},
     "output_type": "execute_result"
    }
   ],
   "source": [
    "y.groupby"
   ]
  },
  {
   "cell_type": "code",
   "execution_count": 296,
   "id": "6daad199",
   "metadata": {},
   "outputs": [],
   "source": [
    "states=pd.DataFrame(df.groupby(['STATE/UT'])['Total'].sum())\n"
   ]
  },
  {
   "cell_type": "code",
   "execution_count": 297,
   "id": "562cfc59",
   "metadata": {},
   "outputs": [
    {
     "data": {
      "text/html": [
       "<div>\n",
       "<style scoped>\n",
       "    .dataframe tbody tr th:only-of-type {\n",
       "        vertical-align: middle;\n",
       "    }\n",
       "\n",
       "    .dataframe tbody tr th {\n",
       "        vertical-align: top;\n",
       "    }\n",
       "\n",
       "    .dataframe thead th {\n",
       "        text-align: right;\n",
       "    }\n",
       "</style>\n",
       "<table border=\"1\" class=\"dataframe\">\n",
       "  <thead>\n",
       "    <tr style=\"text-align: right;\">\n",
       "      <th></th>\n",
       "      <th>Total</th>\n",
       "      <th>Result</th>\n",
       "    </tr>\n",
       "    <tr>\n",
       "      <th>STATE/UT</th>\n",
       "      <th></th>\n",
       "      <th></th>\n",
       "    </tr>\n",
       "  </thead>\n",
       "  <tbody>\n",
       "    <tr>\n",
       "      <th>UTTAR PRADESH</th>\n",
       "      <td>76473</td>\n",
       "      <td>Sensitive</td>\n",
       "    </tr>\n",
       "    <tr>\n",
       "      <th>RAJASTHAN</th>\n",
       "      <td>55002</td>\n",
       "      <td>Sensitive</td>\n",
       "    </tr>\n",
       "    <tr>\n",
       "      <th>MADHYA PRADESH</th>\n",
       "      <td>49810</td>\n",
       "      <td>Moderate</td>\n",
       "    </tr>\n",
       "    <tr>\n",
       "      <th>ANDHRA PRADESH</th>\n",
       "      <td>43419</td>\n",
       "      <td>Moderate</td>\n",
       "    </tr>\n",
       "    <tr>\n",
       "      <th>BIHAR</th>\n",
       "      <td>33341</td>\n",
       "      <td>Moderate</td>\n",
       "    </tr>\n",
       "    <tr>\n",
       "      <th>KARNATAKA</th>\n",
       "      <td>24406</td>\n",
       "      <td>Peacfull</td>\n",
       "    </tr>\n",
       "    <tr>\n",
       "      <th>TAMIL NADU</th>\n",
       "      <td>18623</td>\n",
       "      <td>Peacfull</td>\n",
       "    </tr>\n",
       "    <tr>\n",
       "      <th>ODISHA</th>\n",
       "      <td>18406</td>\n",
       "      <td>Peacfull</td>\n",
       "    </tr>\n",
       "    <tr>\n",
       "      <th>GUJARAT</th>\n",
       "      <td>13940</td>\n",
       "      <td>Peacfull</td>\n",
       "    </tr>\n",
       "    <tr>\n",
       "      <th>MAHARASHTRA</th>\n",
       "      <td>11409</td>\n",
       "      <td>Peacfull</td>\n",
       "    </tr>\n",
       "    <tr>\n",
       "      <th>KERALA</th>\n",
       "      <td>6226</td>\n",
       "      <td>Peacfull</td>\n",
       "    </tr>\n",
       "    <tr>\n",
       "      <th>CHHATTISGARH</th>\n",
       "      <td>5214</td>\n",
       "      <td>Peacfull</td>\n",
       "    </tr>\n",
       "    <tr>\n",
       "      <th>JHARKHAND</th>\n",
       "      <td>4777</td>\n",
       "      <td>Peacfull</td>\n",
       "    </tr>\n",
       "    <tr>\n",
       "      <th>HARYANA</th>\n",
       "      <td>3366</td>\n",
       "      <td>Peacfull</td>\n",
       "    </tr>\n",
       "    <tr>\n",
       "      <th>PUNJAB</th>\n",
       "      <td>1512</td>\n",
       "      <td>Peacfull</td>\n",
       "    </tr>\n",
       "    <tr>\n",
       "      <th>HIMACHAL PRADESH</th>\n",
       "      <td>1124</td>\n",
       "      <td>Peacfull</td>\n",
       "    </tr>\n",
       "    <tr>\n",
       "      <th>UTTARAKHAND</th>\n",
       "      <td>971</td>\n",
       "      <td>Peacfull</td>\n",
       "    </tr>\n",
       "    <tr>\n",
       "      <th>ASSAM</th>\n",
       "      <td>946</td>\n",
       "      <td>Peacfull</td>\n",
       "    </tr>\n",
       "    <tr>\n",
       "      <th>WEST BENGAL</th>\n",
       "      <td>309</td>\n",
       "      <td>Peacfull</td>\n",
       "    </tr>\n",
       "    <tr>\n",
       "      <th>DELHI</th>\n",
       "      <td>284</td>\n",
       "      <td>Peacfull</td>\n",
       "    </tr>\n",
       "    <tr>\n",
       "      <th>PUDUCHERRY</th>\n",
       "      <td>260</td>\n",
       "      <td>Peacfull</td>\n",
       "    </tr>\n",
       "    <tr>\n",
       "      <th>TRIPURA</th>\n",
       "      <td>183</td>\n",
       "      <td>Peacfull</td>\n",
       "    </tr>\n",
       "    <tr>\n",
       "      <th>SIKKIM</th>\n",
       "      <td>99</td>\n",
       "      <td>Peacfull</td>\n",
       "    </tr>\n",
       "    <tr>\n",
       "      <th>NAGALAND</th>\n",
       "      <td>48</td>\n",
       "      <td>Peacfull</td>\n",
       "    </tr>\n",
       "    <tr>\n",
       "      <th>JAMMU &amp; KASHMIR</th>\n",
       "      <td>41</td>\n",
       "      <td>Peacfull</td>\n",
       "    </tr>\n",
       "    <tr>\n",
       "      <th>GOA</th>\n",
       "      <td>33</td>\n",
       "      <td>Peacfull</td>\n",
       "    </tr>\n",
       "    <tr>\n",
       "      <th>CHANDIGARH</th>\n",
       "      <td>11</td>\n",
       "      <td>Peacfull</td>\n",
       "    </tr>\n",
       "    <tr>\n",
       "      <th>D &amp; N HAVELI</th>\n",
       "      <td>7</td>\n",
       "      <td>Peacfull</td>\n",
       "    </tr>\n",
       "    <tr>\n",
       "      <th>DAMAN &amp; DIU</th>\n",
       "      <td>5</td>\n",
       "      <td>Peacfull</td>\n",
       "    </tr>\n",
       "    <tr>\n",
       "      <th>ARUNACHAL PRADESH</th>\n",
       "      <td>2</td>\n",
       "      <td>Peacfull</td>\n",
       "    </tr>\n",
       "    <tr>\n",
       "      <th>LAKSHADWEEP</th>\n",
       "      <td>1</td>\n",
       "      <td>Peacfull</td>\n",
       "    </tr>\n",
       "    <tr>\n",
       "      <th>MIZORAM</th>\n",
       "      <td>1</td>\n",
       "      <td>Peacfull</td>\n",
       "    </tr>\n",
       "    <tr>\n",
       "      <th>MANIPUR</th>\n",
       "      <td>0</td>\n",
       "      <td>Peacfull</td>\n",
       "    </tr>\n",
       "    <tr>\n",
       "      <th>MEGHALAYA</th>\n",
       "      <td>0</td>\n",
       "      <td>Peacfull</td>\n",
       "    </tr>\n",
       "    <tr>\n",
       "      <th>A &amp; N ISLANDS</th>\n",
       "      <td>0</td>\n",
       "      <td>Peacfull</td>\n",
       "    </tr>\n",
       "  </tbody>\n",
       "</table>\n",
       "</div>"
      ],
      "text/plain": [
       "                   Total     Result\n",
       "STATE/UT                           \n",
       "UTTAR PRADESH      76473  Sensitive\n",
       "RAJASTHAN          55002  Sensitive\n",
       "MADHYA PRADESH     49810   Moderate\n",
       "ANDHRA PRADESH     43419   Moderate\n",
       "BIHAR              33341   Moderate\n",
       "KARNATAKA          24406   Peacfull\n",
       "TAMIL NADU         18623   Peacfull\n",
       "ODISHA             18406   Peacfull\n",
       "GUJARAT            13940   Peacfull\n",
       "MAHARASHTRA        11409   Peacfull\n",
       "KERALA              6226   Peacfull\n",
       "CHHATTISGARH        5214   Peacfull\n",
       "JHARKHAND           4777   Peacfull\n",
       "HARYANA             3366   Peacfull\n",
       "PUNJAB              1512   Peacfull\n",
       "HIMACHAL PRADESH    1124   Peacfull\n",
       "UTTARAKHAND          971   Peacfull\n",
       "ASSAM                946   Peacfull\n",
       "WEST BENGAL          309   Peacfull\n",
       "DELHI                284   Peacfull\n",
       "PUDUCHERRY           260   Peacfull\n",
       "TRIPURA              183   Peacfull\n",
       "SIKKIM                99   Peacfull\n",
       "NAGALAND              48   Peacfull\n",
       "JAMMU & KASHMIR       41   Peacfull\n",
       "GOA                   33   Peacfull\n",
       "CHANDIGARH            11   Peacfull\n",
       "D & N HAVELI           7   Peacfull\n",
       "DAMAN & DIU            5   Peacfull\n",
       "ARUNACHAL PRADESH      2   Peacfull\n",
       "LAKSHADWEEP            1   Peacfull\n",
       "MIZORAM                1   Peacfull\n",
       "MANIPUR                0   Peacfull\n",
       "MEGHALAYA              0   Peacfull\n",
       "A & N ISLANDS          0   Peacfull"
      ]
     },
     "execution_count": 297,
     "metadata": {},
     "output_type": "execute_result"
    }
   ],
   "source": [
    "states['Result'] = states['Total'].apply(lambda states: 'Sensitive' if states>=50982  else 'Moderate'if states>=25491 and states<50982 else 'Peacfull')\n",
    "sorted_values=states.sort_values(by=\"Total\",ascending=False)\n",
    "sorted_values"
   ]
  },
  {
   "cell_type": "code",
   "execution_count": 298,
   "id": "eb588302",
   "metadata": {},
   "outputs": [
    {
     "data": {
      "text/html": [
       "<div>\n",
       "<style scoped>\n",
       "    .dataframe tbody tr th:only-of-type {\n",
       "        vertical-align: middle;\n",
       "    }\n",
       "\n",
       "    .dataframe tbody tr th {\n",
       "        vertical-align: top;\n",
       "    }\n",
       "\n",
       "    .dataframe thead th {\n",
       "        text-align: right;\n",
       "    }\n",
       "</style>\n",
       "<table border=\"1\" class=\"dataframe\">\n",
       "  <thead>\n",
       "    <tr style=\"text-align: right;\">\n",
       "      <th></th>\n",
       "      <th>Total</th>\n",
       "      <th>Result</th>\n",
       "    </tr>\n",
       "    <tr>\n",
       "      <th>STATE/UT</th>\n",
       "      <th></th>\n",
       "      <th></th>\n",
       "    </tr>\n",
       "  </thead>\n",
       "  <tbody>\n",
       "    <tr>\n",
       "      <th>A &amp; N ISLANDS</th>\n",
       "      <td>0</td>\n",
       "      <td>Peacfull</td>\n",
       "    </tr>\n",
       "    <tr>\n",
       "      <th>ANDHRA PRADESH</th>\n",
       "      <td>43419</td>\n",
       "      <td>Moderate</td>\n",
       "    </tr>\n",
       "    <tr>\n",
       "      <th>ARUNACHAL PRADESH</th>\n",
       "      <td>2</td>\n",
       "      <td>Peacfull</td>\n",
       "    </tr>\n",
       "    <tr>\n",
       "      <th>ASSAM</th>\n",
       "      <td>946</td>\n",
       "      <td>Peacfull</td>\n",
       "    </tr>\n",
       "    <tr>\n",
       "      <th>BIHAR</th>\n",
       "      <td>33341</td>\n",
       "      <td>Moderate</td>\n",
       "    </tr>\n",
       "    <tr>\n",
       "      <th>CHANDIGARH</th>\n",
       "      <td>11</td>\n",
       "      <td>Peacfull</td>\n",
       "    </tr>\n",
       "    <tr>\n",
       "      <th>CHHATTISGARH</th>\n",
       "      <td>5214</td>\n",
       "      <td>Peacfull</td>\n",
       "    </tr>\n",
       "    <tr>\n",
       "      <th>D &amp; N HAVELI</th>\n",
       "      <td>7</td>\n",
       "      <td>Peacfull</td>\n",
       "    </tr>\n",
       "    <tr>\n",
       "      <th>DAMAN &amp; DIU</th>\n",
       "      <td>5</td>\n",
       "      <td>Peacfull</td>\n",
       "    </tr>\n",
       "    <tr>\n",
       "      <th>DELHI</th>\n",
       "      <td>284</td>\n",
       "      <td>Peacfull</td>\n",
       "    </tr>\n",
       "  </tbody>\n",
       "</table>\n",
       "</div>"
      ],
      "text/plain": [
       "                   Total    Result\n",
       "STATE/UT                          \n",
       "A & N ISLANDS          0  Peacfull\n",
       "ANDHRA PRADESH     43419  Moderate\n",
       "ARUNACHAL PRADESH      2  Peacfull\n",
       "ASSAM                946  Peacfull\n",
       "BIHAR              33341  Moderate\n",
       "CHANDIGARH            11  Peacfull\n",
       "CHHATTISGARH        5214  Peacfull\n",
       "D & N HAVELI           7  Peacfull\n",
       "DAMAN & DIU            5  Peacfull\n",
       "DELHI                284  Peacfull"
      ]
     },
     "execution_count": 298,
     "metadata": {},
     "output_type": "execute_result"
    }
   ],
   "source": [
    "states.head(10)"
   ]
  },
  {
   "cell_type": "code",
   "execution_count": 299,
   "id": "e6d8c003",
   "metadata": {},
   "outputs": [
    {
     "name": "stdout",
     "output_type": "stream",
     "text": [
      "Peacfull     30\n",
      "Moderate      3\n",
      "Sensitive     2\n",
      "Name: Result, dtype: int64\n"
     ]
    },
    {
     "data": {
      "image/png": "[encoded data removed]",
      "text/plain": [
       "<Figure size 640x480 with 1 Axes>"
      ]
     },
     "metadata": {},
     "output_type": "display_data"
    }
   ],
   "source": [
    "ax=sns.countplot(data=sorted_values,x='Result')\n",
    "print(sorted_values['Result'].value_counts())"
   ]
  },
  {
   "cell_type": "markdown",
   "id": "1e95dca2",
   "metadata": {},
   "source": [
    "#02_District_wise_crimes_committed_against_ST_2001_2012"
   ]
  },
  {
   "cell_type": "code",
   "execution_count": 300,
   "id": "0e5eee09",
   "metadata": {},
   "outputs": [
    {
     "data": {
      "text/plain": [
       "(9018, 13)"
      ]
     },
     "execution_count": 300,
     "metadata": {},
     "output_type": "execute_result"
    }
   ],
   "source": [
    "df=pd.read_csv('02_District_wise_crimes_committed_against_ST_2001_2012.csv')\n",
    "df.shape"
   ]
  },
  {
   "cell_type": "code",
   "execution_count": 301,
   "id": "15074e8e",
   "metadata": {},
   "outputs": [
    {
     "data": {
      "text/plain": [
       "Index(['STATE/UT', 'DISTRICT', 'Year', 'Murder', 'Rape',\n",
       "       'Kidnapping Abduction', 'Dacoity', 'Robbery', 'Arson', 'Hurt',\n",
       "       'Protection of Civil Rights (PCR) Act',\n",
       "       'Prevention of atrocities (POA) Act', 'Other Crimes Against STs'],\n",
       "      dtype='object')"
      ]
     },
     "execution_count": 301,
     "metadata": {},
     "output_type": "execute_result"
    }
   ],
   "source": [
    "#cheking columns total available or not \n",
    "df.columns"
   ]
  },
  {
   "cell_type": "code",
   "execution_count": 302,
   "id": "b5c1da8d",
   "metadata": {},
   "outputs": [],
   "source": [
    "#Removing total crime present for evert district\n",
    "df=df.drop(list(df[df[\"DISTRICT\"]==\"TOTAL\"].index))"
   ]
  },
  {
   "cell_type": "code",
   "execution_count": 303,
   "id": "6f755d7b",
   "metadata": {},
   "outputs": [],
   "source": [
    "#we have to add all columns and make total for all crime againt ST\n",
    "x=['Murder', 'Rape',\n",
    "       'Kidnapping Abduction', 'Dacoity', 'Robbery', 'Arson', 'Hurt',\n",
    "       'Protection of Civil Rights (PCR) Act',\n",
    "       'Prevention of atrocities (POA) Act', 'Other Crimes Against STs']\n",
    "df['Total']= df[x].sum(axis=1)\n"
   ]
  },
  {
   "cell_type": "code",
   "execution_count": 304,
   "id": "ea2d1289",
   "metadata": {},
   "outputs": [
    {
     "data": {
      "text/html": [
       "<div>\n",
       "<style scoped>\n",
       "    .dataframe tbody tr th:only-of-type {\n",
       "        vertical-align: middle;\n",
       "    }\n",
       "\n",
       "    .dataframe tbody tr th {\n",
       "        vertical-align: top;\n",
       "    }\n",
       "\n",
       "    .dataframe thead th {\n",
       "        text-align: right;\n",
       "    }\n",
       "</style>\n",
       "<table border=\"1\" class=\"dataframe\">\n",
       "  <thead>\n",
       "    <tr style=\"text-align: right;\">\n",
       "      <th></th>\n",
       "      <th></th>\n",
       "      <th>Total</th>\n",
       "    </tr>\n",
       "    <tr>\n",
       "      <th>DISTRICT</th>\n",
       "      <th>STATE/UT</th>\n",
       "      <th></th>\n",
       "    </tr>\n",
       "  </thead>\n",
       "  <tbody>\n",
       "    <tr>\n",
       "      <th>BETUL</th>\n",
       "      <th>MADHYA PRADESH</th>\n",
       "      <td>914</td>\n",
       "    </tr>\n",
       "    <tr>\n",
       "      <th>MAYURBHANJ</th>\n",
       "      <th>ODISHA</th>\n",
       "      <td>895</td>\n",
       "    </tr>\n",
       "    <tr>\n",
       "      <th>NALGONDA</th>\n",
       "      <th>ANDHRA PRADESH</th>\n",
       "      <td>886</td>\n",
       "    </tr>\n",
       "    <tr>\n",
       "      <th>SEONI</th>\n",
       "      <th>MADHYA PRADESH</th>\n",
       "      <td>804</td>\n",
       "    </tr>\n",
       "    <tr>\n",
       "      <th>TONK</th>\n",
       "      <th>RAJASTHAN</th>\n",
       "      <td>764</td>\n",
       "    </tr>\n",
       "    <tr>\n",
       "      <th>...</th>\n",
       "      <th>...</th>\n",
       "      <td>...</td>\n",
       "    </tr>\n",
       "    <tr>\n",
       "      <th>NORTH EAST</th>\n",
       "      <th>DELHI</th>\n",
       "      <td>0</td>\n",
       "    </tr>\n",
       "    <tr>\n",
       "      <th rowspan=\"2\" valign=\"top\">NORTH</th>\n",
       "      <th>DELHI</th>\n",
       "      <td>0</td>\n",
       "    </tr>\n",
       "    <tr>\n",
       "      <th>A &amp; N ISLANDS</th>\n",
       "      <td>0</td>\n",
       "    </tr>\n",
       "    <tr>\n",
       "      <th>EAST</th>\n",
       "      <th>DELHI</th>\n",
       "      <td>0</td>\n",
       "    </tr>\n",
       "    <tr>\n",
       "      <th>FARIDABAD</th>\n",
       "      <th>HARYANA</th>\n",
       "      <td>0</td>\n",
       "    </tr>\n",
       "  </tbody>\n",
       "</table>\n",
       "<p>833 rows × 1 columns</p>\n",
       "</div>"
      ],
      "text/plain": [
       "                           Total\n",
       "DISTRICT   STATE/UT             \n",
       "BETUL      MADHYA PRADESH    914\n",
       "MAYURBHANJ ODISHA            895\n",
       "NALGONDA   ANDHRA PRADESH    886\n",
       "SEONI      MADHYA PRADESH    804\n",
       "TONK       RAJASTHAN         764\n",
       "...                          ...\n",
       "NORTH EAST DELHI               0\n",
       "NORTH      DELHI               0\n",
       "           A & N ISLANDS       0\n",
       "EAST       DELHI               0\n",
       "FARIDABAD  HARYANA             0\n",
       "\n",
       "[833 rows x 1 columns]"
      ]
     },
     "execution_count": 304,
     "metadata": {},
     "output_type": "execute_result"
    }
   ],
   "source": [
    "#Group by District to Segegate districts in Clusters\n",
    "y= pd.DataFrame(df.groupby(['DISTRICT','STATE/UT'])['Total'].sum())\n",
    "y.sort_values(by=\"Total\",ascending=False)\n"
   ]
  },
  {
   "cell_type": "code",
   "execution_count": 305,
   "id": "ac8b728a",
   "metadata": {},
   "outputs": [
    {
     "data": {
      "text/html": [
       "<div>\n",
       "<style scoped>\n",
       "    .dataframe tbody tr th:only-of-type {\n",
       "        vertical-align: middle;\n",
       "    }\n",
       "\n",
       "    .dataframe tbody tr th {\n",
       "        vertical-align: top;\n",
       "    }\n",
       "\n",
       "    .dataframe thead th {\n",
       "        text-align: right;\n",
       "    }\n",
       "</style>\n",
       "<table border=\"1\" class=\"dataframe\">\n",
       "  <thead>\n",
       "    <tr style=\"text-align: right;\">\n",
       "      <th></th>\n",
       "      <th></th>\n",
       "      <th>Total</th>\n",
       "      <th>Result</th>\n",
       "    </tr>\n",
       "    <tr>\n",
       "      <th>DISTRICT</th>\n",
       "      <th>STATE/UT</th>\n",
       "      <th></th>\n",
       "      <th></th>\n",
       "    </tr>\n",
       "  </thead>\n",
       "  <tbody>\n",
       "    <tr>\n",
       "      <th>BETUL</th>\n",
       "      <th>MADHYA PRADESH</th>\n",
       "      <td>914</td>\n",
       "      <td>Sensitive</td>\n",
       "    </tr>\n",
       "    <tr>\n",
       "      <th>MAYURBHANJ</th>\n",
       "      <th>ODISHA</th>\n",
       "      <td>895</td>\n",
       "      <td>Sensitive</td>\n",
       "    </tr>\n",
       "    <tr>\n",
       "      <th>NALGONDA</th>\n",
       "      <th>ANDHRA PRADESH</th>\n",
       "      <td>886</td>\n",
       "      <td>Sensitive</td>\n",
       "    </tr>\n",
       "    <tr>\n",
       "      <th>SEONI</th>\n",
       "      <th>MADHYA PRADESH</th>\n",
       "      <td>804</td>\n",
       "      <td>Sensitive</td>\n",
       "    </tr>\n",
       "    <tr>\n",
       "      <th>TONK</th>\n",
       "      <th>RAJASTHAN</th>\n",
       "      <td>764</td>\n",
       "      <td>Sensitive</td>\n",
       "    </tr>\n",
       "    <tr>\n",
       "      <th>...</th>\n",
       "      <th>...</th>\n",
       "      <td>...</td>\n",
       "      <td>...</td>\n",
       "    </tr>\n",
       "    <tr>\n",
       "      <th>NORTH EAST</th>\n",
       "      <th>DELHI</th>\n",
       "      <td>0</td>\n",
       "      <td>Peacfull</td>\n",
       "    </tr>\n",
       "    <tr>\n",
       "      <th rowspan=\"2\" valign=\"top\">NORTH</th>\n",
       "      <th>DELHI</th>\n",
       "      <td>0</td>\n",
       "      <td>Peacfull</td>\n",
       "    </tr>\n",
       "    <tr>\n",
       "      <th>A &amp; N ISLANDS</th>\n",
       "      <td>0</td>\n",
       "      <td>Peacfull</td>\n",
       "    </tr>\n",
       "    <tr>\n",
       "      <th>EAST</th>\n",
       "      <th>DELHI</th>\n",
       "      <td>0</td>\n",
       "      <td>Peacfull</td>\n",
       "    </tr>\n",
       "    <tr>\n",
       "      <th>FARIDABAD</th>\n",
       "      <th>HARYANA</th>\n",
       "      <td>0</td>\n",
       "      <td>Peacfull</td>\n",
       "    </tr>\n",
       "  </tbody>\n",
       "</table>\n",
       "<p>833 rows × 2 columns</p>\n",
       "</div>"
      ],
      "text/plain": [
       "                           Total     Result\n",
       "DISTRICT   STATE/UT                        \n",
       "BETUL      MADHYA PRADESH    914  Sensitive\n",
       "MAYURBHANJ ODISHA            895  Sensitive\n",
       "NALGONDA   ANDHRA PRADESH    886  Sensitive\n",
       "SEONI      MADHYA PRADESH    804  Sensitive\n",
       "TONK       RAJASTHAN         764  Sensitive\n",
       "...                          ...        ...\n",
       "NORTH EAST DELHI               0   Peacfull\n",
       "NORTH      DELHI               0   Peacfull\n",
       "           A & N ISLANDS       0   Peacfull\n",
       "EAST       DELHI               0   Peacfull\n",
       "FARIDABAD  HARYANA             0   Peacfull\n",
       "\n",
       "[833 rows x 2 columns]"
      ]
     },
     "execution_count": 305,
     "metadata": {},
     "output_type": "execute_result"
    }
   ],
   "source": [
    "y['Result'] = y['Total'].apply(lambda y: 'Sensitive' if y >=610  else 'Moderate'if y >=305 and y<610 else 'Peacfull')\n",
    "sorted_values=y.sort_values(by=\"Total\",ascending=False)\n",
    "sorted_values\n"
   ]
  },
  {
   "cell_type": "code",
   "execution_count": 306,
   "id": "d1c44a94",
   "metadata": {},
   "outputs": [
    {
     "name": "stdout",
     "output_type": "stream",
     "text": [
      "Peacfull     753\n",
      "Moderate      64\n",
      "Sensitive     16\n",
      "Name: Result, dtype: int64\n"
     ]
    },
    {
     "data": {
      "image/png": "[encoded data removed]",
      "text/plain": [
       "<Figure size 640x480 with 1 Axes>"
      ]
     },
     "metadata": {},
     "output_type": "display_data"
    }
   ],
   "source": [
    "ax=sns.countplot(data=sorted_values,x='Result')\n",
    "print(sorted_values['Result'].value_counts())"
   ]
  },
  {
   "cell_type": "code",
   "execution_count": 307,
   "id": "867904c1",
   "metadata": {},
   "outputs": [
    {
     "data": {
      "text/html": [
       "<div>\n",
       "<style scoped>\n",
       "    .dataframe tbody tr th:only-of-type {\n",
       "        vertical-align: middle;\n",
       "    }\n",
       "\n",
       "    .dataframe tbody tr th {\n",
       "        vertical-align: top;\n",
       "    }\n",
       "\n",
       "    .dataframe thead th {\n",
       "        text-align: right;\n",
       "    }\n",
       "</style>\n",
       "<table border=\"1\" class=\"dataframe\">\n",
       "  <thead>\n",
       "    <tr style=\"text-align: right;\">\n",
       "      <th></th>\n",
       "      <th></th>\n",
       "      <th>Total</th>\n",
       "      <th>Result</th>\n",
       "    </tr>\n",
       "    <tr>\n",
       "      <th>DISTRICT</th>\n",
       "      <th>STATE/UT</th>\n",
       "      <th></th>\n",
       "      <th></th>\n",
       "    </tr>\n",
       "  </thead>\n",
       "  <tbody>\n",
       "    <tr>\n",
       "      <th>BETUL</th>\n",
       "      <th>MADHYA PRADESH</th>\n",
       "      <td>914</td>\n",
       "      <td>Sensitive</td>\n",
       "    </tr>\n",
       "    <tr>\n",
       "      <th>MAYURBHANJ</th>\n",
       "      <th>ODISHA</th>\n",
       "      <td>895</td>\n",
       "      <td>Sensitive</td>\n",
       "    </tr>\n",
       "    <tr>\n",
       "      <th>NALGONDA</th>\n",
       "      <th>ANDHRA PRADESH</th>\n",
       "      <td>886</td>\n",
       "      <td>Sensitive</td>\n",
       "    </tr>\n",
       "    <tr>\n",
       "      <th>SEONI</th>\n",
       "      <th>MADHYA PRADESH</th>\n",
       "      <td>804</td>\n",
       "      <td>Sensitive</td>\n",
       "    </tr>\n",
       "    <tr>\n",
       "      <th>TONK</th>\n",
       "      <th>RAJASTHAN</th>\n",
       "      <td>764</td>\n",
       "      <td>Sensitive</td>\n",
       "    </tr>\n",
       "  </tbody>\n",
       "</table>\n",
       "</div>"
      ],
      "text/plain": [
       "                           Total     Result\n",
       "DISTRICT   STATE/UT                        \n",
       "BETUL      MADHYA PRADESH    914  Sensitive\n",
       "MAYURBHANJ ODISHA            895  Sensitive\n",
       "NALGONDA   ANDHRA PRADESH    886  Sensitive\n",
       "SEONI      MADHYA PRADESH    804  Sensitive\n",
       "TONK       RAJASTHAN         764  Sensitive"
      ]
     },
     "execution_count": 307,
     "metadata": {},
     "output_type": "execute_result"
    }
   ],
   "source": [
    "#top 5 sensetive \n",
    "sorted_values.head(5)\n"
   ]
  },
  {
   "cell_type": "code",
   "execution_count": 308,
   "id": "e906001a",
   "metadata": {},
   "outputs": [
    {
     "data": {
      "text/html": [
       "<div>\n",
       "<style scoped>\n",
       "    .dataframe tbody tr th:only-of-type {\n",
       "        vertical-align: middle;\n",
       "    }\n",
       "\n",
       "    .dataframe tbody tr th {\n",
       "        vertical-align: top;\n",
       "    }\n",
       "\n",
       "    .dataframe thead th {\n",
       "        text-align: right;\n",
       "    }\n",
       "</style>\n",
       "<table border=\"1\" class=\"dataframe\">\n",
       "  <thead>\n",
       "    <tr style=\"text-align: right;\">\n",
       "      <th></th>\n",
       "      <th></th>\n",
       "      <th>Total</th>\n",
       "      <th>Result</th>\n",
       "    </tr>\n",
       "    <tr>\n",
       "      <th>DISTRICT</th>\n",
       "      <th>STATE/UT</th>\n",
       "      <th></th>\n",
       "      <th></th>\n",
       "    </tr>\n",
       "  </thead>\n",
       "  <tbody>\n",
       "    <tr>\n",
       "      <th>NORTH EAST</th>\n",
       "      <th>DELHI</th>\n",
       "      <td>0</td>\n",
       "      <td>Peacfull</td>\n",
       "    </tr>\n",
       "    <tr>\n",
       "      <th rowspan=\"2\" valign=\"top\">NORTH</th>\n",
       "      <th>DELHI</th>\n",
       "      <td>0</td>\n",
       "      <td>Peacfull</td>\n",
       "    </tr>\n",
       "    <tr>\n",
       "      <th>A &amp; N ISLANDS</th>\n",
       "      <td>0</td>\n",
       "      <td>Peacfull</td>\n",
       "    </tr>\n",
       "    <tr>\n",
       "      <th>EAST</th>\n",
       "      <th>DELHI</th>\n",
       "      <td>0</td>\n",
       "      <td>Peacfull</td>\n",
       "    </tr>\n",
       "    <tr>\n",
       "      <th>FARIDABAD</th>\n",
       "      <th>HARYANA</th>\n",
       "      <td>0</td>\n",
       "      <td>Peacfull</td>\n",
       "    </tr>\n",
       "  </tbody>\n",
       "</table>\n",
       "</div>"
      ],
      "text/plain": [
       "                          Total    Result\n",
       "DISTRICT   STATE/UT                      \n",
       "NORTH EAST DELHI              0  Peacfull\n",
       "NORTH      DELHI              0  Peacfull\n",
       "           A & N ISLANDS      0  Peacfull\n",
       "EAST       DELHI              0  Peacfull\n",
       "FARIDABAD  HARYANA            0  Peacfull"
      ]
     },
     "execution_count": 308,
     "metadata": {},
     "output_type": "execute_result"
    }
   ],
   "source": [
    "# Peacefull districts\n",
    "sorted_values.tail(5)"
   ]
  },
  {
   "cell_type": "code",
   "execution_count": 309,
   "id": "3f773ecb",
   "metadata": {},
   "outputs": [
    {
     "data": {
      "text/html": [
       "<div>\n",
       "<style scoped>\n",
       "    .dataframe tbody tr th:only-of-type {\n",
       "        vertical-align: middle;\n",
       "    }\n",
       "\n",
       "    .dataframe tbody tr th {\n",
       "        vertical-align: top;\n",
       "    }\n",
       "\n",
       "    .dataframe thead th {\n",
       "        text-align: right;\n",
       "    }\n",
       "</style>\n",
       "<table border=\"1\" class=\"dataframe\">\n",
       "  <thead>\n",
       "    <tr style=\"text-align: right;\">\n",
       "      <th></th>\n",
       "      <th>Total</th>\n",
       "    </tr>\n",
       "    <tr>\n",
       "      <th>STATE/UT</th>\n",
       "      <th></th>\n",
       "    </tr>\n",
       "  </thead>\n",
       "  <tbody>\n",
       "    <tr>\n",
       "      <th>MADHYA PRADESH</th>\n",
       "      <td>18191</td>\n",
       "    </tr>\n",
       "    <tr>\n",
       "      <th>RAJASTHAN</th>\n",
       "      <td>12990</td>\n",
       "    </tr>\n",
       "    <tr>\n",
       "      <th>ANDHRA PRADESH</th>\n",
       "      <td>8093</td>\n",
       "    </tr>\n",
       "    <tr>\n",
       "      <th>ODISHA</th>\n",
       "      <td>6350</td>\n",
       "    </tr>\n",
       "    <tr>\n",
       "      <th>CHHATTISGARH</th>\n",
       "      <td>6005</td>\n",
       "    </tr>\n",
       "    <tr>\n",
       "      <th>MAHARASHTRA</th>\n",
       "      <td>3100</td>\n",
       "    </tr>\n",
       "    <tr>\n",
       "      <th>KARNATAKA</th>\n",
       "      <td>3061</td>\n",
       "    </tr>\n",
       "    <tr>\n",
       "      <th>JHARKHAND</th>\n",
       "      <td>2968</td>\n",
       "    </tr>\n",
       "    <tr>\n",
       "      <th>GUJARAT</th>\n",
       "      <td>2635</td>\n",
       "    </tr>\n",
       "    <tr>\n",
       "      <th>KERALA</th>\n",
       "      <td>1228</td>\n",
       "    </tr>\n",
       "    <tr>\n",
       "      <th>NAGALAND</th>\n",
       "      <td>1048</td>\n",
       "    </tr>\n",
       "    <tr>\n",
       "      <th>BIHAR</th>\n",
       "      <td>829</td>\n",
       "    </tr>\n",
       "    <tr>\n",
       "      <th>ASSAM</th>\n",
       "      <td>724</td>\n",
       "    </tr>\n",
       "    <tr>\n",
       "      <th>ARUNACHAL PRADESH</th>\n",
       "      <td>595</td>\n",
       "    </tr>\n",
       "    <tr>\n",
       "      <th>UTTAR PRADESH</th>\n",
       "      <td>480</td>\n",
       "    </tr>\n",
       "    <tr>\n",
       "      <th>TAMIL NADU</th>\n",
       "      <td>353</td>\n",
       "    </tr>\n",
       "    <tr>\n",
       "      <th>WEST BENGAL</th>\n",
       "      <td>262</td>\n",
       "    </tr>\n",
       "    <tr>\n",
       "      <th>TRIPURA</th>\n",
       "      <td>162</td>\n",
       "    </tr>\n",
       "    <tr>\n",
       "      <th>SIKKIM</th>\n",
       "      <td>128</td>\n",
       "    </tr>\n",
       "    <tr>\n",
       "      <th>D &amp; N HAVELI</th>\n",
       "      <td>73</td>\n",
       "    </tr>\n",
       "    <tr>\n",
       "      <th>HIMACHAL PRADESH</th>\n",
       "      <td>69</td>\n",
       "    </tr>\n",
       "    <tr>\n",
       "      <th>MIZORAM</th>\n",
       "      <td>50</td>\n",
       "    </tr>\n",
       "    <tr>\n",
       "      <th>A &amp; N ISLANDS</th>\n",
       "      <td>41</td>\n",
       "    </tr>\n",
       "    <tr>\n",
       "      <th>UTTARAKHAND</th>\n",
       "      <td>35</td>\n",
       "    </tr>\n",
       "    <tr>\n",
       "      <th>MANIPUR</th>\n",
       "      <td>35</td>\n",
       "    </tr>\n",
       "    <tr>\n",
       "      <th>JAMMU &amp; KASHMIR</th>\n",
       "      <td>8</td>\n",
       "    </tr>\n",
       "    <tr>\n",
       "      <th>DAMAN &amp; DIU</th>\n",
       "      <td>5</td>\n",
       "    </tr>\n",
       "    <tr>\n",
       "      <th>HARYANA</th>\n",
       "      <td>5</td>\n",
       "    </tr>\n",
       "    <tr>\n",
       "      <th>GOA</th>\n",
       "      <td>4</td>\n",
       "    </tr>\n",
       "    <tr>\n",
       "      <th>MEGHALAYA</th>\n",
       "      <td>2</td>\n",
       "    </tr>\n",
       "    <tr>\n",
       "      <th>LAKSHADWEEP</th>\n",
       "      <td>1</td>\n",
       "    </tr>\n",
       "    <tr>\n",
       "      <th>DELHI</th>\n",
       "      <td>1</td>\n",
       "    </tr>\n",
       "    <tr>\n",
       "      <th>PUNJAB</th>\n",
       "      <td>0</td>\n",
       "    </tr>\n",
       "    <tr>\n",
       "      <th>CHANDIGARH</th>\n",
       "      <td>0</td>\n",
       "    </tr>\n",
       "    <tr>\n",
       "      <th>PUDUCHERRY</th>\n",
       "      <td>0</td>\n",
       "    </tr>\n",
       "  </tbody>\n",
       "</table>\n",
       "</div>"
      ],
      "text/plain": [
       "                   Total\n",
       "STATE/UT                \n",
       "MADHYA PRADESH     18191\n",
       "RAJASTHAN          12990\n",
       "ANDHRA PRADESH      8093\n",
       "ODISHA              6350\n",
       "CHHATTISGARH        6005\n",
       "MAHARASHTRA         3100\n",
       "KARNATAKA           3061\n",
       "JHARKHAND           2968\n",
       "GUJARAT             2635\n",
       "KERALA              1228\n",
       "NAGALAND            1048\n",
       "BIHAR                829\n",
       "ASSAM                724\n",
       "ARUNACHAL PRADESH    595\n",
       "UTTAR PRADESH        480\n",
       "TAMIL NADU           353\n",
       "WEST BENGAL          262\n",
       "TRIPURA              162\n",
       "SIKKIM               128\n",
       "D & N HAVELI          73\n",
       "HIMACHAL PRADESH      69\n",
       "MIZORAM               50\n",
       "A & N ISLANDS         41\n",
       "UTTARAKHAND           35\n",
       "MANIPUR               35\n",
       "JAMMU & KASHMIR        8\n",
       "DAMAN & DIU            5\n",
       "HARYANA                5\n",
       "GOA                    4\n",
       "MEGHALAYA              2\n",
       "LAKSHADWEEP            1\n",
       "DELHI                  1\n",
       "PUNJAB                 0\n",
       "CHANDIGARH             0\n",
       "PUDUCHERRY             0"
      ]
     },
     "execution_count": 309,
     "metadata": {},
     "output_type": "execute_result"
    }
   ],
   "source": [
    "#Segregating crime agaist states\n",
    "states=pd.DataFrame(df.groupby(['STATE/UT'])['Total'].sum())\n",
    "states.sort_values(by=\"Total\",ascending=False)"
   ]
  },
  {
   "cell_type": "code",
   "execution_count": 310,
   "id": "c6db7c6b",
   "metadata": {},
   "outputs": [
    {
     "data": {
      "text/html": [
       "<div>\n",
       "<style scoped>\n",
       "    .dataframe tbody tr th:only-of-type {\n",
       "        vertical-align: middle;\n",
       "    }\n",
       "\n",
       "    .dataframe tbody tr th {\n",
       "        vertical-align: top;\n",
       "    }\n",
       "\n",
       "    .dataframe thead th {\n",
       "        text-align: right;\n",
       "    }\n",
       "</style>\n",
       "<table border=\"1\" class=\"dataframe\">\n",
       "  <thead>\n",
       "    <tr style=\"text-align: right;\">\n",
       "      <th></th>\n",
       "      <th>Total</th>\n",
       "      <th>Result</th>\n",
       "    </tr>\n",
       "    <tr>\n",
       "      <th>STATE/UT</th>\n",
       "      <th></th>\n",
       "      <th></th>\n",
       "    </tr>\n",
       "  </thead>\n",
       "  <tbody>\n",
       "    <tr>\n",
       "      <th>MADHYA PRADESH</th>\n",
       "      <td>18191</td>\n",
       "      <td>Sensitive</td>\n",
       "    </tr>\n",
       "    <tr>\n",
       "      <th>RAJASTHAN</th>\n",
       "      <td>12990</td>\n",
       "      <td>Sensitive</td>\n",
       "    </tr>\n",
       "    <tr>\n",
       "      <th>ANDHRA PRADESH</th>\n",
       "      <td>8093</td>\n",
       "      <td>Moderate</td>\n",
       "    </tr>\n",
       "    <tr>\n",
       "      <th>ODISHA</th>\n",
       "      <td>6350</td>\n",
       "      <td>Moderate</td>\n",
       "    </tr>\n",
       "    <tr>\n",
       "      <th>CHHATTISGARH</th>\n",
       "      <td>6005</td>\n",
       "      <td>Peaceful</td>\n",
       "    </tr>\n",
       "    <tr>\n",
       "      <th>MAHARASHTRA</th>\n",
       "      <td>3100</td>\n",
       "      <td>Peaceful</td>\n",
       "    </tr>\n",
       "    <tr>\n",
       "      <th>KARNATAKA</th>\n",
       "      <td>3061</td>\n",
       "      <td>Peaceful</td>\n",
       "    </tr>\n",
       "    <tr>\n",
       "      <th>JHARKHAND</th>\n",
       "      <td>2968</td>\n",
       "      <td>Peaceful</td>\n",
       "    </tr>\n",
       "    <tr>\n",
       "      <th>GUJARAT</th>\n",
       "      <td>2635</td>\n",
       "      <td>Peaceful</td>\n",
       "    </tr>\n",
       "    <tr>\n",
       "      <th>KERALA</th>\n",
       "      <td>1228</td>\n",
       "      <td>Peaceful</td>\n",
       "    </tr>\n",
       "    <tr>\n",
       "      <th>NAGALAND</th>\n",
       "      <td>1048</td>\n",
       "      <td>Peaceful</td>\n",
       "    </tr>\n",
       "    <tr>\n",
       "      <th>BIHAR</th>\n",
       "      <td>829</td>\n",
       "      <td>Peaceful</td>\n",
       "    </tr>\n",
       "    <tr>\n",
       "      <th>ASSAM</th>\n",
       "      <td>724</td>\n",
       "      <td>Peaceful</td>\n",
       "    </tr>\n",
       "    <tr>\n",
       "      <th>ARUNACHAL PRADESH</th>\n",
       "      <td>595</td>\n",
       "      <td>Peaceful</td>\n",
       "    </tr>\n",
       "    <tr>\n",
       "      <th>UTTAR PRADESH</th>\n",
       "      <td>480</td>\n",
       "      <td>Peaceful</td>\n",
       "    </tr>\n",
       "    <tr>\n",
       "      <th>TAMIL NADU</th>\n",
       "      <td>353</td>\n",
       "      <td>Peaceful</td>\n",
       "    </tr>\n",
       "    <tr>\n",
       "      <th>WEST BENGAL</th>\n",
       "      <td>262</td>\n",
       "      <td>Peaceful</td>\n",
       "    </tr>\n",
       "    <tr>\n",
       "      <th>TRIPURA</th>\n",
       "      <td>162</td>\n",
       "      <td>Peaceful</td>\n",
       "    </tr>\n",
       "    <tr>\n",
       "      <th>SIKKIM</th>\n",
       "      <td>128</td>\n",
       "      <td>Peaceful</td>\n",
       "    </tr>\n",
       "    <tr>\n",
       "      <th>D &amp; N HAVELI</th>\n",
       "      <td>73</td>\n",
       "      <td>Peaceful</td>\n",
       "    </tr>\n",
       "    <tr>\n",
       "      <th>HIMACHAL PRADESH</th>\n",
       "      <td>69</td>\n",
       "      <td>Peaceful</td>\n",
       "    </tr>\n",
       "    <tr>\n",
       "      <th>MIZORAM</th>\n",
       "      <td>50</td>\n",
       "      <td>Peaceful</td>\n",
       "    </tr>\n",
       "    <tr>\n",
       "      <th>A &amp; N ISLANDS</th>\n",
       "      <td>41</td>\n",
       "      <td>Peaceful</td>\n",
       "    </tr>\n",
       "    <tr>\n",
       "      <th>UTTARAKHAND</th>\n",
       "      <td>35</td>\n",
       "      <td>Peaceful</td>\n",
       "    </tr>\n",
       "    <tr>\n",
       "      <th>MANIPUR</th>\n",
       "      <td>35</td>\n",
       "      <td>Peaceful</td>\n",
       "    </tr>\n",
       "    <tr>\n",
       "      <th>JAMMU &amp; KASHMIR</th>\n",
       "      <td>8</td>\n",
       "      <td>Peaceful</td>\n",
       "    </tr>\n",
       "    <tr>\n",
       "      <th>DAMAN &amp; DIU</th>\n",
       "      <td>5</td>\n",
       "      <td>Peaceful</td>\n",
       "    </tr>\n",
       "    <tr>\n",
       "      <th>HARYANA</th>\n",
       "      <td>5</td>\n",
       "      <td>Peaceful</td>\n",
       "    </tr>\n",
       "    <tr>\n",
       "      <th>GOA</th>\n",
       "      <td>4</td>\n",
       "      <td>Peaceful</td>\n",
       "    </tr>\n",
       "    <tr>\n",
       "      <th>MEGHALAYA</th>\n",
       "      <td>2</td>\n",
       "      <td>Peaceful</td>\n",
       "    </tr>\n",
       "    <tr>\n",
       "      <th>LAKSHADWEEP</th>\n",
       "      <td>1</td>\n",
       "      <td>Peaceful</td>\n",
       "    </tr>\n",
       "    <tr>\n",
       "      <th>DELHI</th>\n",
       "      <td>1</td>\n",
       "      <td>Peaceful</td>\n",
       "    </tr>\n",
       "    <tr>\n",
       "      <th>PUNJAB</th>\n",
       "      <td>0</td>\n",
       "      <td>Peaceful</td>\n",
       "    </tr>\n",
       "    <tr>\n",
       "      <th>CHANDIGARH</th>\n",
       "      <td>0</td>\n",
       "      <td>Peaceful</td>\n",
       "    </tr>\n",
       "    <tr>\n",
       "      <th>PUDUCHERRY</th>\n",
       "      <td>0</td>\n",
       "      <td>Peaceful</td>\n",
       "    </tr>\n",
       "  </tbody>\n",
       "</table>\n",
       "</div>"
      ],
      "text/plain": [
       "                   Total     Result\n",
       "STATE/UT                           \n",
       "MADHYA PRADESH     18191  Sensitive\n",
       "RAJASTHAN          12990  Sensitive\n",
       "ANDHRA PRADESH      8093   Moderate\n",
       "ODISHA              6350   Moderate\n",
       "CHHATTISGARH        6005   Peaceful\n",
       "MAHARASHTRA         3100   Peaceful\n",
       "KARNATAKA           3061   Peaceful\n",
       "JHARKHAND           2968   Peaceful\n",
       "GUJARAT             2635   Peaceful\n",
       "KERALA              1228   Peaceful\n",
       "NAGALAND            1048   Peaceful\n",
       "BIHAR                829   Peaceful\n",
       "ASSAM                724   Peaceful\n",
       "ARUNACHAL PRADESH    595   Peaceful\n",
       "UTTAR PRADESH        480   Peaceful\n",
       "TAMIL NADU           353   Peaceful\n",
       "WEST BENGAL          262   Peaceful\n",
       "TRIPURA              162   Peaceful\n",
       "SIKKIM               128   Peaceful\n",
       "D & N HAVELI          73   Peaceful\n",
       "HIMACHAL PRADESH      69   Peaceful\n",
       "MIZORAM               50   Peaceful\n",
       "A & N ISLANDS         41   Peaceful\n",
       "UTTARAKHAND           35   Peaceful\n",
       "MANIPUR               35   Peaceful\n",
       "JAMMU & KASHMIR        8   Peaceful\n",
       "DAMAN & DIU            5   Peaceful\n",
       "HARYANA                5   Peaceful\n",
       "GOA                    4   Peaceful\n",
       "MEGHALAYA              2   Peaceful\n",
       "LAKSHADWEEP            1   Peaceful\n",
       "DELHI                  1   Peaceful\n",
       "PUNJAB                 0   Peaceful\n",
       "CHANDIGARH             0   Peaceful\n",
       "PUDUCHERRY             0   Peaceful"
      ]
     },
     "execution_count": 310,
     "metadata": {},
     "output_type": "execute_result"
    }
   ],
   "source": [
    "states['Result'] = states['Total'].apply(lambda states: 'Sensitive' if states >=12127  else 'Moderate'if states >=6063 and states<12127 else 'Peaceful')\n",
    "sorted_values=states.sort_values(by=\"Total\",ascending=False)\n",
    "sorted_values"
   ]
  },
  {
   "cell_type": "code",
   "execution_count": 311,
   "id": "4f703865",
   "metadata": {},
   "outputs": [
    {
     "name": "stdout",
     "output_type": "stream",
     "text": [
      "Peaceful     31\n",
      "Sensitive     2\n",
      "Moderate      2\n",
      "Name: Result, dtype: int64\n"
     ]
    },
    {
     "data": {
      "image/png": "[encoded data removed]",
      "text/plain": [
       "<Figure size 640x480 with 1 Axes>"
      ]
     },
     "metadata": {},
     "output_type": "display_data"
    }
   ],
   "source": [
    "ax=sns.countplot(data=sorted_values,x='Result')\n",
    "print(sorted_values['Result'].value_counts())"
   ]
  },
  {
   "cell_type": "markdown",
   "id": "66d368d8",
   "metadata": {},
   "source": [
    "#03_District_wise_crimes_committed_against_children_2001_2012"
   ]
  },
  {
   "cell_type": "code",
   "execution_count": 312,
   "id": "df794b7a",
   "metadata": {},
   "outputs": [],
   "source": [
    "df=pd.read_csv('03_District_wise_crimes_committed_against_children_2001_2012.csv')\n"
   ]
  },
  {
   "cell_type": "code",
   "execution_count": 313,
   "id": "cf08a323",
   "metadata": {},
   "outputs": [
    {
     "data": {
      "text/plain": [
       "(9015, 15)"
      ]
     },
     "execution_count": 313,
     "metadata": {},
     "output_type": "execute_result"
    }
   ],
   "source": [
    "df.shape"
   ]
  },
  {
   "cell_type": "code",
   "execution_count": 314,
   "id": "79b19bd7",
   "metadata": {},
   "outputs": [
    {
     "data": {
      "text/plain": [
       "Index(['STATE/UT', 'DISTRICT', 'Year', 'Murder', 'Rape',\n",
       "       'Kidnapping and Abduction', 'Foeticide', 'Abetment of suicide',\n",
       "       'Exposure and abandonment', 'Procuration of minor girls',\n",
       "       'Buying of girls for prostitution', 'Selling of girls for prostitution',\n",
       "       'Prohibition of child marriage act', 'Other Crimes', 'Total'],\n",
       "      dtype='object')"
      ]
     },
     "execution_count": 314,
     "metadata": {},
     "output_type": "execute_result"
    }
   ],
   "source": [
    "#Total of all columns present here\n",
    "df.columns"
   ]
  },
  {
   "cell_type": "code",
   "execution_count": 315,
   "id": "ba8a35db",
   "metadata": {},
   "outputs": [],
   "source": [
    "#column for each year present so we have to remove\n",
    "df=df.drop(list(df[df[\"DISTRICT\"]==\"TOTAL\"].index))"
   ]
  },
  {
   "cell_type": "code",
   "execution_count": 316,
   "id": "27ef1308",
   "metadata": {},
   "outputs": [
    {
     "data": {
      "text/html": [
       "<div>\n",
       "<style scoped>\n",
       "    .dataframe tbody tr th:only-of-type {\n",
       "        vertical-align: middle;\n",
       "    }\n",
       "\n",
       "    .dataframe tbody tr th {\n",
       "        vertical-align: top;\n",
       "    }\n",
       "\n",
       "    .dataframe thead th {\n",
       "        text-align: right;\n",
       "    }\n",
       "</style>\n",
       "<table border=\"1\" class=\"dataframe\">\n",
       "  <thead>\n",
       "    <tr style=\"text-align: right;\">\n",
       "      <th></th>\n",
       "      <th></th>\n",
       "      <th>Total</th>\n",
       "    </tr>\n",
       "    <tr>\n",
       "      <th>DISTRICT</th>\n",
       "      <th>STATE/UT</th>\n",
       "      <th></th>\n",
       "    </tr>\n",
       "  </thead>\n",
       "  <tbody>\n",
       "    <tr>\n",
       "      <th>INDORE</th>\n",
       "      <th>MADHYA PRADESH</th>\n",
       "      <td>4401</td>\n",
       "    </tr>\n",
       "    <tr>\n",
       "      <th>ZDELHI UT TOTAL</th>\n",
       "      <th>DELHI</th>\n",
       "      <td>4179</td>\n",
       "    </tr>\n",
       "    <tr>\n",
       "      <th>DELHI UT TOTAL</th>\n",
       "      <th>DELHI</th>\n",
       "      <td>3917</td>\n",
       "    </tr>\n",
       "    <tr>\n",
       "      <th>NORTH-WEST</th>\n",
       "      <th>DELHI</th>\n",
       "      <td>3447</td>\n",
       "    </tr>\n",
       "    <tr>\n",
       "      <th>PUNE COMMR.</th>\n",
       "      <th>MAHARASHTRA</th>\n",
       "      <td>3391</td>\n",
       "    </tr>\n",
       "    <tr>\n",
       "      <th>...</th>\n",
       "      <th>...</th>\n",
       "      <td>...</td>\n",
       "    </tr>\n",
       "    <tr>\n",
       "      <th>RAILWAYS JAMMU</th>\n",
       "      <th>JAMMU &amp; KASHMIR</th>\n",
       "      <td>0</td>\n",
       "    </tr>\n",
       "    <tr>\n",
       "      <th>TEHRI GARHWAL</th>\n",
       "      <th>UTTARAKHAND</th>\n",
       "      <td>0</td>\n",
       "    </tr>\n",
       "    <tr>\n",
       "      <th>RAILWAYS KASHMIR</th>\n",
       "      <th>JAMMU &amp; KASHMIR</th>\n",
       "      <td>0</td>\n",
       "    </tr>\n",
       "    <tr>\n",
       "      <th>RAILWAYS KATRA</th>\n",
       "      <th>JAMMU &amp; KASHMIR</th>\n",
       "      <td>0</td>\n",
       "    </tr>\n",
       "    <tr>\n",
       "      <th>BOLANGIR</th>\n",
       "      <th>ODISHA</th>\n",
       "      <td>0</td>\n",
       "    </tr>\n",
       "  </tbody>\n",
       "</table>\n",
       "<p>842 rows × 1 columns</p>\n",
       "</div>"
      ],
      "text/plain": [
       "                                  Total\n",
       "DISTRICT         STATE/UT              \n",
       "INDORE           MADHYA PRADESH    4401\n",
       "ZDELHI UT TOTAL  DELHI             4179\n",
       "DELHI UT TOTAL   DELHI             3917\n",
       "NORTH-WEST       DELHI             3447\n",
       "PUNE COMMR.      MAHARASHTRA       3391\n",
       "...                                 ...\n",
       "RAILWAYS JAMMU   JAMMU & KASHMIR      0\n",
       "TEHRI GARHWAL    UTTARAKHAND          0\n",
       "RAILWAYS KASHMIR JAMMU & KASHMIR      0\n",
       "RAILWAYS KATRA   JAMMU & KASHMIR      0\n",
       "BOLANGIR         ODISHA               0\n",
       "\n",
       "[842 rows x 1 columns]"
      ]
     },
     "execution_count": 316,
     "metadata": {},
     "output_type": "execute_result"
    }
   ],
   "source": [
    "District= pd.DataFrame(df.groupby(['DISTRICT','STATE/UT'])['Total'].sum())\n",
    "District.sort_values(by=\"Total\",ascending=False)"
   ]
  },
  {
   "cell_type": "code",
   "execution_count": 317,
   "id": "ee75e971",
   "metadata": {},
   "outputs": [],
   "source": [
    "District ['Result'] = District ['Total'].apply(lambda District: 'Sensitive' if District >=2153  else 'Moderate'if District >=1467 and District <2153 else 'Peacefull')\n",
    "\n"
   ]
  },
  {
   "cell_type": "code",
   "execution_count": 318,
   "id": "6d1b0413",
   "metadata": {},
   "outputs": [
    {
     "name": "stdout",
     "output_type": "stream",
     "text": [
      "Peacefull    816\n",
      "Sensitive     14\n",
      "Moderate      12\n",
      "Name: Result, dtype: int64\n"
     ]
    },
    {
     "data": {
      "image/png": "[encoded data removed]",
      "text/plain": [
       "<Figure size 640x480 with 1 Axes>"
      ]
     },
     "metadata": {},
     "output_type": "display_data"
    }
   ],
   "source": [
    "ax=sns.countplot(data= District,x='Result')\n",
    "print(District ['Result'].value_counts())\n",
    "\n"
   ]
  },
  {
   "cell_type": "code",
   "execution_count": 319,
   "id": "8fa264a5",
   "metadata": {},
   "outputs": [
    {
     "data": {
      "text/html": [
       "<div>\n",
       "<style scoped>\n",
       "    .dataframe tbody tr th:only-of-type {\n",
       "        vertical-align: middle;\n",
       "    }\n",
       "\n",
       "    .dataframe tbody tr th {\n",
       "        vertical-align: top;\n",
       "    }\n",
       "\n",
       "    .dataframe thead th {\n",
       "        text-align: right;\n",
       "    }\n",
       "</style>\n",
       "<table border=\"1\" class=\"dataframe\">\n",
       "  <thead>\n",
       "    <tr style=\"text-align: right;\">\n",
       "      <th></th>\n",
       "      <th></th>\n",
       "      <th>Total</th>\n",
       "      <th>Result</th>\n",
       "    </tr>\n",
       "    <tr>\n",
       "      <th>DISTRICT</th>\n",
       "      <th>STATE/UT</th>\n",
       "      <th></th>\n",
       "      <th></th>\n",
       "    </tr>\n",
       "  </thead>\n",
       "  <tbody>\n",
       "    <tr>\n",
       "      <th>BETUL</th>\n",
       "      <th>MADHYA PRADESH</th>\n",
       "      <td>914</td>\n",
       "      <td>Sensitive</td>\n",
       "    </tr>\n",
       "    <tr>\n",
       "      <th>MAYURBHANJ</th>\n",
       "      <th>ODISHA</th>\n",
       "      <td>895</td>\n",
       "      <td>Sensitive</td>\n",
       "    </tr>\n",
       "    <tr>\n",
       "      <th>NALGONDA</th>\n",
       "      <th>ANDHRA PRADESH</th>\n",
       "      <td>886</td>\n",
       "      <td>Sensitive</td>\n",
       "    </tr>\n",
       "    <tr>\n",
       "      <th>SEONI</th>\n",
       "      <th>MADHYA PRADESH</th>\n",
       "      <td>804</td>\n",
       "      <td>Sensitive</td>\n",
       "    </tr>\n",
       "    <tr>\n",
       "      <th>TONK</th>\n",
       "      <th>RAJASTHAN</th>\n",
       "      <td>764</td>\n",
       "      <td>Sensitive</td>\n",
       "    </tr>\n",
       "    <tr>\n",
       "      <th>SAGAR</th>\n",
       "      <th>MADHYA PRADESH</th>\n",
       "      <td>731</td>\n",
       "      <td>Sensitive</td>\n",
       "    </tr>\n",
       "    <tr>\n",
       "      <th>JAGDALPUR</th>\n",
       "      <th>CHHATTISGARH</th>\n",
       "      <td>713</td>\n",
       "      <td>Sensitive</td>\n",
       "    </tr>\n",
       "    <tr>\n",
       "      <th>KHANDWA</th>\n",
       "      <th>MADHYA PRADESH</th>\n",
       "      <td>700</td>\n",
       "      <td>Sensitive</td>\n",
       "    </tr>\n",
       "    <tr>\n",
       "      <th>WARANGAL</th>\n",
       "      <th>ANDHRA PRADESH</th>\n",
       "      <td>692</td>\n",
       "      <td>Sensitive</td>\n",
       "    </tr>\n",
       "    <tr>\n",
       "      <th>SARGUJA</th>\n",
       "      <th>CHHATTISGARH</th>\n",
       "      <td>660</td>\n",
       "      <td>Sensitive</td>\n",
       "    </tr>\n",
       "    <tr>\n",
       "      <th>CHITTORGARH</th>\n",
       "      <th>RAJASTHAN</th>\n",
       "      <td>655</td>\n",
       "      <td>Sensitive</td>\n",
       "    </tr>\n",
       "    <tr>\n",
       "      <th>JABALPUR</th>\n",
       "      <th>MADHYA PRADESH</th>\n",
       "      <td>649</td>\n",
       "      <td>Sensitive</td>\n",
       "    </tr>\n",
       "    <tr>\n",
       "      <th>UDAIPUR</th>\n",
       "      <th>RAJASTHAN</th>\n",
       "      <td>639</td>\n",
       "      <td>Sensitive</td>\n",
       "    </tr>\n",
       "    <tr>\n",
       "      <th>KHAMMAM</th>\n",
       "      <th>ANDHRA PRADESH</th>\n",
       "      <td>623</td>\n",
       "      <td>Sensitive</td>\n",
       "    </tr>\n",
       "    <tr>\n",
       "      <th>ALWAR</th>\n",
       "      <th>RAJASTHAN</th>\n",
       "      <td>621</td>\n",
       "      <td>Sensitive</td>\n",
       "    </tr>\n",
       "    <tr>\n",
       "      <th>CHHINDWARA</th>\n",
       "      <th>MADHYA PRADESH</th>\n",
       "      <td>618</td>\n",
       "      <td>Sensitive</td>\n",
       "    </tr>\n",
       "    <tr>\n",
       "      <th>NELLORE</th>\n",
       "      <th>ANDHRA PRADESH</th>\n",
       "      <td>606</td>\n",
       "      <td>Moderate</td>\n",
       "    </tr>\n",
       "  </tbody>\n",
       "</table>\n",
       "</div>"
      ],
      "text/plain": [
       "                            Total     Result\n",
       "DISTRICT    STATE/UT                        \n",
       "BETUL       MADHYA PRADESH    914  Sensitive\n",
       "MAYURBHANJ  ODISHA            895  Sensitive\n",
       "NALGONDA    ANDHRA PRADESH    886  Sensitive\n",
       "SEONI       MADHYA PRADESH    804  Sensitive\n",
       "TONK        RAJASTHAN         764  Sensitive\n",
       "SAGAR       MADHYA PRADESH    731  Sensitive\n",
       "JAGDALPUR   CHHATTISGARH      713  Sensitive\n",
       "KHANDWA     MADHYA PRADESH    700  Sensitive\n",
       "WARANGAL    ANDHRA PRADESH    692  Sensitive\n",
       "SARGUJA     CHHATTISGARH      660  Sensitive\n",
       "CHITTORGARH RAJASTHAN         655  Sensitive\n",
       "JABALPUR    MADHYA PRADESH    649  Sensitive\n",
       "UDAIPUR     RAJASTHAN         639  Sensitive\n",
       "KHAMMAM     ANDHRA PRADESH    623  Sensitive\n",
       "ALWAR       RAJASTHAN         621  Sensitive\n",
       "CHHINDWARA  MADHYA PRADESH    618  Sensitive\n",
       "NELLORE     ANDHRA PRADESH    606   Moderate"
      ]
     },
     "execution_count": 319,
     "metadata": {},
     "output_type": "execute_result"
    }
   ],
   "source": [
    "# Sensitive District\n",
    "sorting=y.sort_values(by=\"Total\",ascending=False)\n",
    "sorting.head(17)\n"
   ]
  },
  {
   "cell_type": "code",
   "execution_count": 320,
   "id": "eb78a7c4",
   "metadata": {},
   "outputs": [
    {
     "data": {
      "text/html": [
       "<div>\n",
       "<style scoped>\n",
       "    .dataframe tbody tr th:only-of-type {\n",
       "        vertical-align: middle;\n",
       "    }\n",
       "\n",
       "    .dataframe tbody tr th {\n",
       "        vertical-align: top;\n",
       "    }\n",
       "\n",
       "    .dataframe thead th {\n",
       "        text-align: right;\n",
       "    }\n",
       "</style>\n",
       "<table border=\"1\" class=\"dataframe\">\n",
       "  <thead>\n",
       "    <tr style=\"text-align: right;\">\n",
       "      <th></th>\n",
       "      <th></th>\n",
       "      <th>Total</th>\n",
       "      <th>Result</th>\n",
       "    </tr>\n",
       "    <tr>\n",
       "      <th>DISTRICT</th>\n",
       "      <th>STATE/UT</th>\n",
       "      <th></th>\n",
       "      <th></th>\n",
       "    </tr>\n",
       "  </thead>\n",
       "  <tbody>\n",
       "    <tr>\n",
       "      <th>PANCHKULA</th>\n",
       "      <th>HARYANA</th>\n",
       "      <td>0</td>\n",
       "      <td>Peacfull</td>\n",
       "    </tr>\n",
       "    <tr>\n",
       "      <th>PALWAL</th>\n",
       "      <th>HARYANA</th>\n",
       "      <td>0</td>\n",
       "      <td>Peacfull</td>\n",
       "    </tr>\n",
       "    <tr>\n",
       "      <th>BHIWANI</th>\n",
       "      <th>HARYANA</th>\n",
       "      <td>0</td>\n",
       "      <td>Peacfull</td>\n",
       "    </tr>\n",
       "    <tr>\n",
       "      <th>BHOJPUR</th>\n",
       "      <th>BIHAR</th>\n",
       "      <td>0</td>\n",
       "      <td>Peacfull</td>\n",
       "    </tr>\n",
       "    <tr>\n",
       "      <th>EOW</th>\n",
       "      <th>DELHI</th>\n",
       "      <td>0</td>\n",
       "      <td>Peacfull</td>\n",
       "    </tr>\n",
       "    <tr>\n",
       "      <th>GURDASPUR</th>\n",
       "      <th>PUNJAB</th>\n",
       "      <td>0</td>\n",
       "      <td>Peacfull</td>\n",
       "    </tr>\n",
       "    <tr>\n",
       "      <th>OUTER</th>\n",
       "      <th>DELHI</th>\n",
       "      <td>0</td>\n",
       "      <td>Peacfull</td>\n",
       "    </tr>\n",
       "    <tr>\n",
       "      <th>GURGAON</th>\n",
       "      <th>HARYANA</th>\n",
       "      <td>0</td>\n",
       "      <td>Peacfull</td>\n",
       "    </tr>\n",
       "    <tr>\n",
       "      <th>BIEO</th>\n",
       "      <th>ASSAM</th>\n",
       "      <td>0</td>\n",
       "      <td>Peacfull</td>\n",
       "    </tr>\n",
       "    <tr>\n",
       "      <th>NORTH-WEST</th>\n",
       "      <th>DELHI</th>\n",
       "      <td>0</td>\n",
       "      <td>Peacfull</td>\n",
       "    </tr>\n",
       "    <tr>\n",
       "      <th>NORTH-EAST</th>\n",
       "      <th>DELHI</th>\n",
       "      <td>0</td>\n",
       "      <td>Peacfull</td>\n",
       "    </tr>\n",
       "    <tr>\n",
       "      <th>NORTH WEST</th>\n",
       "      <th>DELHI</th>\n",
       "      <td>0</td>\n",
       "      <td>Peacfull</td>\n",
       "    </tr>\n",
       "    <tr>\n",
       "      <th>NORTH EAST</th>\n",
       "      <th>DELHI</th>\n",
       "      <td>0</td>\n",
       "      <td>Peacfull</td>\n",
       "    </tr>\n",
       "    <tr>\n",
       "      <th rowspan=\"2\" valign=\"top\">NORTH</th>\n",
       "      <th>DELHI</th>\n",
       "      <td>0</td>\n",
       "      <td>Peacfull</td>\n",
       "    </tr>\n",
       "    <tr>\n",
       "      <th>A &amp; N ISLANDS</th>\n",
       "      <td>0</td>\n",
       "      <td>Peacfull</td>\n",
       "    </tr>\n",
       "    <tr>\n",
       "      <th>EAST</th>\n",
       "      <th>DELHI</th>\n",
       "      <td>0</td>\n",
       "      <td>Peacfull</td>\n",
       "    </tr>\n",
       "    <tr>\n",
       "      <th>FARIDABAD</th>\n",
       "      <th>HARYANA</th>\n",
       "      <td>0</td>\n",
       "      <td>Peacfull</td>\n",
       "    </tr>\n",
       "  </tbody>\n",
       "</table>\n",
       "</div>"
      ],
      "text/plain": [
       "                          Total    Result\n",
       "DISTRICT   STATE/UT                      \n",
       "PANCHKULA  HARYANA            0  Peacfull\n",
       "PALWAL     HARYANA            0  Peacfull\n",
       "BHIWANI    HARYANA            0  Peacfull\n",
       "BHOJPUR    BIHAR              0  Peacfull\n",
       "EOW        DELHI              0  Peacfull\n",
       "GURDASPUR  PUNJAB             0  Peacfull\n",
       "OUTER      DELHI              0  Peacfull\n",
       "GURGAON    HARYANA            0  Peacfull\n",
       "BIEO       ASSAM              0  Peacfull\n",
       "NORTH-WEST DELHI              0  Peacfull\n",
       "NORTH-EAST DELHI              0  Peacfull\n",
       "NORTH WEST DELHI              0  Peacfull\n",
       "NORTH EAST DELHI              0  Peacfull\n",
       "NORTH      DELHI              0  Peacfull\n",
       "           A & N ISLANDS      0  Peacfull\n",
       "EAST       DELHI              0  Peacfull\n",
       "FARIDABAD  HARYANA            0  Peacfull"
      ]
     },
     "execution_count": 320,
     "metadata": {},
     "output_type": "execute_result"
    }
   ],
   "source": [
    "#Peacefull District\n",
    "sorting.tail(17)\n"
   ]
  },
  {
   "cell_type": "code",
   "execution_count": 321,
   "id": "d52f9afe",
   "metadata": {},
   "outputs": [
    {
     "data": {
      "text/html": [
       "<div>\n",
       "<style scoped>\n",
       "    .dataframe tbody tr th:only-of-type {\n",
       "        vertical-align: middle;\n",
       "    }\n",
       "\n",
       "    .dataframe tbody tr th {\n",
       "        vertical-align: top;\n",
       "    }\n",
       "\n",
       "    .dataframe thead th {\n",
       "        text-align: right;\n",
       "    }\n",
       "</style>\n",
       "<table border=\"1\" class=\"dataframe\">\n",
       "  <thead>\n",
       "    <tr style=\"text-align: right;\">\n",
       "      <th></th>\n",
       "      <th>Total</th>\n",
       "    </tr>\n",
       "    <tr>\n",
       "      <th>STATE/UT</th>\n",
       "      <th></th>\n",
       "    </tr>\n",
       "  </thead>\n",
       "  <tbody>\n",
       "    <tr>\n",
       "      <th>MADHYA PRADESH</th>\n",
       "      <td>45385</td>\n",
       "    </tr>\n",
       "    <tr>\n",
       "      <th>UTTAR PRADESH</th>\n",
       "      <td>36002</td>\n",
       "    </tr>\n",
       "    <tr>\n",
       "      <th>DELHI</th>\n",
       "      <td>33014</td>\n",
       "    </tr>\n",
       "    <tr>\n",
       "      <th>MAHARASHTRA</th>\n",
       "      <td>31301</td>\n",
       "    </tr>\n",
       "    <tr>\n",
       "      <th>ANDHRA PRADESH</th>\n",
       "      <td>16579</td>\n",
       "    </tr>\n",
       "    <tr>\n",
       "      <th>CHHATTISGARH</th>\n",
       "      <td>13745</td>\n",
       "    </tr>\n",
       "    <tr>\n",
       "      <th>GUJARAT</th>\n",
       "      <td>11175</td>\n",
       "    </tr>\n",
       "    <tr>\n",
       "      <th>RAJASTHAN</th>\n",
       "      <td>11094</td>\n",
       "    </tr>\n",
       "    <tr>\n",
       "      <th>BIHAR</th>\n",
       "      <td>9863</td>\n",
       "    </tr>\n",
       "    <tr>\n",
       "      <th>KERALA</th>\n",
       "      <td>6941</td>\n",
       "    </tr>\n",
       "    <tr>\n",
       "      <th>WEST BENGAL</th>\n",
       "      <td>6758</td>\n",
       "    </tr>\n",
       "    <tr>\n",
       "      <th>TAMIL NADU</th>\n",
       "      <td>5919</td>\n",
       "    </tr>\n",
       "    <tr>\n",
       "      <th>PUNJAB</th>\n",
       "      <td>4971</td>\n",
       "    </tr>\n",
       "    <tr>\n",
       "      <th>HARYANA</th>\n",
       "      <td>4430</td>\n",
       "    </tr>\n",
       "    <tr>\n",
       "      <th>KARNATAKA</th>\n",
       "      <td>3534</td>\n",
       "    </tr>\n",
       "    <tr>\n",
       "      <th>ODISHA</th>\n",
       "      <td>2096</td>\n",
       "    </tr>\n",
       "    <tr>\n",
       "      <th>HIMACHAL PRADESH</th>\n",
       "      <td>1991</td>\n",
       "    </tr>\n",
       "    <tr>\n",
       "      <th>ASSAM</th>\n",
       "      <td>1742</td>\n",
       "    </tr>\n",
       "    <tr>\n",
       "      <th>JHARKHAND</th>\n",
       "      <td>965</td>\n",
       "    </tr>\n",
       "    <tr>\n",
       "      <th>TRIPURA</th>\n",
       "      <td>866</td>\n",
       "    </tr>\n",
       "    <tr>\n",
       "      <th>GOA</th>\n",
       "      <td>800</td>\n",
       "    </tr>\n",
       "    <tr>\n",
       "      <th>CHANDIGARH</th>\n",
       "      <td>753</td>\n",
       "    </tr>\n",
       "    <tr>\n",
       "      <th>MEGHALAYA</th>\n",
       "      <td>720</td>\n",
       "    </tr>\n",
       "    <tr>\n",
       "      <th>UTTARAKHAND</th>\n",
       "      <td>687</td>\n",
       "    </tr>\n",
       "    <tr>\n",
       "      <th>MANIPUR</th>\n",
       "      <td>615</td>\n",
       "    </tr>\n",
       "    <tr>\n",
       "      <th>JAMMU &amp; KASHMIR</th>\n",
       "      <td>432</td>\n",
       "    </tr>\n",
       "    <tr>\n",
       "      <th>MIZORAM</th>\n",
       "      <td>423</td>\n",
       "    </tr>\n",
       "    <tr>\n",
       "      <th>SIKKIM</th>\n",
       "      <td>277</td>\n",
       "    </tr>\n",
       "    <tr>\n",
       "      <th>ARUNACHAL PRADESH</th>\n",
       "      <td>250</td>\n",
       "    </tr>\n",
       "    <tr>\n",
       "      <th>A &amp; N ISLANDS</th>\n",
       "      <td>245</td>\n",
       "    </tr>\n",
       "    <tr>\n",
       "      <th>PUDUCHERRY</th>\n",
       "      <td>205</td>\n",
       "    </tr>\n",
       "    <tr>\n",
       "      <th>D &amp; N HAVELI</th>\n",
       "      <td>103</td>\n",
       "    </tr>\n",
       "    <tr>\n",
       "      <th>NAGALAND</th>\n",
       "      <td>68</td>\n",
       "    </tr>\n",
       "    <tr>\n",
       "      <th>DAMAN &amp; DIU</th>\n",
       "      <td>38</td>\n",
       "    </tr>\n",
       "    <tr>\n",
       "      <th>LAKSHADWEEP</th>\n",
       "      <td>2</td>\n",
       "    </tr>\n",
       "  </tbody>\n",
       "</table>\n",
       "</div>"
      ],
      "text/plain": [
       "                   Total\n",
       "STATE/UT                \n",
       "MADHYA PRADESH     45385\n",
       "UTTAR PRADESH      36002\n",
       "DELHI              33014\n",
       "MAHARASHTRA        31301\n",
       "ANDHRA PRADESH     16579\n",
       "CHHATTISGARH       13745\n",
       "GUJARAT            11175\n",
       "RAJASTHAN          11094\n",
       "BIHAR               9863\n",
       "KERALA              6941\n",
       "WEST BENGAL         6758\n",
       "TAMIL NADU          5919\n",
       "PUNJAB              4971\n",
       "HARYANA             4430\n",
       "KARNATAKA           3534\n",
       "ODISHA              2096\n",
       "HIMACHAL PRADESH    1991\n",
       "ASSAM               1742\n",
       "JHARKHAND            965\n",
       "TRIPURA              866\n",
       "GOA                  800\n",
       "CHANDIGARH           753\n",
       "MEGHALAYA            720\n",
       "UTTARAKHAND          687\n",
       "MANIPUR              615\n",
       "JAMMU & KASHMIR      432\n",
       "MIZORAM              423\n",
       "SIKKIM               277\n",
       "ARUNACHAL PRADESH    250\n",
       "A & N ISLANDS        245\n",
       "PUDUCHERRY           205\n",
       "D & N HAVELI         103\n",
       "NAGALAND              68\n",
       "DAMAN & DIU           38\n",
       "LAKSHADWEEP            2"
      ]
     },
     "execution_count": 321,
     "metadata": {},
     "output_type": "execute_result"
    }
   ],
   "source": [
    "# State wise crimes_committed_against_children_2001_2012\n",
    "states=pd.DataFrame(df.groupby(['STATE/UT'])['Total'].sum())\n",
    "sorted_values=states.sort_values(by=\"Total\",ascending=False)\n",
    "sorted_values"
   ]
  },
  {
   "cell_type": "code",
   "execution_count": 322,
   "id": "baefbc13",
   "metadata": {},
   "outputs": [
    {
     "data": {
      "text/html": [
       "<div>\n",
       "<style scoped>\n",
       "    .dataframe tbody tr th:only-of-type {\n",
       "        vertical-align: middle;\n",
       "    }\n",
       "\n",
       "    .dataframe tbody tr th {\n",
       "        vertical-align: top;\n",
       "    }\n",
       "\n",
       "    .dataframe thead th {\n",
       "        text-align: right;\n",
       "    }\n",
       "</style>\n",
       "<table border=\"1\" class=\"dataframe\">\n",
       "  <thead>\n",
       "    <tr style=\"text-align: right;\">\n",
       "      <th></th>\n",
       "      <th>Total</th>\n",
       "      <th>Result</th>\n",
       "    </tr>\n",
       "    <tr>\n",
       "      <th>STATE/UT</th>\n",
       "      <th></th>\n",
       "      <th></th>\n",
       "    </tr>\n",
       "  </thead>\n",
       "  <tbody>\n",
       "    <tr>\n",
       "      <th>MADHYA PRADESH</th>\n",
       "      <td>45385</td>\n",
       "      <td>Sensitive</td>\n",
       "    </tr>\n",
       "    <tr>\n",
       "      <th>UTTAR PRADESH</th>\n",
       "      <td>36002</td>\n",
       "      <td>Sensitive</td>\n",
       "    </tr>\n",
       "    <tr>\n",
       "      <th>DELHI</th>\n",
       "      <td>33014</td>\n",
       "      <td>Sensitive</td>\n",
       "    </tr>\n",
       "    <tr>\n",
       "      <th>MAHARASHTRA</th>\n",
       "      <td>31301</td>\n",
       "      <td>Sensitive</td>\n",
       "    </tr>\n",
       "    <tr>\n",
       "      <th>ANDHRA PRADESH</th>\n",
       "      <td>16579</td>\n",
       "      <td>Moderate</td>\n",
       "    </tr>\n",
       "    <tr>\n",
       "      <th>CHHATTISGARH</th>\n",
       "      <td>13745</td>\n",
       "      <td>Peacfull</td>\n",
       "    </tr>\n",
       "    <tr>\n",
       "      <th>GUJARAT</th>\n",
       "      <td>11175</td>\n",
       "      <td>Peacfull</td>\n",
       "    </tr>\n",
       "    <tr>\n",
       "      <th>RAJASTHAN</th>\n",
       "      <td>11094</td>\n",
       "      <td>Peacfull</td>\n",
       "    </tr>\n",
       "    <tr>\n",
       "      <th>BIHAR</th>\n",
       "      <td>9863</td>\n",
       "      <td>Peacfull</td>\n",
       "    </tr>\n",
       "    <tr>\n",
       "      <th>KERALA</th>\n",
       "      <td>6941</td>\n",
       "      <td>Peacfull</td>\n",
       "    </tr>\n",
       "    <tr>\n",
       "      <th>WEST BENGAL</th>\n",
       "      <td>6758</td>\n",
       "      <td>Peacfull</td>\n",
       "    </tr>\n",
       "    <tr>\n",
       "      <th>TAMIL NADU</th>\n",
       "      <td>5919</td>\n",
       "      <td>Peacfull</td>\n",
       "    </tr>\n",
       "    <tr>\n",
       "      <th>PUNJAB</th>\n",
       "      <td>4971</td>\n",
       "      <td>Peacfull</td>\n",
       "    </tr>\n",
       "    <tr>\n",
       "      <th>HARYANA</th>\n",
       "      <td>4430</td>\n",
       "      <td>Peacfull</td>\n",
       "    </tr>\n",
       "    <tr>\n",
       "      <th>KARNATAKA</th>\n",
       "      <td>3534</td>\n",
       "      <td>Peacfull</td>\n",
       "    </tr>\n",
       "    <tr>\n",
       "      <th>ODISHA</th>\n",
       "      <td>2096</td>\n",
       "      <td>Peacfull</td>\n",
       "    </tr>\n",
       "    <tr>\n",
       "      <th>HIMACHAL PRADESH</th>\n",
       "      <td>1991</td>\n",
       "      <td>Peacfull</td>\n",
       "    </tr>\n",
       "    <tr>\n",
       "      <th>ASSAM</th>\n",
       "      <td>1742</td>\n",
       "      <td>Peacfull</td>\n",
       "    </tr>\n",
       "    <tr>\n",
       "      <th>JHARKHAND</th>\n",
       "      <td>965</td>\n",
       "      <td>Peacfull</td>\n",
       "    </tr>\n",
       "    <tr>\n",
       "      <th>TRIPURA</th>\n",
       "      <td>866</td>\n",
       "      <td>Peacfull</td>\n",
       "    </tr>\n",
       "    <tr>\n",
       "      <th>GOA</th>\n",
       "      <td>800</td>\n",
       "      <td>Peacfull</td>\n",
       "    </tr>\n",
       "    <tr>\n",
       "      <th>CHANDIGARH</th>\n",
       "      <td>753</td>\n",
       "      <td>Peacfull</td>\n",
       "    </tr>\n",
       "    <tr>\n",
       "      <th>MEGHALAYA</th>\n",
       "      <td>720</td>\n",
       "      <td>Peacfull</td>\n",
       "    </tr>\n",
       "    <tr>\n",
       "      <th>UTTARAKHAND</th>\n",
       "      <td>687</td>\n",
       "      <td>Peacfull</td>\n",
       "    </tr>\n",
       "    <tr>\n",
       "      <th>MANIPUR</th>\n",
       "      <td>615</td>\n",
       "      <td>Peacfull</td>\n",
       "    </tr>\n",
       "    <tr>\n",
       "      <th>JAMMU &amp; KASHMIR</th>\n",
       "      <td>432</td>\n",
       "      <td>Peacfull</td>\n",
       "    </tr>\n",
       "    <tr>\n",
       "      <th>MIZORAM</th>\n",
       "      <td>423</td>\n",
       "      <td>Peacfull</td>\n",
       "    </tr>\n",
       "    <tr>\n",
       "      <th>SIKKIM</th>\n",
       "      <td>277</td>\n",
       "      <td>Peacfull</td>\n",
       "    </tr>\n",
       "    <tr>\n",
       "      <th>ARUNACHAL PRADESH</th>\n",
       "      <td>250</td>\n",
       "      <td>Peacfull</td>\n",
       "    </tr>\n",
       "    <tr>\n",
       "      <th>A &amp; N ISLANDS</th>\n",
       "      <td>245</td>\n",
       "      <td>Peacfull</td>\n",
       "    </tr>\n",
       "    <tr>\n",
       "      <th>PUDUCHERRY</th>\n",
       "      <td>205</td>\n",
       "      <td>Peacfull</td>\n",
       "    </tr>\n",
       "    <tr>\n",
       "      <th>D &amp; N HAVELI</th>\n",
       "      <td>103</td>\n",
       "      <td>Peacfull</td>\n",
       "    </tr>\n",
       "    <tr>\n",
       "      <th>NAGALAND</th>\n",
       "      <td>68</td>\n",
       "      <td>Peacfull</td>\n",
       "    </tr>\n",
       "    <tr>\n",
       "      <th>DAMAN &amp; DIU</th>\n",
       "      <td>38</td>\n",
       "      <td>Peacfull</td>\n",
       "    </tr>\n",
       "    <tr>\n",
       "      <th>LAKSHADWEEP</th>\n",
       "      <td>2</td>\n",
       "      <td>Peacfull</td>\n",
       "    </tr>\n",
       "  </tbody>\n",
       "</table>\n",
       "</div>"
      ],
      "text/plain": [
       "                   Total     Result\n",
       "STATE/UT                           \n",
       "MADHYA PRADESH     45385  Sensitive\n",
       "UTTAR PRADESH      36002  Sensitive\n",
       "DELHI              33014  Sensitive\n",
       "MAHARASHTRA        31301  Sensitive\n",
       "ANDHRA PRADESH     16579   Moderate\n",
       "CHHATTISGARH       13745   Peacfull\n",
       "GUJARAT            11175   Peacfull\n",
       "RAJASTHAN          11094   Peacfull\n",
       "BIHAR               9863   Peacfull\n",
       "KERALA              6941   Peacfull\n",
       "WEST BENGAL         6758   Peacfull\n",
       "TAMIL NADU          5919   Peacfull\n",
       "PUNJAB              4971   Peacfull\n",
       "HARYANA             4430   Peacfull\n",
       "KARNATAKA           3534   Peacfull\n",
       "ODISHA              2096   Peacfull\n",
       "HIMACHAL PRADESH    1991   Peacfull\n",
       "ASSAM               1742   Peacfull\n",
       "JHARKHAND            965   Peacfull\n",
       "TRIPURA              866   Peacfull\n",
       "GOA                  800   Peacfull\n",
       "CHANDIGARH           753   Peacfull\n",
       "MEGHALAYA            720   Peacfull\n",
       "UTTARAKHAND          687   Peacfull\n",
       "MANIPUR              615   Peacfull\n",
       "JAMMU & KASHMIR      432   Peacfull\n",
       "MIZORAM              423   Peacfull\n",
       "SIKKIM               277   Peacfull\n",
       "ARUNACHAL PRADESH    250   Peacfull\n",
       "A & N ISLANDS        245   Peacfull\n",
       "PUDUCHERRY           205   Peacfull\n",
       "D & N HAVELI         103   Peacfull\n",
       "NAGALAND              68   Peacfull\n",
       "DAMAN & DIU           38   Peacfull\n",
       "LAKSHADWEEP            2   Peacfull"
      ]
     },
     "execution_count": 322,
     "metadata": {},
     "output_type": "execute_result"
    }
   ],
   "source": [
    "states['Result'] = states['Total'].apply(lambda states: 'Sensitive' if states>=30256  else 'Moderate'if states>=15128 and states<30256 else 'Peacfull')\n",
    "sorted_values=states.sort_values(by=\"Total\",ascending=False)\n",
    "sorted_values\n"
   ]
  },
  {
   "cell_type": "code",
   "execution_count": 323,
   "id": "008f97d9",
   "metadata": {},
   "outputs": [
    {
     "name": "stdout",
     "output_type": "stream",
     "text": [
      "Peacfull     30\n",
      "Sensitive     4\n",
      "Moderate      1\n",
      "Name: Result, dtype: int64\n"
     ]
    },
    {
     "data": {
      "image/png": "[encoded data removed]",
      "text/plain": [
       "<Figure size 640x480 with 1 Axes>"
      ]
     },
     "metadata": {},
     "output_type": "display_data"
    }
   ],
   "source": [
    "ax=sns.countplot(data=sorted_values,x='Result')\n",
    "print(sorted_values['Result'].value_counts())\n"
   ]
  },
  {
   "cell_type": "markdown",
   "id": "2894d6aa",
   "metadata": {},
   "source": [
    "#03_District_wise_crimes_committed_against_children_2001_2012\n"
   ]
  },
  {
   "cell_type": "code",
   "execution_count": 324,
   "id": "5ab389f8",
   "metadata": {},
   "outputs": [],
   "source": [
    "df=pd.read_csv('03_District_wise_crimes_committed_against_children_2001_2012.csv')"
   ]
  },
  {
   "cell_type": "code",
   "execution_count": 325,
   "id": "c8c92a1c",
   "metadata": {},
   "outputs": [
    {
     "data": {
      "text/plain": [
       "Index(['STATE/UT', 'DISTRICT', 'Year', 'Murder', 'Rape',\n",
       "       'Kidnapping and Abduction', 'Foeticide', 'Abetment of suicide',\n",
       "       'Exposure and abandonment', 'Procuration of minor girls',\n",
       "       'Buying of girls for prostitution', 'Selling of girls for prostitution',\n",
       "       'Prohibition of child marriage act', 'Other Crimes', 'Total'],\n",
       "      dtype='object')"
      ]
     },
     "execution_count": 325,
     "metadata": {},
     "output_type": "execute_result"
    }
   ],
   "source": [
    "#total are available\n",
    "df.columns"
   ]
  },
  {
   "cell_type": "code",
   "execution_count": 326,
   "id": "b592791c",
   "metadata": {},
   "outputs": [],
   "source": [
    "#removing total of each district\n",
    "df=df.drop(list(df[df[\"DISTRICT\"]==\"TOTAL\"].index))"
   ]
  },
  {
   "cell_type": "code",
   "execution_count": 327,
   "id": "bd779ec9",
   "metadata": {},
   "outputs": [
    {
     "data": {
      "text/html": [
       "<div>\n",
       "<style scoped>\n",
       "    .dataframe tbody tr th:only-of-type {\n",
       "        vertical-align: middle;\n",
       "    }\n",
       "\n",
       "    .dataframe tbody tr th {\n",
       "        vertical-align: top;\n",
       "    }\n",
       "\n",
       "    .dataframe thead th {\n",
       "        text-align: right;\n",
       "    }\n",
       "</style>\n",
       "<table border=\"1\" class=\"dataframe\">\n",
       "  <thead>\n",
       "    <tr style=\"text-align: right;\">\n",
       "      <th></th>\n",
       "      <th></th>\n",
       "      <th>Total</th>\n",
       "    </tr>\n",
       "    <tr>\n",
       "      <th>DISTRICT</th>\n",
       "      <th>STATE/UT</th>\n",
       "      <th></th>\n",
       "    </tr>\n",
       "  </thead>\n",
       "  <tbody>\n",
       "    <tr>\n",
       "      <th>INDORE</th>\n",
       "      <th>MADHYA PRADESH</th>\n",
       "      <td>4401</td>\n",
       "    </tr>\n",
       "    <tr>\n",
       "      <th>ZDELHI UT TOTAL</th>\n",
       "      <th>DELHI</th>\n",
       "      <td>4179</td>\n",
       "    </tr>\n",
       "    <tr>\n",
       "      <th>DELHI UT TOTAL</th>\n",
       "      <th>DELHI</th>\n",
       "      <td>3917</td>\n",
       "    </tr>\n",
       "    <tr>\n",
       "      <th>NORTH-WEST</th>\n",
       "      <th>DELHI</th>\n",
       "      <td>3447</td>\n",
       "    </tr>\n",
       "    <tr>\n",
       "      <th>PUNE COMMR.</th>\n",
       "      <th>MAHARASHTRA</th>\n",
       "      <td>3391</td>\n",
       "    </tr>\n",
       "    <tr>\n",
       "      <th>...</th>\n",
       "      <th>...</th>\n",
       "      <td>...</td>\n",
       "    </tr>\n",
       "    <tr>\n",
       "      <th>RAILWAYS JAMMU</th>\n",
       "      <th>JAMMU &amp; KASHMIR</th>\n",
       "      <td>0</td>\n",
       "    </tr>\n",
       "    <tr>\n",
       "      <th>TEHRI GARHWAL</th>\n",
       "      <th>UTTARAKHAND</th>\n",
       "      <td>0</td>\n",
       "    </tr>\n",
       "    <tr>\n",
       "      <th>RAILWAYS KASHMIR</th>\n",
       "      <th>JAMMU &amp; KASHMIR</th>\n",
       "      <td>0</td>\n",
       "    </tr>\n",
       "    <tr>\n",
       "      <th>RAILWAYS KATRA</th>\n",
       "      <th>JAMMU &amp; KASHMIR</th>\n",
       "      <td>0</td>\n",
       "    </tr>\n",
       "    <tr>\n",
       "      <th>BOLANGIR</th>\n",
       "      <th>ODISHA</th>\n",
       "      <td>0</td>\n",
       "    </tr>\n",
       "  </tbody>\n",
       "</table>\n",
       "<p>842 rows × 1 columns</p>\n",
       "</div>"
      ],
      "text/plain": [
       "                                  Total\n",
       "DISTRICT         STATE/UT              \n",
       "INDORE           MADHYA PRADESH    4401\n",
       "ZDELHI UT TOTAL  DELHI             4179\n",
       "DELHI UT TOTAL   DELHI             3917\n",
       "NORTH-WEST       DELHI             3447\n",
       "PUNE COMMR.      MAHARASHTRA       3391\n",
       "...                                 ...\n",
       "RAILWAYS JAMMU   JAMMU & KASHMIR      0\n",
       "TEHRI GARHWAL    UTTARAKHAND          0\n",
       "RAILWAYS KASHMIR JAMMU & KASHMIR      0\n",
       "RAILWAYS KATRA   JAMMU & KASHMIR      0\n",
       "BOLANGIR         ODISHA               0\n",
       "\n",
       "[842 rows x 1 columns]"
      ]
     },
     "execution_count": 327,
     "metadata": {},
     "output_type": "execute_result"
    }
   ],
   "source": [
    "District= pd.DataFrame(df.groupby(['DISTRICT','STATE/UT'])['Total'].sum())\n",
    "\n",
    "District.sort_values(by=\"Total\",ascending=False)\n"
   ]
  },
  {
   "cell_type": "code",
   "execution_count": 328,
   "id": "47275a7c",
   "metadata": {},
   "outputs": [],
   "source": [
    "\n",
    "District ['Result'] = District ['Total'].apply(lambda District: 'Sensitive' if District >=2934  else 'Moderate'if District >=1467 and District <2934 else 'Peacefull')\n",
    "sorting=y.sort_values(by=\"Total\",ascending=False)"
   ]
  },
  {
   "cell_type": "code",
   "execution_count": 329,
   "id": "868b3417",
   "metadata": {},
   "outputs": [
    {
     "name": "stdout",
     "output_type": "stream",
     "text": [
      "Peacefull    816\n",
      "Moderate      19\n",
      "Sensitive      7\n",
      "Name: Result, dtype: int64\n"
     ]
    },
    {
     "data": {
      "image/png": "[encoded data removed]",
      "text/plain": [
       "<Figure size 640x480 with 1 Axes>"
      ]
     },
     "metadata": {},
     "output_type": "display_data"
    }
   ],
   "source": [
    "ax=sns.countplot(data= District,x='Result')\n",
    "print(District ['Result'].value_counts())\n"
   ]
  },
  {
   "cell_type": "code",
   "execution_count": 330,
   "id": "6987facc",
   "metadata": {},
   "outputs": [
    {
     "data": {
      "text/html": [
       "<div>\n",
       "<style scoped>\n",
       "    .dataframe tbody tr th:only-of-type {\n",
       "        vertical-align: middle;\n",
       "    }\n",
       "\n",
       "    .dataframe tbody tr th {\n",
       "        vertical-align: top;\n",
       "    }\n",
       "\n",
       "    .dataframe thead th {\n",
       "        text-align: right;\n",
       "    }\n",
       "</style>\n",
       "<table border=\"1\" class=\"dataframe\">\n",
       "  <thead>\n",
       "    <tr style=\"text-align: right;\">\n",
       "      <th></th>\n",
       "      <th></th>\n",
       "      <th>Total</th>\n",
       "      <th>Result</th>\n",
       "    </tr>\n",
       "    <tr>\n",
       "      <th>DISTRICT</th>\n",
       "      <th>STATE/UT</th>\n",
       "      <th></th>\n",
       "      <th></th>\n",
       "    </tr>\n",
       "  </thead>\n",
       "  <tbody>\n",
       "    <tr>\n",
       "      <th>BETUL</th>\n",
       "      <th>MADHYA PRADESH</th>\n",
       "      <td>914</td>\n",
       "      <td>Sensitive</td>\n",
       "    </tr>\n",
       "    <tr>\n",
       "      <th>MAYURBHANJ</th>\n",
       "      <th>ODISHA</th>\n",
       "      <td>895</td>\n",
       "      <td>Sensitive</td>\n",
       "    </tr>\n",
       "    <tr>\n",
       "      <th>NALGONDA</th>\n",
       "      <th>ANDHRA PRADESH</th>\n",
       "      <td>886</td>\n",
       "      <td>Sensitive</td>\n",
       "    </tr>\n",
       "    <tr>\n",
       "      <th>SEONI</th>\n",
       "      <th>MADHYA PRADESH</th>\n",
       "      <td>804</td>\n",
       "      <td>Sensitive</td>\n",
       "    </tr>\n",
       "    <tr>\n",
       "      <th>TONK</th>\n",
       "      <th>RAJASTHAN</th>\n",
       "      <td>764</td>\n",
       "      <td>Sensitive</td>\n",
       "    </tr>\n",
       "    <tr>\n",
       "      <th>SAGAR</th>\n",
       "      <th>MADHYA PRADESH</th>\n",
       "      <td>731</td>\n",
       "      <td>Sensitive</td>\n",
       "    </tr>\n",
       "    <tr>\n",
       "      <th>JAGDALPUR</th>\n",
       "      <th>CHHATTISGARH</th>\n",
       "      <td>713</td>\n",
       "      <td>Sensitive</td>\n",
       "    </tr>\n",
       "    <tr>\n",
       "      <th>KHANDWA</th>\n",
       "      <th>MADHYA PRADESH</th>\n",
       "      <td>700</td>\n",
       "      <td>Sensitive</td>\n",
       "    </tr>\n",
       "    <tr>\n",
       "      <th>WARANGAL</th>\n",
       "      <th>ANDHRA PRADESH</th>\n",
       "      <td>692</td>\n",
       "      <td>Sensitive</td>\n",
       "    </tr>\n",
       "    <tr>\n",
       "      <th>SARGUJA</th>\n",
       "      <th>CHHATTISGARH</th>\n",
       "      <td>660</td>\n",
       "      <td>Sensitive</td>\n",
       "    </tr>\n",
       "    <tr>\n",
       "      <th>CHITTORGARH</th>\n",
       "      <th>RAJASTHAN</th>\n",
       "      <td>655</td>\n",
       "      <td>Sensitive</td>\n",
       "    </tr>\n",
       "    <tr>\n",
       "      <th>JABALPUR</th>\n",
       "      <th>MADHYA PRADESH</th>\n",
       "      <td>649</td>\n",
       "      <td>Sensitive</td>\n",
       "    </tr>\n",
       "    <tr>\n",
       "      <th>UDAIPUR</th>\n",
       "      <th>RAJASTHAN</th>\n",
       "      <td>639</td>\n",
       "      <td>Sensitive</td>\n",
       "    </tr>\n",
       "    <tr>\n",
       "      <th>KHAMMAM</th>\n",
       "      <th>ANDHRA PRADESH</th>\n",
       "      <td>623</td>\n",
       "      <td>Sensitive</td>\n",
       "    </tr>\n",
       "    <tr>\n",
       "      <th>ALWAR</th>\n",
       "      <th>RAJASTHAN</th>\n",
       "      <td>621</td>\n",
       "      <td>Sensitive</td>\n",
       "    </tr>\n",
       "    <tr>\n",
       "      <th>CHHINDWARA</th>\n",
       "      <th>MADHYA PRADESH</th>\n",
       "      <td>618</td>\n",
       "      <td>Sensitive</td>\n",
       "    </tr>\n",
       "    <tr>\n",
       "      <th>NELLORE</th>\n",
       "      <th>ANDHRA PRADESH</th>\n",
       "      <td>606</td>\n",
       "      <td>Moderate</td>\n",
       "    </tr>\n",
       "  </tbody>\n",
       "</table>\n",
       "</div>"
      ],
      "text/plain": [
       "                            Total     Result\n",
       "DISTRICT    STATE/UT                        \n",
       "BETUL       MADHYA PRADESH    914  Sensitive\n",
       "MAYURBHANJ  ODISHA            895  Sensitive\n",
       "NALGONDA    ANDHRA PRADESH    886  Sensitive\n",
       "SEONI       MADHYA PRADESH    804  Sensitive\n",
       "TONK        RAJASTHAN         764  Sensitive\n",
       "SAGAR       MADHYA PRADESH    731  Sensitive\n",
       "JAGDALPUR   CHHATTISGARH      713  Sensitive\n",
       "KHANDWA     MADHYA PRADESH    700  Sensitive\n",
       "WARANGAL    ANDHRA PRADESH    692  Sensitive\n",
       "SARGUJA     CHHATTISGARH      660  Sensitive\n",
       "CHITTORGARH RAJASTHAN         655  Sensitive\n",
       "JABALPUR    MADHYA PRADESH    649  Sensitive\n",
       "UDAIPUR     RAJASTHAN         639  Sensitive\n",
       "KHAMMAM     ANDHRA PRADESH    623  Sensitive\n",
       "ALWAR       RAJASTHAN         621  Sensitive\n",
       "CHHINDWARA  MADHYA PRADESH    618  Sensitive\n",
       "NELLORE     ANDHRA PRADESH    606   Moderate"
      ]
     },
     "execution_count": 330,
     "metadata": {},
     "output_type": "execute_result"
    }
   ],
   "source": [
    "sorting.head(17)"
   ]
  },
  {
   "cell_type": "code",
   "execution_count": 331,
   "id": "2fdc72a9",
   "metadata": {},
   "outputs": [
    {
     "data": {
      "text/html": [
       "<div>\n",
       "<style scoped>\n",
       "    .dataframe tbody tr th:only-of-type {\n",
       "        vertical-align: middle;\n",
       "    }\n",
       "\n",
       "    .dataframe tbody tr th {\n",
       "        vertical-align: top;\n",
       "    }\n",
       "\n",
       "    .dataframe thead th {\n",
       "        text-align: right;\n",
       "    }\n",
       "</style>\n",
       "<table border=\"1\" class=\"dataframe\">\n",
       "  <thead>\n",
       "    <tr style=\"text-align: right;\">\n",
       "      <th></th>\n",
       "      <th></th>\n",
       "      <th>Total</th>\n",
       "      <th>Result</th>\n",
       "    </tr>\n",
       "    <tr>\n",
       "      <th>DISTRICT</th>\n",
       "      <th>STATE/UT</th>\n",
       "      <th></th>\n",
       "      <th></th>\n",
       "    </tr>\n",
       "  </thead>\n",
       "  <tbody>\n",
       "    <tr>\n",
       "      <th>PANCHKULA</th>\n",
       "      <th>HARYANA</th>\n",
       "      <td>0</td>\n",
       "      <td>Peacfull</td>\n",
       "    </tr>\n",
       "    <tr>\n",
       "      <th>PALWAL</th>\n",
       "      <th>HARYANA</th>\n",
       "      <td>0</td>\n",
       "      <td>Peacfull</td>\n",
       "    </tr>\n",
       "    <tr>\n",
       "      <th>BHIWANI</th>\n",
       "      <th>HARYANA</th>\n",
       "      <td>0</td>\n",
       "      <td>Peacfull</td>\n",
       "    </tr>\n",
       "    <tr>\n",
       "      <th>BHOJPUR</th>\n",
       "      <th>BIHAR</th>\n",
       "      <td>0</td>\n",
       "      <td>Peacfull</td>\n",
       "    </tr>\n",
       "    <tr>\n",
       "      <th>EOW</th>\n",
       "      <th>DELHI</th>\n",
       "      <td>0</td>\n",
       "      <td>Peacfull</td>\n",
       "    </tr>\n",
       "    <tr>\n",
       "      <th>GURDASPUR</th>\n",
       "      <th>PUNJAB</th>\n",
       "      <td>0</td>\n",
       "      <td>Peacfull</td>\n",
       "    </tr>\n",
       "    <tr>\n",
       "      <th>OUTER</th>\n",
       "      <th>DELHI</th>\n",
       "      <td>0</td>\n",
       "      <td>Peacfull</td>\n",
       "    </tr>\n",
       "    <tr>\n",
       "      <th>GURGAON</th>\n",
       "      <th>HARYANA</th>\n",
       "      <td>0</td>\n",
       "      <td>Peacfull</td>\n",
       "    </tr>\n",
       "    <tr>\n",
       "      <th>BIEO</th>\n",
       "      <th>ASSAM</th>\n",
       "      <td>0</td>\n",
       "      <td>Peacfull</td>\n",
       "    </tr>\n",
       "    <tr>\n",
       "      <th>NORTH-WEST</th>\n",
       "      <th>DELHI</th>\n",
       "      <td>0</td>\n",
       "      <td>Peacfull</td>\n",
       "    </tr>\n",
       "    <tr>\n",
       "      <th>NORTH-EAST</th>\n",
       "      <th>DELHI</th>\n",
       "      <td>0</td>\n",
       "      <td>Peacfull</td>\n",
       "    </tr>\n",
       "    <tr>\n",
       "      <th>NORTH WEST</th>\n",
       "      <th>DELHI</th>\n",
       "      <td>0</td>\n",
       "      <td>Peacfull</td>\n",
       "    </tr>\n",
       "    <tr>\n",
       "      <th>NORTH EAST</th>\n",
       "      <th>DELHI</th>\n",
       "      <td>0</td>\n",
       "      <td>Peacfull</td>\n",
       "    </tr>\n",
       "    <tr>\n",
       "      <th rowspan=\"2\" valign=\"top\">NORTH</th>\n",
       "      <th>DELHI</th>\n",
       "      <td>0</td>\n",
       "      <td>Peacfull</td>\n",
       "    </tr>\n",
       "    <tr>\n",
       "      <th>A &amp; N ISLANDS</th>\n",
       "      <td>0</td>\n",
       "      <td>Peacfull</td>\n",
       "    </tr>\n",
       "    <tr>\n",
       "      <th>EAST</th>\n",
       "      <th>DELHI</th>\n",
       "      <td>0</td>\n",
       "      <td>Peacfull</td>\n",
       "    </tr>\n",
       "    <tr>\n",
       "      <th>FARIDABAD</th>\n",
       "      <th>HARYANA</th>\n",
       "      <td>0</td>\n",
       "      <td>Peacfull</td>\n",
       "    </tr>\n",
       "  </tbody>\n",
       "</table>\n",
       "</div>"
      ],
      "text/plain": [
       "                          Total    Result\n",
       "DISTRICT   STATE/UT                      \n",
       "PANCHKULA  HARYANA            0  Peacfull\n",
       "PALWAL     HARYANA            0  Peacfull\n",
       "BHIWANI    HARYANA            0  Peacfull\n",
       "BHOJPUR    BIHAR              0  Peacfull\n",
       "EOW        DELHI              0  Peacfull\n",
       "GURDASPUR  PUNJAB             0  Peacfull\n",
       "OUTER      DELHI              0  Peacfull\n",
       "GURGAON    HARYANA            0  Peacfull\n",
       "BIEO       ASSAM              0  Peacfull\n",
       "NORTH-WEST DELHI              0  Peacfull\n",
       "NORTH-EAST DELHI              0  Peacfull\n",
       "NORTH WEST DELHI              0  Peacfull\n",
       "NORTH EAST DELHI              0  Peacfull\n",
       "NORTH      DELHI              0  Peacfull\n",
       "           A & N ISLANDS      0  Peacfull\n",
       "EAST       DELHI              0  Peacfull\n",
       "FARIDABAD  HARYANA            0  Peacfull"
      ]
     },
     "execution_count": 331,
     "metadata": {},
     "output_type": "execute_result"
    }
   ],
   "source": [
    "sorting.tail(17)"
   ]
  },
  {
   "cell_type": "code",
   "execution_count": 332,
   "id": "28b2b643",
   "metadata": {},
   "outputs": [],
   "source": [
    "states=pd.DataFrame(df.groupby(['STATE/UT'])['Total'].sum())"
   ]
  },
  {
   "cell_type": "code",
   "execution_count": 333,
   "id": "8c54ecaf",
   "metadata": {},
   "outputs": [
    {
     "data": {
      "text/html": [
       "<div>\n",
       "<style scoped>\n",
       "    .dataframe tbody tr th:only-of-type {\n",
       "        vertical-align: middle;\n",
       "    }\n",
       "\n",
       "    .dataframe tbody tr th {\n",
       "        vertical-align: top;\n",
       "    }\n",
       "\n",
       "    .dataframe thead th {\n",
       "        text-align: right;\n",
       "    }\n",
       "</style>\n",
       "<table border=\"1\" class=\"dataframe\">\n",
       "  <thead>\n",
       "    <tr style=\"text-align: right;\">\n",
       "      <th></th>\n",
       "      <th>Total</th>\n",
       "      <th>Result</th>\n",
       "    </tr>\n",
       "    <tr>\n",
       "      <th>STATE/UT</th>\n",
       "      <th></th>\n",
       "      <th></th>\n",
       "    </tr>\n",
       "  </thead>\n",
       "  <tbody>\n",
       "    <tr>\n",
       "      <th>MADHYA PRADESH</th>\n",
       "      <td>45385</td>\n",
       "      <td>Sensitive</td>\n",
       "    </tr>\n",
       "    <tr>\n",
       "      <th>UTTAR PRADESH</th>\n",
       "      <td>36002</td>\n",
       "      <td>Sensitive</td>\n",
       "    </tr>\n",
       "    <tr>\n",
       "      <th>DELHI</th>\n",
       "      <td>33014</td>\n",
       "      <td>Sensitive</td>\n",
       "    </tr>\n",
       "    <tr>\n",
       "      <th>MAHARASHTRA</th>\n",
       "      <td>31301</td>\n",
       "      <td>Sensitive</td>\n",
       "    </tr>\n",
       "    <tr>\n",
       "      <th>ANDHRA PRADESH</th>\n",
       "      <td>16579</td>\n",
       "      <td>Moderate</td>\n",
       "    </tr>\n",
       "    <tr>\n",
       "      <th>CHHATTISGARH</th>\n",
       "      <td>13745</td>\n",
       "      <td>Peacfull</td>\n",
       "    </tr>\n",
       "    <tr>\n",
       "      <th>GUJARAT</th>\n",
       "      <td>11175</td>\n",
       "      <td>Peacfull</td>\n",
       "    </tr>\n",
       "    <tr>\n",
       "      <th>RAJASTHAN</th>\n",
       "      <td>11094</td>\n",
       "      <td>Peacfull</td>\n",
       "    </tr>\n",
       "    <tr>\n",
       "      <th>BIHAR</th>\n",
       "      <td>9863</td>\n",
       "      <td>Peacfull</td>\n",
       "    </tr>\n",
       "    <tr>\n",
       "      <th>KERALA</th>\n",
       "      <td>6941</td>\n",
       "      <td>Peacfull</td>\n",
       "    </tr>\n",
       "    <tr>\n",
       "      <th>WEST BENGAL</th>\n",
       "      <td>6758</td>\n",
       "      <td>Peacfull</td>\n",
       "    </tr>\n",
       "    <tr>\n",
       "      <th>TAMIL NADU</th>\n",
       "      <td>5919</td>\n",
       "      <td>Peacfull</td>\n",
       "    </tr>\n",
       "    <tr>\n",
       "      <th>PUNJAB</th>\n",
       "      <td>4971</td>\n",
       "      <td>Peacfull</td>\n",
       "    </tr>\n",
       "    <tr>\n",
       "      <th>HARYANA</th>\n",
       "      <td>4430</td>\n",
       "      <td>Peacfull</td>\n",
       "    </tr>\n",
       "    <tr>\n",
       "      <th>KARNATAKA</th>\n",
       "      <td>3534</td>\n",
       "      <td>Peacfull</td>\n",
       "    </tr>\n",
       "    <tr>\n",
       "      <th>ODISHA</th>\n",
       "      <td>2096</td>\n",
       "      <td>Peacfull</td>\n",
       "    </tr>\n",
       "    <tr>\n",
       "      <th>HIMACHAL PRADESH</th>\n",
       "      <td>1991</td>\n",
       "      <td>Peacfull</td>\n",
       "    </tr>\n",
       "    <tr>\n",
       "      <th>ASSAM</th>\n",
       "      <td>1742</td>\n",
       "      <td>Peacfull</td>\n",
       "    </tr>\n",
       "    <tr>\n",
       "      <th>JHARKHAND</th>\n",
       "      <td>965</td>\n",
       "      <td>Peacfull</td>\n",
       "    </tr>\n",
       "    <tr>\n",
       "      <th>TRIPURA</th>\n",
       "      <td>866</td>\n",
       "      <td>Peacfull</td>\n",
       "    </tr>\n",
       "    <tr>\n",
       "      <th>GOA</th>\n",
       "      <td>800</td>\n",
       "      <td>Peacfull</td>\n",
       "    </tr>\n",
       "    <tr>\n",
       "      <th>CHANDIGARH</th>\n",
       "      <td>753</td>\n",
       "      <td>Peacfull</td>\n",
       "    </tr>\n",
       "    <tr>\n",
       "      <th>MEGHALAYA</th>\n",
       "      <td>720</td>\n",
       "      <td>Peacfull</td>\n",
       "    </tr>\n",
       "    <tr>\n",
       "      <th>UTTARAKHAND</th>\n",
       "      <td>687</td>\n",
       "      <td>Peacfull</td>\n",
       "    </tr>\n",
       "    <tr>\n",
       "      <th>MANIPUR</th>\n",
       "      <td>615</td>\n",
       "      <td>Peacfull</td>\n",
       "    </tr>\n",
       "    <tr>\n",
       "      <th>JAMMU &amp; KASHMIR</th>\n",
       "      <td>432</td>\n",
       "      <td>Peacfull</td>\n",
       "    </tr>\n",
       "    <tr>\n",
       "      <th>MIZORAM</th>\n",
       "      <td>423</td>\n",
       "      <td>Peacfull</td>\n",
       "    </tr>\n",
       "    <tr>\n",
       "      <th>SIKKIM</th>\n",
       "      <td>277</td>\n",
       "      <td>Peacfull</td>\n",
       "    </tr>\n",
       "    <tr>\n",
       "      <th>ARUNACHAL PRADESH</th>\n",
       "      <td>250</td>\n",
       "      <td>Peacfull</td>\n",
       "    </tr>\n",
       "    <tr>\n",
       "      <th>A &amp; N ISLANDS</th>\n",
       "      <td>245</td>\n",
       "      <td>Peacfull</td>\n",
       "    </tr>\n",
       "    <tr>\n",
       "      <th>PUDUCHERRY</th>\n",
       "      <td>205</td>\n",
       "      <td>Peacfull</td>\n",
       "    </tr>\n",
       "    <tr>\n",
       "      <th>D &amp; N HAVELI</th>\n",
       "      <td>103</td>\n",
       "      <td>Peacfull</td>\n",
       "    </tr>\n",
       "    <tr>\n",
       "      <th>NAGALAND</th>\n",
       "      <td>68</td>\n",
       "      <td>Peacfull</td>\n",
       "    </tr>\n",
       "    <tr>\n",
       "      <th>DAMAN &amp; DIU</th>\n",
       "      <td>38</td>\n",
       "      <td>Peacfull</td>\n",
       "    </tr>\n",
       "    <tr>\n",
       "      <th>LAKSHADWEEP</th>\n",
       "      <td>2</td>\n",
       "      <td>Peacfull</td>\n",
       "    </tr>\n",
       "  </tbody>\n",
       "</table>\n",
       "</div>"
      ],
      "text/plain": [
       "                   Total     Result\n",
       "STATE/UT                           \n",
       "MADHYA PRADESH     45385  Sensitive\n",
       "UTTAR PRADESH      36002  Sensitive\n",
       "DELHI              33014  Sensitive\n",
       "MAHARASHTRA        31301  Sensitive\n",
       "ANDHRA PRADESH     16579   Moderate\n",
       "CHHATTISGARH       13745   Peacfull\n",
       "GUJARAT            11175   Peacfull\n",
       "RAJASTHAN          11094   Peacfull\n",
       "BIHAR               9863   Peacfull\n",
       "KERALA              6941   Peacfull\n",
       "WEST BENGAL         6758   Peacfull\n",
       "TAMIL NADU          5919   Peacfull\n",
       "PUNJAB              4971   Peacfull\n",
       "HARYANA             4430   Peacfull\n",
       "KARNATAKA           3534   Peacfull\n",
       "ODISHA              2096   Peacfull\n",
       "HIMACHAL PRADESH    1991   Peacfull\n",
       "ASSAM               1742   Peacfull\n",
       "JHARKHAND            965   Peacfull\n",
       "TRIPURA              866   Peacfull\n",
       "GOA                  800   Peacfull\n",
       "CHANDIGARH           753   Peacfull\n",
       "MEGHALAYA            720   Peacfull\n",
       "UTTARAKHAND          687   Peacfull\n",
       "MANIPUR              615   Peacfull\n",
       "JAMMU & KASHMIR      432   Peacfull\n",
       "MIZORAM              423   Peacfull\n",
       "SIKKIM               277   Peacfull\n",
       "ARUNACHAL PRADESH    250   Peacfull\n",
       "A & N ISLANDS        245   Peacfull\n",
       "PUDUCHERRY           205   Peacfull\n",
       "D & N HAVELI         103   Peacfull\n",
       "NAGALAND              68   Peacfull\n",
       "DAMAN & DIU           38   Peacfull\n",
       "LAKSHADWEEP            2   Peacfull"
      ]
     },
     "execution_count": 333,
     "metadata": {},
     "output_type": "execute_result"
    }
   ],
   "source": [
    "states['Result'] = states['Total'].apply(lambda states: 'Sensitive' if states>=30256  else 'Moderate'if states>=15128 and states<30256 else 'Peacfull')\n",
    "sorted_values=states.sort_values(by=\"Total\",ascending=False)\n",
    "sorted_values\n"
   ]
  },
  {
   "cell_type": "code",
   "execution_count": 334,
   "id": "87d4238d",
   "metadata": {},
   "outputs": [
    {
     "name": "stdout",
     "output_type": "stream",
     "text": [
      "Peacfull     30\n",
      "Sensitive     4\n",
      "Moderate      1\n",
      "Name: Result, dtype: int64\n"
     ]
    },
    {
     "data": {
      "image/png": "[encoded data removed]",
      "text/plain": [
       "<Figure size 640x480 with 1 Axes>"
      ]
     },
     "metadata": {},
     "output_type": "display_data"
    }
   ],
   "source": [
    "ax=sns.countplot(data=sorted_values,x='Result')\n",
    "print(sorted_values['Result'].value_counts())\n"
   ]
  },
  {
   "cell_type": "markdown",
   "id": "d7fccf63",
   "metadata": {},
   "source": [
    "#42_District_wise_crimes_committed_against_women_2001_2012"
   ]
  },
  {
   "cell_type": "code",
   "execution_count": 335,
   "id": "0301f03e",
   "metadata": {},
   "outputs": [],
   "source": [
    "#importing data and removing total for every district\n",
    "df=pd.read_csv('42_District_wise_crimes_committed_against_women_2001_2012.csv')\n",
    "df=df.drop(list(df[df[\"DISTRICT\"]==\"TOTAL\"].index))"
   ]
  },
  {
   "cell_type": "code",
   "execution_count": 336,
   "id": "38e71cb5",
   "metadata": {},
   "outputs": [
    {
     "data": {
      "text/plain": [
       "Index(['STATE/UT', 'DISTRICT', 'Year', 'Rape', 'Kidnapping and Abduction',\n",
       "       'Dowry Deaths', 'Assault on women with intent to outrage her modesty',\n",
       "       'Insult to modesty of Women', 'Cruelty by Husband or his Relatives',\n",
       "       'Importation of Girls'],\n",
       "      dtype='object')"
      ]
     },
     "execution_count": 336,
     "metadata": {},
     "output_type": "execute_result"
    }
   ],
   "source": [
    "df.columns"
   ]
  },
  {
   "cell_type": "code",
   "execution_count": 337,
   "id": "47f283b0",
   "metadata": {},
   "outputs": [],
   "source": [
    "x=['Rape', 'Kidnapping and Abduction',\n",
    "       'Dowry Deaths', 'Assault on women with intent to outrage her modesty',\n",
    "       'Insult to modesty of Women', 'Cruelty by Husband or his Relatives',\n",
    "       'Importation of Girls']\n",
    "df['Total']= df[x].sum(axis=1)\n"
   ]
  },
  {
   "cell_type": "code",
   "execution_count": 338,
   "id": "d48da588",
   "metadata": {},
   "outputs": [
    {
     "data": {
      "text/html": [
       "<div>\n",
       "<style scoped>\n",
       "    .dataframe tbody tr th:only-of-type {\n",
       "        vertical-align: middle;\n",
       "    }\n",
       "\n",
       "    .dataframe tbody tr th {\n",
       "        vertical-align: top;\n",
       "    }\n",
       "\n",
       "    .dataframe thead th {\n",
       "        text-align: right;\n",
       "    }\n",
       "</style>\n",
       "<table border=\"1\" class=\"dataframe\">\n",
       "  <thead>\n",
       "    <tr style=\"text-align: right;\">\n",
       "      <th></th>\n",
       "      <th>STATE/UT</th>\n",
       "      <th>DISTRICT</th>\n",
       "      <th>Year</th>\n",
       "      <th>Rape</th>\n",
       "      <th>Kidnapping and Abduction</th>\n",
       "      <th>Dowry Deaths</th>\n",
       "      <th>Assault on women with intent to outrage her modesty</th>\n",
       "      <th>Insult to modesty of Women</th>\n",
       "      <th>Cruelty by Husband or his Relatives</th>\n",
       "      <th>Importation of Girls</th>\n",
       "      <th>Total</th>\n",
       "    </tr>\n",
       "  </thead>\n",
       "  <tbody>\n",
       "    <tr>\n",
       "      <th>0</th>\n",
       "      <td>ANDHRA PRADESH</td>\n",
       "      <td>ADILABAD</td>\n",
       "      <td>2001</td>\n",
       "      <td>50</td>\n",
       "      <td>30</td>\n",
       "      <td>16</td>\n",
       "      <td>149</td>\n",
       "      <td>34</td>\n",
       "      <td>175</td>\n",
       "      <td>0</td>\n",
       "      <td>454</td>\n",
       "    </tr>\n",
       "    <tr>\n",
       "      <th>1</th>\n",
       "      <td>ANDHRA PRADESH</td>\n",
       "      <td>ANANTAPUR</td>\n",
       "      <td>2001</td>\n",
       "      <td>23</td>\n",
       "      <td>30</td>\n",
       "      <td>7</td>\n",
       "      <td>118</td>\n",
       "      <td>24</td>\n",
       "      <td>154</td>\n",
       "      <td>0</td>\n",
       "      <td>356</td>\n",
       "    </tr>\n",
       "    <tr>\n",
       "      <th>2</th>\n",
       "      <td>ANDHRA PRADESH</td>\n",
       "      <td>CHITTOOR</td>\n",
       "      <td>2001</td>\n",
       "      <td>27</td>\n",
       "      <td>34</td>\n",
       "      <td>14</td>\n",
       "      <td>112</td>\n",
       "      <td>83</td>\n",
       "      <td>186</td>\n",
       "      <td>0</td>\n",
       "      <td>456</td>\n",
       "    </tr>\n",
       "    <tr>\n",
       "      <th>3</th>\n",
       "      <td>ANDHRA PRADESH</td>\n",
       "      <td>CUDDAPAH</td>\n",
       "      <td>2001</td>\n",
       "      <td>20</td>\n",
       "      <td>20</td>\n",
       "      <td>17</td>\n",
       "      <td>126</td>\n",
       "      <td>38</td>\n",
       "      <td>57</td>\n",
       "      <td>0</td>\n",
       "      <td>278</td>\n",
       "    </tr>\n",
       "    <tr>\n",
       "      <th>4</th>\n",
       "      <td>ANDHRA PRADESH</td>\n",
       "      <td>EAST GODAVARI</td>\n",
       "      <td>2001</td>\n",
       "      <td>23</td>\n",
       "      <td>26</td>\n",
       "      <td>12</td>\n",
       "      <td>109</td>\n",
       "      <td>58</td>\n",
       "      <td>247</td>\n",
       "      <td>0</td>\n",
       "      <td>475</td>\n",
       "    </tr>\n",
       "    <tr>\n",
       "      <th>...</th>\n",
       "      <td>...</td>\n",
       "      <td>...</td>\n",
       "      <td>...</td>\n",
       "      <td>...</td>\n",
       "      <td>...</td>\n",
       "      <td>...</td>\n",
       "      <td>...</td>\n",
       "      <td>...</td>\n",
       "      <td>...</td>\n",
       "      <td>...</td>\n",
       "      <td>...</td>\n",
       "    </tr>\n",
       "    <tr>\n",
       "      <th>9010</th>\n",
       "      <td>DELHI</td>\n",
       "      <td>STF</td>\n",
       "      <td>2012</td>\n",
       "      <td>0</td>\n",
       "      <td>0</td>\n",
       "      <td>0</td>\n",
       "      <td>0</td>\n",
       "      <td>0</td>\n",
       "      <td>0</td>\n",
       "      <td>0</td>\n",
       "      <td>0</td>\n",
       "    </tr>\n",
       "    <tr>\n",
       "      <th>9011</th>\n",
       "      <td>DELHI</td>\n",
       "      <td>WEST</td>\n",
       "      <td>2012</td>\n",
       "      <td>79</td>\n",
       "      <td>256</td>\n",
       "      <td>18</td>\n",
       "      <td>53</td>\n",
       "      <td>6</td>\n",
       "      <td>327</td>\n",
       "      <td>0</td>\n",
       "      <td>739</td>\n",
       "    </tr>\n",
       "    <tr>\n",
       "      <th>9012</th>\n",
       "      <td>LAKSHADWEEP</td>\n",
       "      <td>LAKSHADWEEP</td>\n",
       "      <td>2012</td>\n",
       "      <td>0</td>\n",
       "      <td>0</td>\n",
       "      <td>0</td>\n",
       "      <td>1</td>\n",
       "      <td>0</td>\n",
       "      <td>1</td>\n",
       "      <td>0</td>\n",
       "      <td>2</td>\n",
       "    </tr>\n",
       "    <tr>\n",
       "      <th>9014</th>\n",
       "      <td>PUDUCHERRY</td>\n",
       "      <td>KARAIKAL</td>\n",
       "      <td>2012</td>\n",
       "      <td>6</td>\n",
       "      <td>2</td>\n",
       "      <td>0</td>\n",
       "      <td>2</td>\n",
       "      <td>0</td>\n",
       "      <td>1</td>\n",
       "      <td>0</td>\n",
       "      <td>11</td>\n",
       "    </tr>\n",
       "    <tr>\n",
       "      <th>9015</th>\n",
       "      <td>PUDUCHERRY</td>\n",
       "      <td>PUDUCHERRY</td>\n",
       "      <td>2012</td>\n",
       "      <td>7</td>\n",
       "      <td>14</td>\n",
       "      <td>0</td>\n",
       "      <td>7</td>\n",
       "      <td>2</td>\n",
       "      <td>5</td>\n",
       "      <td>0</td>\n",
       "      <td>35</td>\n",
       "    </tr>\n",
       "  </tbody>\n",
       "</table>\n",
       "<p>8609 rows × 11 columns</p>\n",
       "</div>"
      ],
      "text/plain": [
       "            STATE/UT       DISTRICT  Year  Rape  Kidnapping and Abduction  \\\n",
       "0     ANDHRA PRADESH       ADILABAD  2001    50                        30   \n",
       "1     ANDHRA PRADESH      ANANTAPUR  2001    23                        30   \n",
       "2     ANDHRA PRADESH       CHITTOOR  2001    27                        34   \n",
       "3     ANDHRA PRADESH       CUDDAPAH  2001    20                        20   \n",
       "4     ANDHRA PRADESH  EAST GODAVARI  2001    23                        26   \n",
       "...              ...            ...   ...   ...                       ...   \n",
       "9010           DELHI            STF  2012     0                         0   \n",
       "9011           DELHI           WEST  2012    79                       256   \n",
       "9012     LAKSHADWEEP    LAKSHADWEEP  2012     0                         0   \n",
       "9014      PUDUCHERRY       KARAIKAL  2012     6                         2   \n",
       "9015      PUDUCHERRY     PUDUCHERRY  2012     7                        14   \n",
       "\n",
       "      Dowry Deaths  Assault on women with intent to outrage her modesty  \\\n",
       "0               16                                                149     \n",
       "1                7                                                118     \n",
       "2               14                                                112     \n",
       "3               17                                                126     \n",
       "4               12                                                109     \n",
       "...            ...                                                ...     \n",
       "9010             0                                                  0     \n",
       "9011            18                                                 53     \n",
       "9012             0                                                  1     \n",
       "9014             0                                                  2     \n",
       "9015             0                                                  7     \n",
       "\n",
       "      Insult to modesty of Women  Cruelty by Husband or his Relatives  \\\n",
       "0                             34                                  175   \n",
       "1                             24                                  154   \n",
       "2                             83                                  186   \n",
       "3                             38                                   57   \n",
       "4                             58                                  247   \n",
       "...                          ...                                  ...   \n",
       "9010                           0                                    0   \n",
       "9011                           6                                  327   \n",
       "9012                           0                                    1   \n",
       "9014                           0                                    1   \n",
       "9015                           2                                    5   \n",
       "\n",
       "      Importation of Girls  Total  \n",
       "0                        0    454  \n",
       "1                        0    356  \n",
       "2                        0    456  \n",
       "3                        0    278  \n",
       "4                        0    475  \n",
       "...                    ...    ...  \n",
       "9010                     0      0  \n",
       "9011                     0    739  \n",
       "9012                     0      2  \n",
       "9014                     0     11  \n",
       "9015                     0     35  \n",
       "\n",
       "[8609 rows x 11 columns]"
      ]
     },
     "execution_count": 338,
     "metadata": {},
     "output_type": "execute_result"
    }
   ],
   "source": [
    "df"
   ]
  },
  {
   "cell_type": "code",
   "execution_count": 339,
   "id": "5561d6d8",
   "metadata": {},
   "outputs": [],
   "source": [
    "#district wise crime comit againt women\n",
    "District= pd.DataFrame(df.groupby(['DISTRICT','STATE/UT'])['Total'].sum())\n",
    "\n"
   ]
  },
  {
   "cell_type": "code",
   "execution_count": 340,
   "id": "3dead33c",
   "metadata": {},
   "outputs": [
    {
     "data": {
      "text/html": [
       "<div>\n",
       "<style scoped>\n",
       "    .dataframe tbody tr th:only-of-type {\n",
       "        vertical-align: middle;\n",
       "    }\n",
       "\n",
       "    .dataframe tbody tr th {\n",
       "        vertical-align: top;\n",
       "    }\n",
       "\n",
       "    .dataframe thead th {\n",
       "        text-align: right;\n",
       "    }\n",
       "</style>\n",
       "<table border=\"1\" class=\"dataframe\">\n",
       "  <thead>\n",
       "    <tr style=\"text-align: right;\">\n",
       "      <th></th>\n",
       "      <th></th>\n",
       "      <th>Total</th>\n",
       "    </tr>\n",
       "    <tr>\n",
       "      <th>DISTRICT</th>\n",
       "      <th>STATE/UT</th>\n",
       "      <th></th>\n",
       "    </tr>\n",
       "  </thead>\n",
       "  <tbody>\n",
       "    <tr>\n",
       "      <th>DELHI UT TOTAL</th>\n",
       "      <th>DELHI</th>\n",
       "      <td>48089</td>\n",
       "    </tr>\n",
       "    <tr>\n",
       "      <th>MURSHIDABAD</th>\n",
       "      <th>WEST BENGAL</th>\n",
       "      <td>27004</td>\n",
       "    </tr>\n",
       "    <tr>\n",
       "      <th>24 PARGANAS SOUTH</th>\n",
       "      <th>WEST BENGAL</th>\n",
       "      <td>25115</td>\n",
       "    </tr>\n",
       "    <tr>\n",
       "      <th>24 PARGANAS NORTH</th>\n",
       "      <th>WEST BENGAL</th>\n",
       "      <td>24376</td>\n",
       "    </tr>\n",
       "    <tr>\n",
       "      <th>HYDERABAD CITY</th>\n",
       "      <th>ANDHRA PRADESH</th>\n",
       "      <td>19685</td>\n",
       "    </tr>\n",
       "    <tr>\n",
       "      <th>...</th>\n",
       "      <th>...</th>\n",
       "      <td>...</td>\n",
       "    </tr>\n",
       "    <tr>\n",
       "      <th>G.R.P.</th>\n",
       "      <th>HIMACHAL PRADESH</th>\n",
       "      <td>0</td>\n",
       "    </tr>\n",
       "    <tr>\n",
       "      <th>GRP</th>\n",
       "      <th>TRIPURA</th>\n",
       "      <td>0</td>\n",
       "    </tr>\n",
       "    <tr>\n",
       "      <th>BIEO</th>\n",
       "      <th>ASSAM</th>\n",
       "      <td>0</td>\n",
       "    </tr>\n",
       "    <tr>\n",
       "      <th>CRIME JAMMU</th>\n",
       "      <th>JAMMU &amp; KASHMIR</th>\n",
       "      <td>0</td>\n",
       "    </tr>\n",
       "    <tr>\n",
       "      <th>STF</th>\n",
       "      <th>DELHI</th>\n",
       "      <td>0</td>\n",
       "    </tr>\n",
       "  </tbody>\n",
       "</table>\n",
       "<p>828 rows × 1 columns</p>\n",
       "</div>"
      ],
      "text/plain": [
       "                                    Total\n",
       "DISTRICT          STATE/UT               \n",
       "DELHI UT TOTAL    DELHI             48089\n",
       "MURSHIDABAD       WEST BENGAL       27004\n",
       "24 PARGANAS SOUTH WEST BENGAL       25115\n",
       "24 PARGANAS NORTH WEST BENGAL       24376\n",
       "HYDERABAD CITY    ANDHRA PRADESH    19685\n",
       "...                                   ...\n",
       "G.R.P.            HIMACHAL PRADESH      0\n",
       "GRP               TRIPURA               0\n",
       "BIEO              ASSAM                 0\n",
       "CRIME JAMMU       JAMMU & KASHMIR       0\n",
       "STF               DELHI                 0\n",
       "\n",
       "[828 rows x 1 columns]"
      ]
     },
     "execution_count": 340,
     "metadata": {},
     "output_type": "execute_result"
    }
   ],
   "source": [
    "District.sort_values(by=\"Total\",ascending=False)\n",
    "\n"
   ]
  },
  {
   "cell_type": "code",
   "execution_count": 341,
   "id": "2030dd8b",
   "metadata": {},
   "outputs": [],
   "source": [
    "District ['Result'] = District ['Total'].apply(lambda District: 'Sensitive' if District >=32059  else 'Moderate'if District >=16029 and District <32059 else 'Peacefull')\n",
    "\n"
   ]
  },
  {
   "cell_type": "code",
   "execution_count": 342,
   "id": "177ac23e",
   "metadata": {},
   "outputs": [
    {
     "name": "stdout",
     "output_type": "stream",
     "text": [
      "Peacefull    821\n",
      "Moderate       6\n",
      "Sensitive      1\n",
      "Name: Result, dtype: int64\n"
     ]
    },
    {
     "data": {
      "image/png": "[encoded data removed]",
      "text/plain": [
       "<Figure size 640x480 with 1 Axes>"
      ]
     },
     "metadata": {},
     "output_type": "display_data"
    }
   ],
   "source": [
    "\n",
    "ax=sns.countplot(data= District,x='Result')\n",
    "print(District ['Result'].value_counts())\n",
    "\n"
   ]
  },
  {
   "cell_type": "code",
   "execution_count": 343,
   "id": "579820c4",
   "metadata": {},
   "outputs": [
    {
     "data": {
      "text/html": [
       "<div>\n",
       "<style scoped>\n",
       "    .dataframe tbody tr th:only-of-type {\n",
       "        vertical-align: middle;\n",
       "    }\n",
       "\n",
       "    .dataframe tbody tr th {\n",
       "        vertical-align: top;\n",
       "    }\n",
       "\n",
       "    .dataframe thead th {\n",
       "        text-align: right;\n",
       "    }\n",
       "</style>\n",
       "<table border=\"1\" class=\"dataframe\">\n",
       "  <thead>\n",
       "    <tr style=\"text-align: right;\">\n",
       "      <th></th>\n",
       "      <th></th>\n",
       "      <th>Total</th>\n",
       "      <th>Result</th>\n",
       "    </tr>\n",
       "    <tr>\n",
       "      <th>DISTRICT</th>\n",
       "      <th>STATE/UT</th>\n",
       "      <th></th>\n",
       "      <th></th>\n",
       "    </tr>\n",
       "  </thead>\n",
       "  <tbody>\n",
       "    <tr>\n",
       "      <th>BETUL</th>\n",
       "      <th>MADHYA PRADESH</th>\n",
       "      <td>914</td>\n",
       "      <td>Sensitive</td>\n",
       "    </tr>\n",
       "    <tr>\n",
       "      <th>MAYURBHANJ</th>\n",
       "      <th>ODISHA</th>\n",
       "      <td>895</td>\n",
       "      <td>Sensitive</td>\n",
       "    </tr>\n",
       "    <tr>\n",
       "      <th>NALGONDA</th>\n",
       "      <th>ANDHRA PRADESH</th>\n",
       "      <td>886</td>\n",
       "      <td>Sensitive</td>\n",
       "    </tr>\n",
       "    <tr>\n",
       "      <th>SEONI</th>\n",
       "      <th>MADHYA PRADESH</th>\n",
       "      <td>804</td>\n",
       "      <td>Sensitive</td>\n",
       "    </tr>\n",
       "    <tr>\n",
       "      <th>TONK</th>\n",
       "      <th>RAJASTHAN</th>\n",
       "      <td>764</td>\n",
       "      <td>Sensitive</td>\n",
       "    </tr>\n",
       "    <tr>\n",
       "      <th>SAGAR</th>\n",
       "      <th>MADHYA PRADESH</th>\n",
       "      <td>731</td>\n",
       "      <td>Sensitive</td>\n",
       "    </tr>\n",
       "    <tr>\n",
       "      <th>JAGDALPUR</th>\n",
       "      <th>CHHATTISGARH</th>\n",
       "      <td>713</td>\n",
       "      <td>Sensitive</td>\n",
       "    </tr>\n",
       "    <tr>\n",
       "      <th>KHANDWA</th>\n",
       "      <th>MADHYA PRADESH</th>\n",
       "      <td>700</td>\n",
       "      <td>Sensitive</td>\n",
       "    </tr>\n",
       "    <tr>\n",
       "      <th>WARANGAL</th>\n",
       "      <th>ANDHRA PRADESH</th>\n",
       "      <td>692</td>\n",
       "      <td>Sensitive</td>\n",
       "    </tr>\n",
       "    <tr>\n",
       "      <th>SARGUJA</th>\n",
       "      <th>CHHATTISGARH</th>\n",
       "      <td>660</td>\n",
       "      <td>Sensitive</td>\n",
       "    </tr>\n",
       "    <tr>\n",
       "      <th>CHITTORGARH</th>\n",
       "      <th>RAJASTHAN</th>\n",
       "      <td>655</td>\n",
       "      <td>Sensitive</td>\n",
       "    </tr>\n",
       "    <tr>\n",
       "      <th>JABALPUR</th>\n",
       "      <th>MADHYA PRADESH</th>\n",
       "      <td>649</td>\n",
       "      <td>Sensitive</td>\n",
       "    </tr>\n",
       "    <tr>\n",
       "      <th>UDAIPUR</th>\n",
       "      <th>RAJASTHAN</th>\n",
       "      <td>639</td>\n",
       "      <td>Sensitive</td>\n",
       "    </tr>\n",
       "    <tr>\n",
       "      <th>KHAMMAM</th>\n",
       "      <th>ANDHRA PRADESH</th>\n",
       "      <td>623</td>\n",
       "      <td>Sensitive</td>\n",
       "    </tr>\n",
       "    <tr>\n",
       "      <th>ALWAR</th>\n",
       "      <th>RAJASTHAN</th>\n",
       "      <td>621</td>\n",
       "      <td>Sensitive</td>\n",
       "    </tr>\n",
       "    <tr>\n",
       "      <th>CHHINDWARA</th>\n",
       "      <th>MADHYA PRADESH</th>\n",
       "      <td>618</td>\n",
       "      <td>Sensitive</td>\n",
       "    </tr>\n",
       "    <tr>\n",
       "      <th>NELLORE</th>\n",
       "      <th>ANDHRA PRADESH</th>\n",
       "      <td>606</td>\n",
       "      <td>Moderate</td>\n",
       "    </tr>\n",
       "  </tbody>\n",
       "</table>\n",
       "</div>"
      ],
      "text/plain": [
       "                            Total     Result\n",
       "DISTRICT    STATE/UT                        \n",
       "BETUL       MADHYA PRADESH    914  Sensitive\n",
       "MAYURBHANJ  ODISHA            895  Sensitive\n",
       "NALGONDA    ANDHRA PRADESH    886  Sensitive\n",
       "SEONI       MADHYA PRADESH    804  Sensitive\n",
       "TONK        RAJASTHAN         764  Sensitive\n",
       "SAGAR       MADHYA PRADESH    731  Sensitive\n",
       "JAGDALPUR   CHHATTISGARH      713  Sensitive\n",
       "KHANDWA     MADHYA PRADESH    700  Sensitive\n",
       "WARANGAL    ANDHRA PRADESH    692  Sensitive\n",
       "SARGUJA     CHHATTISGARH      660  Sensitive\n",
       "CHITTORGARH RAJASTHAN         655  Sensitive\n",
       "JABALPUR    MADHYA PRADESH    649  Sensitive\n",
       "UDAIPUR     RAJASTHAN         639  Sensitive\n",
       "KHAMMAM     ANDHRA PRADESH    623  Sensitive\n",
       "ALWAR       RAJASTHAN         621  Sensitive\n",
       "CHHINDWARA  MADHYA PRADESH    618  Sensitive\n",
       "NELLORE     ANDHRA PRADESH    606   Moderate"
      ]
     },
     "execution_count": 343,
     "metadata": {},
     "output_type": "execute_result"
    }
   ],
   "source": [
    "sorting=y.sort_values(by=\"Total\",ascending=False)\n",
    "sorting.head(17)\n",
    "\n"
   ]
  },
  {
   "cell_type": "code",
   "execution_count": 344,
   "id": "205ed1c9",
   "metadata": {},
   "outputs": [
    {
     "data": {
      "text/html": [
       "<div>\n",
       "<style scoped>\n",
       "    .dataframe tbody tr th:only-of-type {\n",
       "        vertical-align: middle;\n",
       "    }\n",
       "\n",
       "    .dataframe tbody tr th {\n",
       "        vertical-align: top;\n",
       "    }\n",
       "\n",
       "    .dataframe thead th {\n",
       "        text-align: right;\n",
       "    }\n",
       "</style>\n",
       "<table border=\"1\" class=\"dataframe\">\n",
       "  <thead>\n",
       "    <tr style=\"text-align: right;\">\n",
       "      <th></th>\n",
       "      <th></th>\n",
       "      <th>Total</th>\n",
       "      <th>Result</th>\n",
       "    </tr>\n",
       "    <tr>\n",
       "      <th>DISTRICT</th>\n",
       "      <th>STATE/UT</th>\n",
       "      <th></th>\n",
       "      <th></th>\n",
       "    </tr>\n",
       "  </thead>\n",
       "  <tbody>\n",
       "    <tr>\n",
       "      <th>PANCHKULA</th>\n",
       "      <th>HARYANA</th>\n",
       "      <td>0</td>\n",
       "      <td>Peacfull</td>\n",
       "    </tr>\n",
       "    <tr>\n",
       "      <th>PALWAL</th>\n",
       "      <th>HARYANA</th>\n",
       "      <td>0</td>\n",
       "      <td>Peacfull</td>\n",
       "    </tr>\n",
       "    <tr>\n",
       "      <th>BHIWANI</th>\n",
       "      <th>HARYANA</th>\n",
       "      <td>0</td>\n",
       "      <td>Peacfull</td>\n",
       "    </tr>\n",
       "    <tr>\n",
       "      <th>BHOJPUR</th>\n",
       "      <th>BIHAR</th>\n",
       "      <td>0</td>\n",
       "      <td>Peacfull</td>\n",
       "    </tr>\n",
       "    <tr>\n",
       "      <th>EOW</th>\n",
       "      <th>DELHI</th>\n",
       "      <td>0</td>\n",
       "      <td>Peacfull</td>\n",
       "    </tr>\n",
       "    <tr>\n",
       "      <th>GURDASPUR</th>\n",
       "      <th>PUNJAB</th>\n",
       "      <td>0</td>\n",
       "      <td>Peacfull</td>\n",
       "    </tr>\n",
       "    <tr>\n",
       "      <th>OUTER</th>\n",
       "      <th>DELHI</th>\n",
       "      <td>0</td>\n",
       "      <td>Peacfull</td>\n",
       "    </tr>\n",
       "    <tr>\n",
       "      <th>GURGAON</th>\n",
       "      <th>HARYANA</th>\n",
       "      <td>0</td>\n",
       "      <td>Peacfull</td>\n",
       "    </tr>\n",
       "    <tr>\n",
       "      <th>BIEO</th>\n",
       "      <th>ASSAM</th>\n",
       "      <td>0</td>\n",
       "      <td>Peacfull</td>\n",
       "    </tr>\n",
       "    <tr>\n",
       "      <th>NORTH-WEST</th>\n",
       "      <th>DELHI</th>\n",
       "      <td>0</td>\n",
       "      <td>Peacfull</td>\n",
       "    </tr>\n",
       "    <tr>\n",
       "      <th>NORTH-EAST</th>\n",
       "      <th>DELHI</th>\n",
       "      <td>0</td>\n",
       "      <td>Peacfull</td>\n",
       "    </tr>\n",
       "    <tr>\n",
       "      <th>NORTH WEST</th>\n",
       "      <th>DELHI</th>\n",
       "      <td>0</td>\n",
       "      <td>Peacfull</td>\n",
       "    </tr>\n",
       "    <tr>\n",
       "      <th>NORTH EAST</th>\n",
       "      <th>DELHI</th>\n",
       "      <td>0</td>\n",
       "      <td>Peacfull</td>\n",
       "    </tr>\n",
       "    <tr>\n",
       "      <th rowspan=\"2\" valign=\"top\">NORTH</th>\n",
       "      <th>DELHI</th>\n",
       "      <td>0</td>\n",
       "      <td>Peacfull</td>\n",
       "    </tr>\n",
       "    <tr>\n",
       "      <th>A &amp; N ISLANDS</th>\n",
       "      <td>0</td>\n",
       "      <td>Peacfull</td>\n",
       "    </tr>\n",
       "    <tr>\n",
       "      <th>EAST</th>\n",
       "      <th>DELHI</th>\n",
       "      <td>0</td>\n",
       "      <td>Peacfull</td>\n",
       "    </tr>\n",
       "    <tr>\n",
       "      <th>FARIDABAD</th>\n",
       "      <th>HARYANA</th>\n",
       "      <td>0</td>\n",
       "      <td>Peacfull</td>\n",
       "    </tr>\n",
       "  </tbody>\n",
       "</table>\n",
       "</div>"
      ],
      "text/plain": [
       "                          Total    Result\n",
       "DISTRICT   STATE/UT                      \n",
       "PANCHKULA  HARYANA            0  Peacfull\n",
       "PALWAL     HARYANA            0  Peacfull\n",
       "BHIWANI    HARYANA            0  Peacfull\n",
       "BHOJPUR    BIHAR              0  Peacfull\n",
       "EOW        DELHI              0  Peacfull\n",
       "GURDASPUR  PUNJAB             0  Peacfull\n",
       "OUTER      DELHI              0  Peacfull\n",
       "GURGAON    HARYANA            0  Peacfull\n",
       "BIEO       ASSAM              0  Peacfull\n",
       "NORTH-WEST DELHI              0  Peacfull\n",
       "NORTH-EAST DELHI              0  Peacfull\n",
       "NORTH WEST DELHI              0  Peacfull\n",
       "NORTH EAST DELHI              0  Peacfull\n",
       "NORTH      DELHI              0  Peacfull\n",
       "           A & N ISLANDS      0  Peacfull\n",
       "EAST       DELHI              0  Peacfull\n",
       "FARIDABAD  HARYANA            0  Peacfull"
      ]
     },
     "execution_count": 344,
     "metadata": {},
     "output_type": "execute_result"
    }
   ],
   "source": [
    "sorting.tail(17)"
   ]
  },
  {
   "cell_type": "code",
   "execution_count": 345,
   "id": "4f329e56",
   "metadata": {},
   "outputs": [
    {
     "data": {
      "text/html": [
       "<div>\n",
       "<style scoped>\n",
       "    .dataframe tbody tr th:only-of-type {\n",
       "        vertical-align: middle;\n",
       "    }\n",
       "\n",
       "    .dataframe tbody tr th {\n",
       "        vertical-align: top;\n",
       "    }\n",
       "\n",
       "    .dataframe thead th {\n",
       "        text-align: right;\n",
       "    }\n",
       "</style>\n",
       "<table border=\"1\" class=\"dataframe\">\n",
       "  <thead>\n",
       "    <tr style=\"text-align: right;\">\n",
       "      <th></th>\n",
       "      <th>Total</th>\n",
       "    </tr>\n",
       "    <tr>\n",
       "      <th>STATE/UT</th>\n",
       "      <th></th>\n",
       "    </tr>\n",
       "  </thead>\n",
       "  <tbody>\n",
       "    <tr>\n",
       "      <th>ANDHRA PRADESH</th>\n",
       "      <td>241784</td>\n",
       "    </tr>\n",
       "    <tr>\n",
       "      <th>UTTAR PRADESH</th>\n",
       "      <td>224301</td>\n",
       "    </tr>\n",
       "    <tr>\n",
       "      <th>WEST BENGAL</th>\n",
       "      <td>202939</td>\n",
       "    </tr>\n",
       "    <tr>\n",
       "      <th>MADHYA PRADESH</th>\n",
       "      <td>183590</td>\n",
       "    </tr>\n",
       "    <tr>\n",
       "      <th>RAJASTHAN</th>\n",
       "      <td>176849</td>\n",
       "    </tr>\n",
       "    <tr>\n",
       "      <th>MAHARASHTRA</th>\n",
       "      <td>164782</td>\n",
       "    </tr>\n",
       "    <tr>\n",
       "      <th>DELHI</th>\n",
       "      <td>96178</td>\n",
       "    </tr>\n",
       "    <tr>\n",
       "      <th>ASSAM</th>\n",
       "      <td>93502</td>\n",
       "    </tr>\n",
       "    <tr>\n",
       "      <th>KERALA</th>\n",
       "      <td>90514</td>\n",
       "    </tr>\n",
       "    <tr>\n",
       "      <th>GUJARAT</th>\n",
       "      <td>87463</td>\n",
       "    </tr>\n",
       "    <tr>\n",
       "      <th>BIHAR</th>\n",
       "      <td>79983</td>\n",
       "    </tr>\n",
       "    <tr>\n",
       "      <th>ODISHA</th>\n",
       "      <td>75876</td>\n",
       "    </tr>\n",
       "    <tr>\n",
       "      <th>TAMIL NADU</th>\n",
       "      <td>69280</td>\n",
       "    </tr>\n",
       "    <tr>\n",
       "      <th>KARNATAKA</th>\n",
       "      <td>68036</td>\n",
       "    </tr>\n",
       "    <tr>\n",
       "      <th>HARYANA</th>\n",
       "      <td>56292</td>\n",
       "    </tr>\n",
       "    <tr>\n",
       "      <th>CHHATTISGARH</th>\n",
       "      <td>46078</td>\n",
       "    </tr>\n",
       "    <tr>\n",
       "      <th>JHARKHAND</th>\n",
       "      <td>30518</td>\n",
       "    </tr>\n",
       "    <tr>\n",
       "      <th>PUNJAB</th>\n",
       "      <td>29199</td>\n",
       "    </tr>\n",
       "    <tr>\n",
       "      <th>JAMMU &amp; KASHMIR</th>\n",
       "      <td>29067</td>\n",
       "    </tr>\n",
       "    <tr>\n",
       "      <th>TRIPURA</th>\n",
       "      <td>12573</td>\n",
       "    </tr>\n",
       "    <tr>\n",
       "      <th>UTTARAKHAND</th>\n",
       "      <td>11825</td>\n",
       "    </tr>\n",
       "    <tr>\n",
       "      <th>HIMACHAL PRADESH</th>\n",
       "      <td>10681</td>\n",
       "    </tr>\n",
       "    <tr>\n",
       "      <th>MANIPUR</th>\n",
       "      <td>2172</td>\n",
       "    </tr>\n",
       "    <tr>\n",
       "      <th>CHANDIGARH</th>\n",
       "      <td>2121</td>\n",
       "    </tr>\n",
       "    <tr>\n",
       "      <th>ARUNACHAL PRADESH</th>\n",
       "      <td>2029</td>\n",
       "    </tr>\n",
       "    <tr>\n",
       "      <th>MEGHALAYA</th>\n",
       "      <td>2008</td>\n",
       "    </tr>\n",
       "    <tr>\n",
       "      <th>MIZORAM</th>\n",
       "      <td>1719</td>\n",
       "    </tr>\n",
       "    <tr>\n",
       "      <th>PUDUCHERRY</th>\n",
       "      <td>1226</td>\n",
       "    </tr>\n",
       "    <tr>\n",
       "      <th>GOA</th>\n",
       "      <td>1175</td>\n",
       "    </tr>\n",
       "    <tr>\n",
       "      <th>A &amp; N ISLANDS</th>\n",
       "      <td>570</td>\n",
       "    </tr>\n",
       "    <tr>\n",
       "      <th>SIKKIM</th>\n",
       "      <td>547</td>\n",
       "    </tr>\n",
       "    <tr>\n",
       "      <th>NAGALAND</th>\n",
       "      <td>407</td>\n",
       "    </tr>\n",
       "    <tr>\n",
       "      <th>D &amp; N HAVELI</th>\n",
       "      <td>243</td>\n",
       "    </tr>\n",
       "    <tr>\n",
       "      <th>DAMAN &amp; DIU</th>\n",
       "      <td>90</td>\n",
       "    </tr>\n",
       "    <tr>\n",
       "      <th>LAKSHADWEEP</th>\n",
       "      <td>20</td>\n",
       "    </tr>\n",
       "  </tbody>\n",
       "</table>\n",
       "</div>"
      ],
      "text/plain": [
       "                    Total\n",
       "STATE/UT                 \n",
       "ANDHRA PRADESH     241784\n",
       "UTTAR PRADESH      224301\n",
       "WEST BENGAL        202939\n",
       "MADHYA PRADESH     183590\n",
       "RAJASTHAN          176849\n",
       "MAHARASHTRA        164782\n",
       "DELHI               96178\n",
       "ASSAM               93502\n",
       "KERALA              90514\n",
       "GUJARAT             87463\n",
       "BIHAR               79983\n",
       "ODISHA              75876\n",
       "TAMIL NADU          69280\n",
       "KARNATAKA           68036\n",
       "HARYANA             56292\n",
       "CHHATTISGARH        46078\n",
       "JHARKHAND           30518\n",
       "PUNJAB              29199\n",
       "JAMMU & KASHMIR     29067\n",
       "TRIPURA             12573\n",
       "UTTARAKHAND         11825\n",
       "HIMACHAL PRADESH    10681\n",
       "MANIPUR              2172\n",
       "CHANDIGARH           2121\n",
       "ARUNACHAL PRADESH    2029\n",
       "MEGHALAYA            2008\n",
       "MIZORAM              1719\n",
       "PUDUCHERRY           1226\n",
       "GOA                  1175\n",
       "A & N ISLANDS         570\n",
       "SIKKIM                547\n",
       "NAGALAND              407\n",
       "D & N HAVELI          243\n",
       "DAMAN & DIU            90\n",
       "LAKSHADWEEP            20"
      ]
     },
     "execution_count": 345,
     "metadata": {},
     "output_type": "execute_result"
    }
   ],
   "source": [
    "states=pd.DataFrame(df.groupby(['STATE/UT'])['Total'].sum())\n",
    "\n",
    "states.sort_values(by=\"Total\",ascending=False)\n"
   ]
  },
  {
   "cell_type": "code",
   "execution_count": 346,
   "id": "be641d25",
   "metadata": {},
   "outputs": [
    {
     "name": "stdout",
     "output_type": "stream",
     "text": [
      "Peacfull     25\n",
      "Sensitive     6\n",
      "Moderate      4\n",
      "Name: Result, dtype: int64\n"
     ]
    },
    {
     "data": {
      "image/png": "[encoded data removed]",
      "text/plain": [
       "<Figure size 640x480 with 1 Axes>"
      ]
     },
     "metadata": {},
     "output_type": "display_data"
    }
   ],
   "source": [
    "states['Result'] = states['Total'].apply(lambda states: 'Sensitive' if states>=161189  else 'Moderate'if states>=80594 and states<161189 else 'Peacfull')\n",
    "sorted_values=states.sort_values(by=\"Total\",ascending=False)\n",
    "sorted_values\n",
    "\n",
    "ax=sns.countplot(data=sorted_values,x='Result')\n",
    "print(sorted_values['Result'].value_counts())\n"
   ]
  },
  {
   "cell_type": "code",
   "execution_count": 347,
   "id": "c9733abc",
   "metadata": {},
   "outputs": [
    {
     "data": {
      "text/html": [
       "<div>\n",
       "<style scoped>\n",
       "    .dataframe tbody tr th:only-of-type {\n",
       "        vertical-align: middle;\n",
       "    }\n",
       "\n",
       "    .dataframe tbody tr th {\n",
       "        vertical-align: top;\n",
       "    }\n",
       "\n",
       "    .dataframe thead th {\n",
       "        text-align: right;\n",
       "    }\n",
       "</style>\n",
       "<table border=\"1\" class=\"dataframe\">\n",
       "  <thead>\n",
       "    <tr style=\"text-align: right;\">\n",
       "      <th></th>\n",
       "      <th>Total</th>\n",
       "      <th>Result</th>\n",
       "    </tr>\n",
       "    <tr>\n",
       "      <th>STATE/UT</th>\n",
       "      <th></th>\n",
       "      <th></th>\n",
       "    </tr>\n",
       "  </thead>\n",
       "  <tbody>\n",
       "    <tr>\n",
       "      <th>ANDHRA PRADESH</th>\n",
       "      <td>241784</td>\n",
       "      <td>Sensitive</td>\n",
       "    </tr>\n",
       "    <tr>\n",
       "      <th>UTTAR PRADESH</th>\n",
       "      <td>224301</td>\n",
       "      <td>Sensitive</td>\n",
       "    </tr>\n",
       "    <tr>\n",
       "      <th>WEST BENGAL</th>\n",
       "      <td>202939</td>\n",
       "      <td>Sensitive</td>\n",
       "    </tr>\n",
       "    <tr>\n",
       "      <th>MADHYA PRADESH</th>\n",
       "      <td>183590</td>\n",
       "      <td>Sensitive</td>\n",
       "    </tr>\n",
       "    <tr>\n",
       "      <th>RAJASTHAN</th>\n",
       "      <td>176849</td>\n",
       "      <td>Sensitive</td>\n",
       "    </tr>\n",
       "    <tr>\n",
       "      <th>MAHARASHTRA</th>\n",
       "      <td>164782</td>\n",
       "      <td>Sensitive</td>\n",
       "    </tr>\n",
       "    <tr>\n",
       "      <th>DELHI</th>\n",
       "      <td>96178</td>\n",
       "      <td>Moderate</td>\n",
       "    </tr>\n",
       "    <tr>\n",
       "      <th>ASSAM</th>\n",
       "      <td>93502</td>\n",
       "      <td>Moderate</td>\n",
       "    </tr>\n",
       "    <tr>\n",
       "      <th>KERALA</th>\n",
       "      <td>90514</td>\n",
       "      <td>Moderate</td>\n",
       "    </tr>\n",
       "    <tr>\n",
       "      <th>GUJARAT</th>\n",
       "      <td>87463</td>\n",
       "      <td>Moderate</td>\n",
       "    </tr>\n",
       "    <tr>\n",
       "      <th>BIHAR</th>\n",
       "      <td>79983</td>\n",
       "      <td>Peacfull</td>\n",
       "    </tr>\n",
       "    <tr>\n",
       "      <th>ODISHA</th>\n",
       "      <td>75876</td>\n",
       "      <td>Peacfull</td>\n",
       "    </tr>\n",
       "    <tr>\n",
       "      <th>TAMIL NADU</th>\n",
       "      <td>69280</td>\n",
       "      <td>Peacfull</td>\n",
       "    </tr>\n",
       "    <tr>\n",
       "      <th>KARNATAKA</th>\n",
       "      <td>68036</td>\n",
       "      <td>Peacfull</td>\n",
       "    </tr>\n",
       "    <tr>\n",
       "      <th>HARYANA</th>\n",
       "      <td>56292</td>\n",
       "      <td>Peacfull</td>\n",
       "    </tr>\n",
       "    <tr>\n",
       "      <th>CHHATTISGARH</th>\n",
       "      <td>46078</td>\n",
       "      <td>Peacfull</td>\n",
       "    </tr>\n",
       "    <tr>\n",
       "      <th>JHARKHAND</th>\n",
       "      <td>30518</td>\n",
       "      <td>Peacfull</td>\n",
       "    </tr>\n",
       "    <tr>\n",
       "      <th>PUNJAB</th>\n",
       "      <td>29199</td>\n",
       "      <td>Peacfull</td>\n",
       "    </tr>\n",
       "    <tr>\n",
       "      <th>JAMMU &amp; KASHMIR</th>\n",
       "      <td>29067</td>\n",
       "      <td>Peacfull</td>\n",
       "    </tr>\n",
       "    <tr>\n",
       "      <th>TRIPURA</th>\n",
       "      <td>12573</td>\n",
       "      <td>Peacfull</td>\n",
       "    </tr>\n",
       "    <tr>\n",
       "      <th>UTTARAKHAND</th>\n",
       "      <td>11825</td>\n",
       "      <td>Peacfull</td>\n",
       "    </tr>\n",
       "    <tr>\n",
       "      <th>HIMACHAL PRADESH</th>\n",
       "      <td>10681</td>\n",
       "      <td>Peacfull</td>\n",
       "    </tr>\n",
       "    <tr>\n",
       "      <th>MANIPUR</th>\n",
       "      <td>2172</td>\n",
       "      <td>Peacfull</td>\n",
       "    </tr>\n",
       "    <tr>\n",
       "      <th>CHANDIGARH</th>\n",
       "      <td>2121</td>\n",
       "      <td>Peacfull</td>\n",
       "    </tr>\n",
       "    <tr>\n",
       "      <th>ARUNACHAL PRADESH</th>\n",
       "      <td>2029</td>\n",
       "      <td>Peacfull</td>\n",
       "    </tr>\n",
       "    <tr>\n",
       "      <th>MEGHALAYA</th>\n",
       "      <td>2008</td>\n",
       "      <td>Peacfull</td>\n",
       "    </tr>\n",
       "    <tr>\n",
       "      <th>MIZORAM</th>\n",
       "      <td>1719</td>\n",
       "      <td>Peacfull</td>\n",
       "    </tr>\n",
       "    <tr>\n",
       "      <th>PUDUCHERRY</th>\n",
       "      <td>1226</td>\n",
       "      <td>Peacfull</td>\n",
       "    </tr>\n",
       "    <tr>\n",
       "      <th>GOA</th>\n",
       "      <td>1175</td>\n",
       "      <td>Peacfull</td>\n",
       "    </tr>\n",
       "    <tr>\n",
       "      <th>A &amp; N ISLANDS</th>\n",
       "      <td>570</td>\n",
       "      <td>Peacfull</td>\n",
       "    </tr>\n",
       "    <tr>\n",
       "      <th>SIKKIM</th>\n",
       "      <td>547</td>\n",
       "      <td>Peacfull</td>\n",
       "    </tr>\n",
       "    <tr>\n",
       "      <th>NAGALAND</th>\n",
       "      <td>407</td>\n",
       "      <td>Peacfull</td>\n",
       "    </tr>\n",
       "    <tr>\n",
       "      <th>D &amp; N HAVELI</th>\n",
       "      <td>243</td>\n",
       "      <td>Peacfull</td>\n",
       "    </tr>\n",
       "    <tr>\n",
       "      <th>DAMAN &amp; DIU</th>\n",
       "      <td>90</td>\n",
       "      <td>Peacfull</td>\n",
       "    </tr>\n",
       "    <tr>\n",
       "      <th>LAKSHADWEEP</th>\n",
       "      <td>20</td>\n",
       "      <td>Peacfull</td>\n",
       "    </tr>\n",
       "  </tbody>\n",
       "</table>\n",
       "</div>"
      ],
      "text/plain": [
       "                    Total     Result\n",
       "STATE/UT                            \n",
       "ANDHRA PRADESH     241784  Sensitive\n",
       "UTTAR PRADESH      224301  Sensitive\n",
       "WEST BENGAL        202939  Sensitive\n",
       "MADHYA PRADESH     183590  Sensitive\n",
       "RAJASTHAN          176849  Sensitive\n",
       "MAHARASHTRA        164782  Sensitive\n",
       "DELHI               96178   Moderate\n",
       "ASSAM               93502   Moderate\n",
       "KERALA              90514   Moderate\n",
       "GUJARAT             87463   Moderate\n",
       "BIHAR               79983   Peacfull\n",
       "ODISHA              75876   Peacfull\n",
       "TAMIL NADU          69280   Peacfull\n",
       "KARNATAKA           68036   Peacfull\n",
       "HARYANA             56292   Peacfull\n",
       "CHHATTISGARH        46078   Peacfull\n",
       "JHARKHAND           30518   Peacfull\n",
       "PUNJAB              29199   Peacfull\n",
       "JAMMU & KASHMIR     29067   Peacfull\n",
       "TRIPURA             12573   Peacfull\n",
       "UTTARAKHAND         11825   Peacfull\n",
       "HIMACHAL PRADESH    10681   Peacfull\n",
       "MANIPUR              2172   Peacfull\n",
       "CHANDIGARH           2121   Peacfull\n",
       "ARUNACHAL PRADESH    2029   Peacfull\n",
       "MEGHALAYA            2008   Peacfull\n",
       "MIZORAM              1719   Peacfull\n",
       "PUDUCHERRY           1226   Peacfull\n",
       "GOA                  1175   Peacfull\n",
       "A & N ISLANDS         570   Peacfull\n",
       "SIKKIM                547   Peacfull\n",
       "NAGALAND              407   Peacfull\n",
       "D & N HAVELI          243   Peacfull\n",
       "DAMAN & DIU            90   Peacfull\n",
       "LAKSHADWEEP            20   Peacfull"
      ]
     },
     "execution_count": 347,
     "metadata": {},
     "output_type": "execute_result"
    }
   ],
   "source": [
    "\n",
    "sorted_values.head(35)"
   ]
  },
  {
   "cell_type": "markdown",
   "id": "0388860f",
   "metadata": {},
   "source": [
    "#01_District_wise_crimes_committed_IPC_2001_2012"
   ]
  },
  {
   "cell_type": "code",
   "execution_count": 348,
   "id": "16ba0315",
   "metadata": {},
   "outputs": [
    {
     "data": {
      "text/html": [
       "<div>\n",
       "<style scoped>\n",
       "    .dataframe tbody tr th:only-of-type {\n",
       "        vertical-align: middle;\n",
       "    }\n",
       "\n",
       "    .dataframe tbody tr th {\n",
       "        vertical-align: top;\n",
       "    }\n",
       "\n",
       "    .dataframe thead th {\n",
       "        text-align: right;\n",
       "    }\n",
       "</style>\n",
       "<table border=\"1\" class=\"dataframe\">\n",
       "  <thead>\n",
       "    <tr style=\"text-align: right;\">\n",
       "      <th></th>\n",
       "      <th>STATE/UT</th>\n",
       "      <th>DISTRICT</th>\n",
       "      <th>YEAR</th>\n",
       "      <th>MURDER</th>\n",
       "      <th>ATTEMPT TO MURDER</th>\n",
       "      <th>CULPABLE HOMICIDE NOT AMOUNTING TO MURDER</th>\n",
       "      <th>RAPE</th>\n",
       "      <th>CUSTODIAL RAPE</th>\n",
       "      <th>OTHER RAPE</th>\n",
       "      <th>KIDNAPPING &amp; ABDUCTION</th>\n",
       "      <th>...</th>\n",
       "      <th>ARSON</th>\n",
       "      <th>HURT/GREVIOUS HURT</th>\n",
       "      <th>DOWRY DEATHS</th>\n",
       "      <th>ASSAULT ON WOMEN WITH INTENT TO OUTRAGE HER MODESTY</th>\n",
       "      <th>INSULT TO MODESTY OF WOMEN</th>\n",
       "      <th>CRUELTY BY HUSBAND OR HIS RELATIVES</th>\n",
       "      <th>IMPORTATION OF GIRLS FROM FOREIGN COUNTRIES</th>\n",
       "      <th>CAUSING DEATH BY NEGLIGENCE</th>\n",
       "      <th>OTHER IPC CRIMES</th>\n",
       "      <th>TOTAL IPC CRIMES</th>\n",
       "    </tr>\n",
       "  </thead>\n",
       "  <tbody>\n",
       "    <tr>\n",
       "      <th>0</th>\n",
       "      <td>ANDHRA PRADESH</td>\n",
       "      <td>ADILABAD</td>\n",
       "      <td>2001</td>\n",
       "      <td>101</td>\n",
       "      <td>60</td>\n",
       "      <td>17</td>\n",
       "      <td>50</td>\n",
       "      <td>0</td>\n",
       "      <td>50</td>\n",
       "      <td>46</td>\n",
       "      <td>...</td>\n",
       "      <td>30</td>\n",
       "      <td>1131</td>\n",
       "      <td>16</td>\n",
       "      <td>149</td>\n",
       "      <td>34</td>\n",
       "      <td>175</td>\n",
       "      <td>0</td>\n",
       "      <td>181</td>\n",
       "      <td>1518</td>\n",
       "      <td>4154</td>\n",
       "    </tr>\n",
       "    <tr>\n",
       "      <th>1</th>\n",
       "      <td>ANDHRA PRADESH</td>\n",
       "      <td>ANANTAPUR</td>\n",
       "      <td>2001</td>\n",
       "      <td>151</td>\n",
       "      <td>125</td>\n",
       "      <td>1</td>\n",
       "      <td>23</td>\n",
       "      <td>0</td>\n",
       "      <td>23</td>\n",
       "      <td>53</td>\n",
       "      <td>...</td>\n",
       "      <td>69</td>\n",
       "      <td>1543</td>\n",
       "      <td>7</td>\n",
       "      <td>118</td>\n",
       "      <td>24</td>\n",
       "      <td>154</td>\n",
       "      <td>0</td>\n",
       "      <td>270</td>\n",
       "      <td>754</td>\n",
       "      <td>4125</td>\n",
       "    </tr>\n",
       "    <tr>\n",
       "      <th>2</th>\n",
       "      <td>ANDHRA PRADESH</td>\n",
       "      <td>CHITTOOR</td>\n",
       "      <td>2001</td>\n",
       "      <td>101</td>\n",
       "      <td>57</td>\n",
       "      <td>2</td>\n",
       "      <td>27</td>\n",
       "      <td>0</td>\n",
       "      <td>27</td>\n",
       "      <td>59</td>\n",
       "      <td>...</td>\n",
       "      <td>38</td>\n",
       "      <td>2088</td>\n",
       "      <td>14</td>\n",
       "      <td>112</td>\n",
       "      <td>83</td>\n",
       "      <td>186</td>\n",
       "      <td>0</td>\n",
       "      <td>404</td>\n",
       "      <td>1262</td>\n",
       "      <td>5818</td>\n",
       "    </tr>\n",
       "    <tr>\n",
       "      <th>3</th>\n",
       "      <td>ANDHRA PRADESH</td>\n",
       "      <td>CUDDAPAH</td>\n",
       "      <td>2001</td>\n",
       "      <td>80</td>\n",
       "      <td>53</td>\n",
       "      <td>1</td>\n",
       "      <td>20</td>\n",
       "      <td>0</td>\n",
       "      <td>20</td>\n",
       "      <td>25</td>\n",
       "      <td>...</td>\n",
       "      <td>23</td>\n",
       "      <td>795</td>\n",
       "      <td>17</td>\n",
       "      <td>126</td>\n",
       "      <td>38</td>\n",
       "      <td>57</td>\n",
       "      <td>0</td>\n",
       "      <td>233</td>\n",
       "      <td>1181</td>\n",
       "      <td>3140</td>\n",
       "    </tr>\n",
       "    <tr>\n",
       "      <th>4</th>\n",
       "      <td>ANDHRA PRADESH</td>\n",
       "      <td>EAST GODAVARI</td>\n",
       "      <td>2001</td>\n",
       "      <td>82</td>\n",
       "      <td>67</td>\n",
       "      <td>1</td>\n",
       "      <td>23</td>\n",
       "      <td>0</td>\n",
       "      <td>23</td>\n",
       "      <td>49</td>\n",
       "      <td>...</td>\n",
       "      <td>41</td>\n",
       "      <td>1244</td>\n",
       "      <td>12</td>\n",
       "      <td>109</td>\n",
       "      <td>58</td>\n",
       "      <td>247</td>\n",
       "      <td>0</td>\n",
       "      <td>431</td>\n",
       "      <td>2313</td>\n",
       "      <td>6507</td>\n",
       "    </tr>\n",
       "    <tr>\n",
       "      <th>...</th>\n",
       "      <td>...</td>\n",
       "      <td>...</td>\n",
       "      <td>...</td>\n",
       "      <td>...</td>\n",
       "      <td>...</td>\n",
       "      <td>...</td>\n",
       "      <td>...</td>\n",
       "      <td>...</td>\n",
       "      <td>...</td>\n",
       "      <td>...</td>\n",
       "      <td>...</td>\n",
       "      <td>...</td>\n",
       "      <td>...</td>\n",
       "      <td>...</td>\n",
       "      <td>...</td>\n",
       "      <td>...</td>\n",
       "      <td>...</td>\n",
       "      <td>...</td>\n",
       "      <td>...</td>\n",
       "      <td>...</td>\n",
       "      <td>...</td>\n",
       "    </tr>\n",
       "    <tr>\n",
       "      <th>9012</th>\n",
       "      <td>LAKSHADWEEP</td>\n",
       "      <td>LAKSHADWEEP</td>\n",
       "      <td>2012</td>\n",
       "      <td>0</td>\n",
       "      <td>0</td>\n",
       "      <td>0</td>\n",
       "      <td>0</td>\n",
       "      <td>0</td>\n",
       "      <td>0</td>\n",
       "      <td>0</td>\n",
       "      <td>...</td>\n",
       "      <td>3</td>\n",
       "      <td>3</td>\n",
       "      <td>0</td>\n",
       "      <td>1</td>\n",
       "      <td>0</td>\n",
       "      <td>1</td>\n",
       "      <td>0</td>\n",
       "      <td>0</td>\n",
       "      <td>32</td>\n",
       "      <td>60</td>\n",
       "    </tr>\n",
       "    <tr>\n",
       "      <th>9013</th>\n",
       "      <td>LAKSHADWEEP</td>\n",
       "      <td>TOTAL</td>\n",
       "      <td>2012</td>\n",
       "      <td>0</td>\n",
       "      <td>0</td>\n",
       "      <td>0</td>\n",
       "      <td>0</td>\n",
       "      <td>0</td>\n",
       "      <td>0</td>\n",
       "      <td>0</td>\n",
       "      <td>...</td>\n",
       "      <td>3</td>\n",
       "      <td>3</td>\n",
       "      <td>0</td>\n",
       "      <td>1</td>\n",
       "      <td>0</td>\n",
       "      <td>1</td>\n",
       "      <td>0</td>\n",
       "      <td>0</td>\n",
       "      <td>32</td>\n",
       "      <td>60</td>\n",
       "    </tr>\n",
       "    <tr>\n",
       "      <th>9014</th>\n",
       "      <td>PUDUCHERRY</td>\n",
       "      <td>KARAIKAL</td>\n",
       "      <td>2012</td>\n",
       "      <td>5</td>\n",
       "      <td>6</td>\n",
       "      <td>2</td>\n",
       "      <td>6</td>\n",
       "      <td>0</td>\n",
       "      <td>6</td>\n",
       "      <td>2</td>\n",
       "      <td>...</td>\n",
       "      <td>1</td>\n",
       "      <td>186</td>\n",
       "      <td>0</td>\n",
       "      <td>2</td>\n",
       "      <td>0</td>\n",
       "      <td>1</td>\n",
       "      <td>0</td>\n",
       "      <td>44</td>\n",
       "      <td>392</td>\n",
       "      <td>787</td>\n",
       "    </tr>\n",
       "    <tr>\n",
       "      <th>9015</th>\n",
       "      <td>PUDUCHERRY</td>\n",
       "      <td>PUDUCHERRY</td>\n",
       "      <td>2012</td>\n",
       "      <td>24</td>\n",
       "      <td>21</td>\n",
       "      <td>10</td>\n",
       "      <td>7</td>\n",
       "      <td>0</td>\n",
       "      <td>7</td>\n",
       "      <td>17</td>\n",
       "      <td>...</td>\n",
       "      <td>20</td>\n",
       "      <td>632</td>\n",
       "      <td>0</td>\n",
       "      <td>7</td>\n",
       "      <td>2</td>\n",
       "      <td>5</td>\n",
       "      <td>0</td>\n",
       "      <td>219</td>\n",
       "      <td>1668</td>\n",
       "      <td>3494</td>\n",
       "    </tr>\n",
       "    <tr>\n",
       "      <th>9016</th>\n",
       "      <td>PUDUCHERRY</td>\n",
       "      <td>TOTAL</td>\n",
       "      <td>2012</td>\n",
       "      <td>29</td>\n",
       "      <td>27</td>\n",
       "      <td>12</td>\n",
       "      <td>13</td>\n",
       "      <td>0</td>\n",
       "      <td>13</td>\n",
       "      <td>19</td>\n",
       "      <td>...</td>\n",
       "      <td>21</td>\n",
       "      <td>818</td>\n",
       "      <td>0</td>\n",
       "      <td>9</td>\n",
       "      <td>2</td>\n",
       "      <td>6</td>\n",
       "      <td>0</td>\n",
       "      <td>263</td>\n",
       "      <td>2060</td>\n",
       "      <td>4281</td>\n",
       "    </tr>\n",
       "  </tbody>\n",
       "</table>\n",
       "<p>9017 rows × 33 columns</p>\n",
       "</div>"
      ],
      "text/plain": [
       "            STATE/UT       DISTRICT  YEAR  MURDER  ATTEMPT TO MURDER  \\\n",
       "0     ANDHRA PRADESH       ADILABAD  2001     101                 60   \n",
       "1     ANDHRA PRADESH      ANANTAPUR  2001     151                125   \n",
       "2     ANDHRA PRADESH       CHITTOOR  2001     101                 57   \n",
       "3     ANDHRA PRADESH       CUDDAPAH  2001      80                 53   \n",
       "4     ANDHRA PRADESH  EAST GODAVARI  2001      82                 67   \n",
       "...              ...            ...   ...     ...                ...   \n",
       "9012     LAKSHADWEEP    LAKSHADWEEP  2012       0                  0   \n",
       "9013     LAKSHADWEEP          TOTAL  2012       0                  0   \n",
       "9014      PUDUCHERRY       KARAIKAL  2012       5                  6   \n",
       "9015      PUDUCHERRY     PUDUCHERRY  2012      24                 21   \n",
       "9016      PUDUCHERRY          TOTAL  2012      29                 27   \n",
       "\n",
       "      CULPABLE HOMICIDE NOT AMOUNTING TO MURDER  RAPE  CUSTODIAL RAPE  \\\n",
       "0                                            17    50               0   \n",
       "1                                             1    23               0   \n",
       "2                                             2    27               0   \n",
       "3                                             1    20               0   \n",
       "4                                             1    23               0   \n",
       "...                                         ...   ...             ...   \n",
       "9012                                          0     0               0   \n",
       "9013                                          0     0               0   \n",
       "9014                                          2     6               0   \n",
       "9015                                         10     7               0   \n",
       "9016                                         12    13               0   \n",
       "\n",
       "      OTHER RAPE  KIDNAPPING & ABDUCTION  ...  ARSON  HURT/GREVIOUS HURT  \\\n",
       "0             50                      46  ...     30                1131   \n",
       "1             23                      53  ...     69                1543   \n",
       "2             27                      59  ...     38                2088   \n",
       "3             20                      25  ...     23                 795   \n",
       "4             23                      49  ...     41                1244   \n",
       "...          ...                     ...  ...    ...                 ...   \n",
       "9012           0                       0  ...      3                   3   \n",
       "9013           0                       0  ...      3                   3   \n",
       "9014           6                       2  ...      1                 186   \n",
       "9015           7                      17  ...     20                 632   \n",
       "9016          13                      19  ...     21                 818   \n",
       "\n",
       "      DOWRY DEATHS  ASSAULT ON WOMEN WITH INTENT TO OUTRAGE HER MODESTY  \\\n",
       "0               16                                                149     \n",
       "1                7                                                118     \n",
       "2               14                                                112     \n",
       "3               17                                                126     \n",
       "4               12                                                109     \n",
       "...            ...                                                ...     \n",
       "9012             0                                                  1     \n",
       "9013             0                                                  1     \n",
       "9014             0                                                  2     \n",
       "9015             0                                                  7     \n",
       "9016             0                                                  9     \n",
       "\n",
       "      INSULT TO MODESTY OF WOMEN  CRUELTY BY HUSBAND OR HIS RELATIVES  \\\n",
       "0                             34                                  175   \n",
       "1                             24                                  154   \n",
       "2                             83                                  186   \n",
       "3                             38                                   57   \n",
       "4                             58                                  247   \n",
       "...                          ...                                  ...   \n",
       "9012                           0                                    1   \n",
       "9013                           0                                    1   \n",
       "9014                           0                                    1   \n",
       "9015                           2                                    5   \n",
       "9016                           2                                    6   \n",
       "\n",
       "      IMPORTATION OF GIRLS FROM FOREIGN COUNTRIES  \\\n",
       "0                                               0   \n",
       "1                                               0   \n",
       "2                                               0   \n",
       "3                                               0   \n",
       "4                                               0   \n",
       "...                                           ...   \n",
       "9012                                            0   \n",
       "9013                                            0   \n",
       "9014                                            0   \n",
       "9015                                            0   \n",
       "9016                                            0   \n",
       "\n",
       "      CAUSING DEATH BY NEGLIGENCE  OTHER IPC CRIMES  TOTAL IPC CRIMES  \n",
       "0                             181              1518              4154  \n",
       "1                             270               754              4125  \n",
       "2                             404              1262              5818  \n",
       "3                             233              1181              3140  \n",
       "4                             431              2313              6507  \n",
       "...                           ...               ...               ...  \n",
       "9012                            0                32                60  \n",
       "9013                            0                32                60  \n",
       "9014                           44               392               787  \n",
       "9015                          219              1668              3494  \n",
       "9016                          263              2060              4281  \n",
       "\n",
       "[9017 rows x 33 columns]"
      ]
     },
     "execution_count": 348,
     "metadata": {},
     "output_type": "execute_result"
    }
   ],
   "source": [
    "df=pd.read_csv('01_District_wise_crimes_committed_IPC_2001_2012.csv')\n",
    "df"
   ]
  },
  {
   "cell_type": "code",
   "execution_count": 349,
   "id": "774bd82b",
   "metadata": {},
   "outputs": [],
   "source": [
    "df=df.drop(list(df[df[\"DISTRICT\"]==\"TOTAL\"].index))\n",
    "df=df.drop(list(df[df[\"DISTRICT\"]==\"DELHI UT TOTAL\"].index))"
   ]
  },
  {
   "cell_type": "code",
   "execution_count": 350,
   "id": "c4e74f20",
   "metadata": {},
   "outputs": [
    {
     "data": {
      "text/html": [
       "<div>\n",
       "<style scoped>\n",
       "    .dataframe tbody tr th:only-of-type {\n",
       "        vertical-align: middle;\n",
       "    }\n",
       "\n",
       "    .dataframe tbody tr th {\n",
       "        vertical-align: top;\n",
       "    }\n",
       "\n",
       "    .dataframe thead th {\n",
       "        text-align: right;\n",
       "    }\n",
       "</style>\n",
       "<table border=\"1\" class=\"dataframe\">\n",
       "  <thead>\n",
       "    <tr style=\"text-align: right;\">\n",
       "      <th></th>\n",
       "      <th></th>\n",
       "      <th>TOTAL IPC CRIMES</th>\n",
       "    </tr>\n",
       "    <tr>\n",
       "      <th>DISTRICT</th>\n",
       "      <th>STATE/UT</th>\n",
       "      <th></th>\n",
       "    </tr>\n",
       "  </thead>\n",
       "  <tbody>\n",
       "    <tr>\n",
       "      <th>BANGALORE COMMR.</th>\n",
       "      <th>KARNATAKA</th>\n",
       "      <td>350347</td>\n",
       "    </tr>\n",
       "    <tr>\n",
       "      <th>MUMBAI COMMR.</th>\n",
       "      <th>MAHARASHTRA</th>\n",
       "      <td>222670</td>\n",
       "    </tr>\n",
       "    <tr>\n",
       "      <th>AHMEDABAD COMMR.</th>\n",
       "      <th>GUJARAT</th>\n",
       "      <td>218005</td>\n",
       "    </tr>\n",
       "    <tr>\n",
       "      <th>INDORE</th>\n",
       "      <th>MADHYA PRADESH</th>\n",
       "      <td>204398</td>\n",
       "    </tr>\n",
       "    <tr>\n",
       "      <th>HYDERABAD CITY</th>\n",
       "      <th>ANDHRA PRADESH</th>\n",
       "      <td>202931</td>\n",
       "    </tr>\n",
       "    <tr>\n",
       "      <th>...</th>\n",
       "      <th>...</th>\n",
       "      <td>...</td>\n",
       "    </tr>\n",
       "    <tr>\n",
       "      <th>CID</th>\n",
       "      <th>HIMACHAL PRADESH</th>\n",
       "      <td>14</td>\n",
       "    </tr>\n",
       "    <tr>\n",
       "      <th>RAILWAYS KMR</th>\n",
       "      <th>JAMMU &amp; KASHMIR</th>\n",
       "      <td>10</td>\n",
       "    </tr>\n",
       "    <tr>\n",
       "      <th>CID</th>\n",
       "      <th>MANIPUR</th>\n",
       "      <td>9</td>\n",
       "    </tr>\n",
       "    <tr>\n",
       "      <th>G.R.P.</th>\n",
       "      <th>TRIPURA</th>\n",
       "      <td>6</td>\n",
       "    </tr>\n",
       "    <tr>\n",
       "      <th>RAILWAYS KATRA</th>\n",
       "      <th>JAMMU &amp; KASHMIR</th>\n",
       "      <td>2</td>\n",
       "    </tr>\n",
       "  </tbody>\n",
       "</table>\n",
       "<p>827 rows × 1 columns</p>\n",
       "</div>"
      ],
      "text/plain": [
       "                                   TOTAL IPC CRIMES\n",
       "DISTRICT         STATE/UT                          \n",
       "BANGALORE COMMR. KARNATAKA                   350347\n",
       "MUMBAI COMMR.    MAHARASHTRA                 222670\n",
       "AHMEDABAD COMMR. GUJARAT                     218005\n",
       "INDORE           MADHYA PRADESH              204398\n",
       "HYDERABAD CITY   ANDHRA PRADESH              202931\n",
       "...                                             ...\n",
       "CID              HIMACHAL PRADESH                14\n",
       "RAILWAYS KMR     JAMMU & KASHMIR                 10\n",
       "CID              MANIPUR                          9\n",
       "G.R.P.           TRIPURA                          6\n",
       "RAILWAYS KATRA   JAMMU & KASHMIR                  2\n",
       "\n",
       "[827 rows x 1 columns]"
      ]
     },
     "execution_count": 350,
     "metadata": {},
     "output_type": "execute_result"
    }
   ],
   "source": [
    "District= pd.DataFrame(df.groupby(['DISTRICT','STATE/UT'])['TOTAL IPC CRIMES'].sum())\n",
    "District.sort_values(by=\"TOTAL IPC CRIMES\",ascending=False)\n"
   ]
  },
  {
   "cell_type": "code",
   "execution_count": 351,
   "id": "5103f12c",
   "metadata": {},
   "outputs": [],
   "source": [
    "District ['Result'] = District ['TOTAL IPC CRIMES'].apply(lambda District: 'Sensitive' if District >=233564  else 'Moderate'if District >=116782 and District <233564 else 'Peacefull')"
   ]
  },
  {
   "cell_type": "code",
   "execution_count": 352,
   "id": "77432cb5",
   "metadata": {},
   "outputs": [
    {
     "name": "stdout",
     "output_type": "stream",
     "text": [
      "Peacefull    810\n",
      "Moderate      16\n",
      "Sensitive      1\n",
      "Name: Result, dtype: int64\n"
     ]
    },
    {
     "data": {
      "image/png": "[encoded data removed]",
      "text/plain": [
       "<Figure size 640x480 with 1 Axes>"
      ]
     },
     "metadata": {},
     "output_type": "display_data"
    }
   ],
   "source": [
    "ax=sns.countplot(data= District,x='Result')\n",
    "print(District ['Result'].value_counts())\n"
   ]
  },
  {
   "cell_type": "code",
   "execution_count": 353,
   "id": "c00c07bd",
   "metadata": {},
   "outputs": [
    {
     "data": {
      "text/html": [
       "<div>\n",
       "<style scoped>\n",
       "    .dataframe tbody tr th:only-of-type {\n",
       "        vertical-align: middle;\n",
       "    }\n",
       "\n",
       "    .dataframe tbody tr th {\n",
       "        vertical-align: top;\n",
       "    }\n",
       "\n",
       "    .dataframe thead th {\n",
       "        text-align: right;\n",
       "    }\n",
       "</style>\n",
       "<table border=\"1\" class=\"dataframe\">\n",
       "  <thead>\n",
       "    <tr style=\"text-align: right;\">\n",
       "      <th></th>\n",
       "      <th></th>\n",
       "      <th>TOTAL IPC CRIMES</th>\n",
       "      <th>Result</th>\n",
       "    </tr>\n",
       "    <tr>\n",
       "      <th>DISTRICT</th>\n",
       "      <th>STATE/UT</th>\n",
       "      <th></th>\n",
       "      <th></th>\n",
       "    </tr>\n",
       "  </thead>\n",
       "  <tbody>\n",
       "    <tr>\n",
       "      <th>BANGALORE COMMR.</th>\n",
       "      <th>KARNATAKA</th>\n",
       "      <td>350347</td>\n",
       "      <td>Sensitive</td>\n",
       "    </tr>\n",
       "    <tr>\n",
       "      <th>MUMBAI COMMR.</th>\n",
       "      <th>MAHARASHTRA</th>\n",
       "      <td>222670</td>\n",
       "      <td>Moderate</td>\n",
       "    </tr>\n",
       "    <tr>\n",
       "      <th>AHMEDABAD COMMR.</th>\n",
       "      <th>GUJARAT</th>\n",
       "      <td>218005</td>\n",
       "      <td>Moderate</td>\n",
       "    </tr>\n",
       "    <tr>\n",
       "      <th>INDORE</th>\n",
       "      <th>MADHYA PRADESH</th>\n",
       "      <td>204398</td>\n",
       "      <td>Moderate</td>\n",
       "    </tr>\n",
       "    <tr>\n",
       "      <th>HYDERABAD CITY</th>\n",
       "      <th>ANDHRA PRADESH</th>\n",
       "      <td>202931</td>\n",
       "      <td>Moderate</td>\n",
       "    </tr>\n",
       "    <tr>\n",
       "      <th>BHOPAL</th>\n",
       "      <th>MADHYA PRADESH</th>\n",
       "      <td>169575</td>\n",
       "      <td>Moderate</td>\n",
       "    </tr>\n",
       "    <tr>\n",
       "      <th>CHENNAI</th>\n",
       "      <th>TAMIL NADU</th>\n",
       "      <td>164467</td>\n",
       "      <td>Moderate</td>\n",
       "    </tr>\n",
       "    <tr>\n",
       "      <th>KOLKATA</th>\n",
       "      <th>WEST BENGAL</th>\n",
       "      <td>158429</td>\n",
       "      <td>Moderate</td>\n",
       "    </tr>\n",
       "    <tr>\n",
       "      <th>PATNA</th>\n",
       "      <th>BIHAR</th>\n",
       "      <td>147542</td>\n",
       "      <td>Moderate</td>\n",
       "    </tr>\n",
       "    <tr>\n",
       "      <th>MUMBAI</th>\n",
       "      <th>MAHARASHTRA</th>\n",
       "      <td>141815</td>\n",
       "      <td>Moderate</td>\n",
       "    </tr>\n",
       "    <tr>\n",
       "      <th>CYBERABAD</th>\n",
       "      <th>ANDHRA PRADESH</th>\n",
       "      <td>141743</td>\n",
       "      <td>Moderate</td>\n",
       "    </tr>\n",
       "    <tr>\n",
       "      <th>PUNE COMMR.</th>\n",
       "      <th>MAHARASHTRA</th>\n",
       "      <td>139973</td>\n",
       "      <td>Moderate</td>\n",
       "    </tr>\n",
       "    <tr>\n",
       "      <th>24 PARGANAS NORTH</th>\n",
       "      <th>WEST BENGAL</th>\n",
       "      <td>122795</td>\n",
       "      <td>Moderate</td>\n",
       "    </tr>\n",
       "    <tr>\n",
       "      <th>ERNAKULAM RURAL</th>\n",
       "      <th>KERALA</th>\n",
       "      <td>122473</td>\n",
       "      <td>Moderate</td>\n",
       "    </tr>\n",
       "    <tr>\n",
       "      <th>24 PARGANAS SOUTH</th>\n",
       "      <th>WEST BENGAL</th>\n",
       "      <td>120912</td>\n",
       "      <td>Moderate</td>\n",
       "    </tr>\n",
       "    <tr>\n",
       "      <th>JABALPUR</th>\n",
       "      <th>MADHYA PRADESH</th>\n",
       "      <td>119446</td>\n",
       "      <td>Moderate</td>\n",
       "    </tr>\n",
       "    <tr>\n",
       "      <th>LUCKNOW</th>\n",
       "      <th>UTTAR PRADESH</th>\n",
       "      <td>118377</td>\n",
       "      <td>Moderate</td>\n",
       "    </tr>\n",
       "  </tbody>\n",
       "</table>\n",
       "</div>"
      ],
      "text/plain": [
       "                                  TOTAL IPC CRIMES     Result\n",
       "DISTRICT          STATE/UT                                   \n",
       "BANGALORE COMMR.  KARNATAKA                 350347  Sensitive\n",
       "MUMBAI COMMR.     MAHARASHTRA               222670   Moderate\n",
       "AHMEDABAD COMMR.  GUJARAT                   218005   Moderate\n",
       "INDORE            MADHYA PRADESH            204398   Moderate\n",
       "HYDERABAD CITY    ANDHRA PRADESH            202931   Moderate\n",
       "BHOPAL            MADHYA PRADESH            169575   Moderate\n",
       "CHENNAI           TAMIL NADU                164467   Moderate\n",
       "KOLKATA           WEST BENGAL               158429   Moderate\n",
       "PATNA             BIHAR                     147542   Moderate\n",
       "MUMBAI            MAHARASHTRA               141815   Moderate\n",
       "CYBERABAD         ANDHRA PRADESH            141743   Moderate\n",
       "PUNE COMMR.       MAHARASHTRA               139973   Moderate\n",
       "24 PARGANAS NORTH WEST BENGAL               122795   Moderate\n",
       "ERNAKULAM RURAL   KERALA                    122473   Moderate\n",
       "24 PARGANAS SOUTH WEST BENGAL               120912   Moderate\n",
       "JABALPUR          MADHYA PRADESH            119446   Moderate\n",
       "LUCKNOW           UTTAR PRADESH             118377   Moderate"
      ]
     },
     "execution_count": 353,
     "metadata": {},
     "output_type": "execute_result"
    }
   ],
   "source": [
    "sorting=District.sort_values(by=\"TOTAL IPC CRIMES\",ascending=False)\n",
    "sorting.head(17)\n",
    "\n"
   ]
  },
  {
   "cell_type": "code",
   "execution_count": 354,
   "id": "0fefaffa",
   "metadata": {},
   "outputs": [
    {
     "data": {
      "text/html": [
       "<div>\n",
       "<style scoped>\n",
       "    .dataframe tbody tr th:only-of-type {\n",
       "        vertical-align: middle;\n",
       "    }\n",
       "\n",
       "    .dataframe tbody tr th {\n",
       "        vertical-align: top;\n",
       "    }\n",
       "\n",
       "    .dataframe thead th {\n",
       "        text-align: right;\n",
       "    }\n",
       "</style>\n",
       "<table border=\"1\" class=\"dataframe\">\n",
       "  <thead>\n",
       "    <tr style=\"text-align: right;\">\n",
       "      <th></th>\n",
       "      <th></th>\n",
       "      <th>TOTAL IPC CRIMES</th>\n",
       "      <th>Result</th>\n",
       "    </tr>\n",
       "    <tr>\n",
       "      <th>DISTRICT</th>\n",
       "      <th>STATE/UT</th>\n",
       "      <th></th>\n",
       "      <th></th>\n",
       "    </tr>\n",
       "  </thead>\n",
       "  <tbody>\n",
       "    <tr>\n",
       "      <th>SPL CELL</th>\n",
       "      <th>DELHI UT</th>\n",
       "      <td>133</td>\n",
       "      <td>Peacefull</td>\n",
       "    </tr>\n",
       "    <tr>\n",
       "      <th>NORTH</th>\n",
       "      <th>A &amp; N ISLANDS</th>\n",
       "      <td>115</td>\n",
       "      <td>Peacefull</td>\n",
       "    </tr>\n",
       "    <tr>\n",
       "      <th>G.R.P.</th>\n",
       "      <th>HIMACHAL PRADESH</th>\n",
       "      <td>112</td>\n",
       "      <td>Peacefull</td>\n",
       "    </tr>\n",
       "    <tr>\n",
       "      <th>ANJAW</th>\n",
       "      <th>ARUNACHAL PRADESH</th>\n",
       "      <td>85</td>\n",
       "      <td>Peacefull</td>\n",
       "    </tr>\n",
       "    <tr>\n",
       "      <th>LONGLENG</th>\n",
       "      <th>NAGALAND</th>\n",
       "      <td>84</td>\n",
       "      <td>Peacefull</td>\n",
       "    </tr>\n",
       "    <tr>\n",
       "      <th>CID CRIME</th>\n",
       "      <th>GUJARAT</th>\n",
       "      <td>54</td>\n",
       "      <td>Peacefull</td>\n",
       "    </tr>\n",
       "    <tr>\n",
       "      <th>RAILWAYS KASHMIR</th>\n",
       "      <th>JAMMU &amp; KASHMIR</th>\n",
       "      <td>43</td>\n",
       "      <td>Peacefull</td>\n",
       "    </tr>\n",
       "    <tr>\n",
       "      <th>CRIME KASHMIR</th>\n",
       "      <th>JAMMU &amp; KASHMIR</th>\n",
       "      <td>32</td>\n",
       "      <td>Peacefull</td>\n",
       "    </tr>\n",
       "    <tr>\n",
       "      <th>RAILWAYS JAMMU</th>\n",
       "      <th>JAMMU &amp; KASHMIR</th>\n",
       "      <td>29</td>\n",
       "      <td>Peacefull</td>\n",
       "    </tr>\n",
       "    <tr>\n",
       "      <th>CAR</th>\n",
       "      <th>A &amp; N ISLANDS</th>\n",
       "      <td>24</td>\n",
       "      <td>Peacefull</td>\n",
       "    </tr>\n",
       "    <tr>\n",
       "      <th>GRP</th>\n",
       "      <th>TRIPURA</th>\n",
       "      <td>21</td>\n",
       "      <td>Peacefull</td>\n",
       "    </tr>\n",
       "    <tr>\n",
       "      <th>BIEO</th>\n",
       "      <th>ASSAM</th>\n",
       "      <td>16</td>\n",
       "      <td>Peacefull</td>\n",
       "    </tr>\n",
       "    <tr>\n",
       "      <th>CID</th>\n",
       "      <th>HIMACHAL PRADESH</th>\n",
       "      <td>14</td>\n",
       "      <td>Peacefull</td>\n",
       "    </tr>\n",
       "    <tr>\n",
       "      <th>RAILWAYS KMR</th>\n",
       "      <th>JAMMU &amp; KASHMIR</th>\n",
       "      <td>10</td>\n",
       "      <td>Peacefull</td>\n",
       "    </tr>\n",
       "    <tr>\n",
       "      <th>CID</th>\n",
       "      <th>MANIPUR</th>\n",
       "      <td>9</td>\n",
       "      <td>Peacefull</td>\n",
       "    </tr>\n",
       "    <tr>\n",
       "      <th>G.R.P.</th>\n",
       "      <th>TRIPURA</th>\n",
       "      <td>6</td>\n",
       "      <td>Peacefull</td>\n",
       "    </tr>\n",
       "    <tr>\n",
       "      <th>RAILWAYS KATRA</th>\n",
       "      <th>JAMMU &amp; KASHMIR</th>\n",
       "      <td>2</td>\n",
       "      <td>Peacefull</td>\n",
       "    </tr>\n",
       "  </tbody>\n",
       "</table>\n",
       "</div>"
      ],
      "text/plain": [
       "                                    TOTAL IPC CRIMES     Result\n",
       "DISTRICT         STATE/UT                                      \n",
       "SPL CELL         DELHI UT                        133  Peacefull\n",
       "NORTH            A & N ISLANDS                   115  Peacefull\n",
       "G.R.P.           HIMACHAL PRADESH                112  Peacefull\n",
       "ANJAW            ARUNACHAL PRADESH                85  Peacefull\n",
       "LONGLENG         NAGALAND                         84  Peacefull\n",
       "CID CRIME        GUJARAT                          54  Peacefull\n",
       "RAILWAYS KASHMIR JAMMU & KASHMIR                  43  Peacefull\n",
       "CRIME KASHMIR    JAMMU & KASHMIR                  32  Peacefull\n",
       "RAILWAYS JAMMU   JAMMU & KASHMIR                  29  Peacefull\n",
       "CAR              A & N ISLANDS                    24  Peacefull\n",
       "GRP              TRIPURA                          21  Peacefull\n",
       "BIEO             ASSAM                            16  Peacefull\n",
       "CID              HIMACHAL PRADESH                 14  Peacefull\n",
       "RAILWAYS KMR     JAMMU & KASHMIR                  10  Peacefull\n",
       "CID              MANIPUR                           9  Peacefull\n",
       "G.R.P.           TRIPURA                           6  Peacefull\n",
       "RAILWAYS KATRA   JAMMU & KASHMIR                   2  Peacefull"
      ]
     },
     "execution_count": 354,
     "metadata": {},
     "output_type": "execute_result"
    }
   ],
   "source": [
    "sorting.tail(17)"
   ]
  },
  {
   "cell_type": "code",
   "execution_count": 355,
   "id": "44995242",
   "metadata": {},
   "outputs": [
    {
     "data": {
      "text/html": [
       "<div>\n",
       "<style scoped>\n",
       "    .dataframe tbody tr th:only-of-type {\n",
       "        vertical-align: middle;\n",
       "    }\n",
       "\n",
       "    .dataframe tbody tr th {\n",
       "        vertical-align: top;\n",
       "    }\n",
       "\n",
       "    .dataframe thead th {\n",
       "        text-align: right;\n",
       "    }\n",
       "</style>\n",
       "<table border=\"1\" class=\"dataframe\">\n",
       "  <thead>\n",
       "    <tr style=\"text-align: right;\">\n",
       "      <th></th>\n",
       "      <th>TOTAL IPC CRIMES</th>\n",
       "    </tr>\n",
       "    <tr>\n",
       "      <th>STATE/UT</th>\n",
       "      <th></th>\n",
       "    </tr>\n",
       "  </thead>\n",
       "  <tbody>\n",
       "    <tr>\n",
       "      <th>MADHYA PRADESH</th>\n",
       "      <td>2413770</td>\n",
       "    </tr>\n",
       "    <tr>\n",
       "      <th>MAHARASHTRA</th>\n",
       "      <td>2273436</td>\n",
       "    </tr>\n",
       "    <tr>\n",
       "      <th>TAMIL NADU</th>\n",
       "      <td>2060176</td>\n",
       "    </tr>\n",
       "    <tr>\n",
       "      <th>ANDHRA PRADESH</th>\n",
       "      <td>2018981</td>\n",
       "    </tr>\n",
       "    <tr>\n",
       "      <th>UTTAR PRADESH</th>\n",
       "      <td>1858074</td>\n",
       "    </tr>\n",
       "    <tr>\n",
       "      <th>RAJASTHAN</th>\n",
       "      <td>1855916</td>\n",
       "    </tr>\n",
       "    <tr>\n",
       "      <th>KARNATAKA</th>\n",
       "      <td>1481063</td>\n",
       "    </tr>\n",
       "    <tr>\n",
       "      <th>KERALA</th>\n",
       "      <td>1437459</td>\n",
       "    </tr>\n",
       "    <tr>\n",
       "      <th>GUJARAT</th>\n",
       "      <td>1385775</td>\n",
       "    </tr>\n",
       "    <tr>\n",
       "      <th>BIHAR</th>\n",
       "      <td>1346293</td>\n",
       "    </tr>\n",
       "    <tr>\n",
       "      <th>WEST BENGAL</th>\n",
       "      <td>1119304</td>\n",
       "    </tr>\n",
       "    <tr>\n",
       "      <th>ODISHA</th>\n",
       "      <td>647946</td>\n",
       "    </tr>\n",
       "    <tr>\n",
       "      <th>DELHI UT</th>\n",
       "      <td>633174</td>\n",
       "    </tr>\n",
       "    <tr>\n",
       "      <th>ASSAM</th>\n",
       "      <td>597764</td>\n",
       "    </tr>\n",
       "    <tr>\n",
       "      <th>HARYANA</th>\n",
       "      <td>595303</td>\n",
       "    </tr>\n",
       "    <tr>\n",
       "      <th>CHHATTISGARH</th>\n",
       "      <td>561027</td>\n",
       "    </tr>\n",
       "    <tr>\n",
       "      <th>JHARKHAND</th>\n",
       "      <td>422351</td>\n",
       "    </tr>\n",
       "    <tr>\n",
       "      <th>PUNJAB</th>\n",
       "      <td>384131</td>\n",
       "    </tr>\n",
       "    <tr>\n",
       "      <th>JAMMU &amp; KASHMIR</th>\n",
       "      <td>259155</td>\n",
       "    </tr>\n",
       "    <tr>\n",
       "      <th>HIMACHAL PRADESH</th>\n",
       "      <td>154948</td>\n",
       "    </tr>\n",
       "    <tr>\n",
       "      <th>UTTARAKHAND</th>\n",
       "      <td>103204</td>\n",
       "    </tr>\n",
       "    <tr>\n",
       "      <th>PUDUCHERRY</th>\n",
       "      <td>54116</td>\n",
       "    </tr>\n",
       "    <tr>\n",
       "      <th>TRIPURA</th>\n",
       "      <td>52734</td>\n",
       "    </tr>\n",
       "    <tr>\n",
       "      <th>CHANDIGARH</th>\n",
       "      <td>40807</td>\n",
       "    </tr>\n",
       "    <tr>\n",
       "      <th>MANIPUR</th>\n",
       "      <td>35072</td>\n",
       "    </tr>\n",
       "    <tr>\n",
       "      <th>GOA</th>\n",
       "      <td>32051</td>\n",
       "    </tr>\n",
       "    <tr>\n",
       "      <th>ARUNACHAL PRADESH</th>\n",
       "      <td>27652</td>\n",
       "    </tr>\n",
       "    <tr>\n",
       "      <th>MIZORAM</th>\n",
       "      <td>26146</td>\n",
       "    </tr>\n",
       "    <tr>\n",
       "      <th>MEGHALAYA</th>\n",
       "      <td>25249</td>\n",
       "    </tr>\n",
       "    <tr>\n",
       "      <th>NAGALAND</th>\n",
       "      <td>13133</td>\n",
       "    </tr>\n",
       "    <tr>\n",
       "      <th>A &amp; N ISLANDS</th>\n",
       "      <td>9102</td>\n",
       "    </tr>\n",
       "    <tr>\n",
       "      <th>SIKKIM</th>\n",
       "      <td>7000</td>\n",
       "    </tr>\n",
       "    <tr>\n",
       "      <th>D &amp; N HAVELI</th>\n",
       "      <td>4651</td>\n",
       "    </tr>\n",
       "    <tr>\n",
       "      <th>DAMAN &amp; DIU</th>\n",
       "      <td>2948</td>\n",
       "    </tr>\n",
       "    <tr>\n",
       "      <th>LAKSHADWEEP</th>\n",
       "      <td>743</td>\n",
       "    </tr>\n",
       "  </tbody>\n",
       "</table>\n",
       "</div>"
      ],
      "text/plain": [
       "                   TOTAL IPC CRIMES\n",
       "STATE/UT                           \n",
       "MADHYA PRADESH              2413770\n",
       "MAHARASHTRA                 2273436\n",
       "TAMIL NADU                  2060176\n",
       "ANDHRA PRADESH              2018981\n",
       "UTTAR PRADESH               1858074\n",
       "RAJASTHAN                   1855916\n",
       "KARNATAKA                   1481063\n",
       "KERALA                      1437459\n",
       "GUJARAT                     1385775\n",
       "BIHAR                       1346293\n",
       "WEST BENGAL                 1119304\n",
       "ODISHA                       647946\n",
       "DELHI UT                     633174\n",
       "ASSAM                        597764\n",
       "HARYANA                      595303\n",
       "CHHATTISGARH                 561027\n",
       "JHARKHAND                    422351\n",
       "PUNJAB                       384131\n",
       "JAMMU & KASHMIR              259155\n",
       "HIMACHAL PRADESH             154948\n",
       "UTTARAKHAND                  103204\n",
       "PUDUCHERRY                    54116\n",
       "TRIPURA                       52734\n",
       "CHANDIGARH                    40807\n",
       "MANIPUR                       35072\n",
       "GOA                           32051\n",
       "ARUNACHAL PRADESH             27652\n",
       "MIZORAM                       26146\n",
       "MEGHALAYA                     25249\n",
       "NAGALAND                      13133\n",
       "A & N ISLANDS                  9102\n",
       "SIKKIM                         7000\n",
       "D & N HAVELI                   4651\n",
       "DAMAN & DIU                    2948\n",
       "LAKSHADWEEP                     743"
      ]
     },
     "execution_count": 355,
     "metadata": {},
     "output_type": "execute_result"
    }
   ],
   "source": [
    "#States \n",
    "states=pd.DataFrame(df.groupby(['STATE/UT'])['TOTAL IPC CRIMES'].sum())\n",
    "sorted_values=states.sort_values(by=\"TOTAL IPC CRIMES\",ascending=False)\n",
    "sorted_values"
   ]
  },
  {
   "cell_type": "code",
   "execution_count": 356,
   "id": "4684eb3d",
   "metadata": {},
   "outputs": [],
   "source": [
    "#Clustering states\n",
    "states['Result'] = states['TOTAL IPC CRIMES'].apply(lambda states: 'Sensitive' if states>=1609180  else 'Moderate'if states>=804590 and states<1609180 else 'Peacfull')"
   ]
  },
  {
   "cell_type": "code",
   "execution_count": 357,
   "id": "8a008652",
   "metadata": {},
   "outputs": [
    {
     "data": {
      "text/html": [
       "<div>\n",
       "<style scoped>\n",
       "    .dataframe tbody tr th:only-of-type {\n",
       "        vertical-align: middle;\n",
       "    }\n",
       "\n",
       "    .dataframe tbody tr th {\n",
       "        vertical-align: top;\n",
       "    }\n",
       "\n",
       "    .dataframe thead th {\n",
       "        text-align: right;\n",
       "    }\n",
       "</style>\n",
       "<table border=\"1\" class=\"dataframe\">\n",
       "  <thead>\n",
       "    <tr style=\"text-align: right;\">\n",
       "      <th></th>\n",
       "      <th>TOTAL IPC CRIMES</th>\n",
       "      <th>Result</th>\n",
       "    </tr>\n",
       "    <tr>\n",
       "      <th>STATE/UT</th>\n",
       "      <th></th>\n",
       "      <th></th>\n",
       "    </tr>\n",
       "  </thead>\n",
       "  <tbody>\n",
       "    <tr>\n",
       "      <th>MADHYA PRADESH</th>\n",
       "      <td>2413770</td>\n",
       "      <td>Sensitive</td>\n",
       "    </tr>\n",
       "    <tr>\n",
       "      <th>MAHARASHTRA</th>\n",
       "      <td>2273436</td>\n",
       "      <td>Sensitive</td>\n",
       "    </tr>\n",
       "    <tr>\n",
       "      <th>TAMIL NADU</th>\n",
       "      <td>2060176</td>\n",
       "      <td>Sensitive</td>\n",
       "    </tr>\n",
       "    <tr>\n",
       "      <th>ANDHRA PRADESH</th>\n",
       "      <td>2018981</td>\n",
       "      <td>Sensitive</td>\n",
       "    </tr>\n",
       "    <tr>\n",
       "      <th>UTTAR PRADESH</th>\n",
       "      <td>1858074</td>\n",
       "      <td>Sensitive</td>\n",
       "    </tr>\n",
       "    <tr>\n",
       "      <th>RAJASTHAN</th>\n",
       "      <td>1855916</td>\n",
       "      <td>Sensitive</td>\n",
       "    </tr>\n",
       "    <tr>\n",
       "      <th>KARNATAKA</th>\n",
       "      <td>1481063</td>\n",
       "      <td>Moderate</td>\n",
       "    </tr>\n",
       "    <tr>\n",
       "      <th>KERALA</th>\n",
       "      <td>1437459</td>\n",
       "      <td>Moderate</td>\n",
       "    </tr>\n",
       "    <tr>\n",
       "      <th>GUJARAT</th>\n",
       "      <td>1385775</td>\n",
       "      <td>Moderate</td>\n",
       "    </tr>\n",
       "    <tr>\n",
       "      <th>BIHAR</th>\n",
       "      <td>1346293</td>\n",
       "      <td>Moderate</td>\n",
       "    </tr>\n",
       "    <tr>\n",
       "      <th>WEST BENGAL</th>\n",
       "      <td>1119304</td>\n",
       "      <td>Moderate</td>\n",
       "    </tr>\n",
       "    <tr>\n",
       "      <th>ODISHA</th>\n",
       "      <td>647946</td>\n",
       "      <td>Peacfull</td>\n",
       "    </tr>\n",
       "    <tr>\n",
       "      <th>DELHI UT</th>\n",
       "      <td>633174</td>\n",
       "      <td>Peacfull</td>\n",
       "    </tr>\n",
       "    <tr>\n",
       "      <th>ASSAM</th>\n",
       "      <td>597764</td>\n",
       "      <td>Peacfull</td>\n",
       "    </tr>\n",
       "    <tr>\n",
       "      <th>HARYANA</th>\n",
       "      <td>595303</td>\n",
       "      <td>Peacfull</td>\n",
       "    </tr>\n",
       "    <tr>\n",
       "      <th>CHHATTISGARH</th>\n",
       "      <td>561027</td>\n",
       "      <td>Peacfull</td>\n",
       "    </tr>\n",
       "    <tr>\n",
       "      <th>JHARKHAND</th>\n",
       "      <td>422351</td>\n",
       "      <td>Peacfull</td>\n",
       "    </tr>\n",
       "    <tr>\n",
       "      <th>PUNJAB</th>\n",
       "      <td>384131</td>\n",
       "      <td>Peacfull</td>\n",
       "    </tr>\n",
       "    <tr>\n",
       "      <th>JAMMU &amp; KASHMIR</th>\n",
       "      <td>259155</td>\n",
       "      <td>Peacfull</td>\n",
       "    </tr>\n",
       "    <tr>\n",
       "      <th>HIMACHAL PRADESH</th>\n",
       "      <td>154948</td>\n",
       "      <td>Peacfull</td>\n",
       "    </tr>\n",
       "    <tr>\n",
       "      <th>UTTARAKHAND</th>\n",
       "      <td>103204</td>\n",
       "      <td>Peacfull</td>\n",
       "    </tr>\n",
       "    <tr>\n",
       "      <th>PUDUCHERRY</th>\n",
       "      <td>54116</td>\n",
       "      <td>Peacfull</td>\n",
       "    </tr>\n",
       "    <tr>\n",
       "      <th>TRIPURA</th>\n",
       "      <td>52734</td>\n",
       "      <td>Peacfull</td>\n",
       "    </tr>\n",
       "    <tr>\n",
       "      <th>CHANDIGARH</th>\n",
       "      <td>40807</td>\n",
       "      <td>Peacfull</td>\n",
       "    </tr>\n",
       "    <tr>\n",
       "      <th>MANIPUR</th>\n",
       "      <td>35072</td>\n",
       "      <td>Peacfull</td>\n",
       "    </tr>\n",
       "    <tr>\n",
       "      <th>GOA</th>\n",
       "      <td>32051</td>\n",
       "      <td>Peacfull</td>\n",
       "    </tr>\n",
       "    <tr>\n",
       "      <th>ARUNACHAL PRADESH</th>\n",
       "      <td>27652</td>\n",
       "      <td>Peacfull</td>\n",
       "    </tr>\n",
       "    <tr>\n",
       "      <th>MIZORAM</th>\n",
       "      <td>26146</td>\n",
       "      <td>Peacfull</td>\n",
       "    </tr>\n",
       "    <tr>\n",
       "      <th>MEGHALAYA</th>\n",
       "      <td>25249</td>\n",
       "      <td>Peacfull</td>\n",
       "    </tr>\n",
       "    <tr>\n",
       "      <th>NAGALAND</th>\n",
       "      <td>13133</td>\n",
       "      <td>Peacfull</td>\n",
       "    </tr>\n",
       "    <tr>\n",
       "      <th>A &amp; N ISLANDS</th>\n",
       "      <td>9102</td>\n",
       "      <td>Peacfull</td>\n",
       "    </tr>\n",
       "    <tr>\n",
       "      <th>SIKKIM</th>\n",
       "      <td>7000</td>\n",
       "      <td>Peacfull</td>\n",
       "    </tr>\n",
       "    <tr>\n",
       "      <th>D &amp; N HAVELI</th>\n",
       "      <td>4651</td>\n",
       "      <td>Peacfull</td>\n",
       "    </tr>\n",
       "    <tr>\n",
       "      <th>DAMAN &amp; DIU</th>\n",
       "      <td>2948</td>\n",
       "      <td>Peacfull</td>\n",
       "    </tr>\n",
       "    <tr>\n",
       "      <th>LAKSHADWEEP</th>\n",
       "      <td>743</td>\n",
       "      <td>Peacfull</td>\n",
       "    </tr>\n",
       "  </tbody>\n",
       "</table>\n",
       "</div>"
      ],
      "text/plain": [
       "                   TOTAL IPC CRIMES     Result\n",
       "STATE/UT                                      \n",
       "MADHYA PRADESH              2413770  Sensitive\n",
       "MAHARASHTRA                 2273436  Sensitive\n",
       "TAMIL NADU                  2060176  Sensitive\n",
       "ANDHRA PRADESH              2018981  Sensitive\n",
       "UTTAR PRADESH               1858074  Sensitive\n",
       "RAJASTHAN                   1855916  Sensitive\n",
       "KARNATAKA                   1481063   Moderate\n",
       "KERALA                      1437459   Moderate\n",
       "GUJARAT                     1385775   Moderate\n",
       "BIHAR                       1346293   Moderate\n",
       "WEST BENGAL                 1119304   Moderate\n",
       "ODISHA                       647946   Peacfull\n",
       "DELHI UT                     633174   Peacfull\n",
       "ASSAM                        597764   Peacfull\n",
       "HARYANA                      595303   Peacfull\n",
       "CHHATTISGARH                 561027   Peacfull\n",
       "JHARKHAND                    422351   Peacfull\n",
       "PUNJAB                       384131   Peacfull\n",
       "JAMMU & KASHMIR              259155   Peacfull\n",
       "HIMACHAL PRADESH             154948   Peacfull\n",
       "UTTARAKHAND                  103204   Peacfull\n",
       "PUDUCHERRY                    54116   Peacfull\n",
       "TRIPURA                       52734   Peacfull\n",
       "CHANDIGARH                    40807   Peacfull\n",
       "MANIPUR                       35072   Peacfull\n",
       "GOA                           32051   Peacfull\n",
       "ARUNACHAL PRADESH             27652   Peacfull\n",
       "MIZORAM                       26146   Peacfull\n",
       "MEGHALAYA                     25249   Peacfull\n",
       "NAGALAND                      13133   Peacfull\n",
       "A & N ISLANDS                  9102   Peacfull\n",
       "SIKKIM                         7000   Peacfull\n",
       "D & N HAVELI                   4651   Peacfull\n",
       "DAMAN & DIU                    2948   Peacfull\n",
       "LAKSHADWEEP                     743   Peacfull"
      ]
     },
     "execution_count": 357,
     "metadata": {},
     "output_type": "execute_result"
    }
   ],
   "source": [
    "sorted_values=states.sort_values(by=\"TOTAL IPC CRIMES\",ascending=False)\n",
    "sorted_values\n"
   ]
  },
  {
   "cell_type": "code",
   "execution_count": 358,
   "id": "a012bd52",
   "metadata": {},
   "outputs": [
    {
     "data": {
      "text/html": [
       "<div>\n",
       "<style scoped>\n",
       "    .dataframe tbody tr th:only-of-type {\n",
       "        vertical-align: middle;\n",
       "    }\n",
       "\n",
       "    .dataframe tbody tr th {\n",
       "        vertical-align: top;\n",
       "    }\n",
       "\n",
       "    .dataframe thead th {\n",
       "        text-align: right;\n",
       "    }\n",
       "</style>\n",
       "<table border=\"1\" class=\"dataframe\">\n",
       "  <thead>\n",
       "    <tr style=\"text-align: right;\">\n",
       "      <th></th>\n",
       "      <th>TOTAL IPC CRIMES</th>\n",
       "      <th>Result</th>\n",
       "    </tr>\n",
       "    <tr>\n",
       "      <th>STATE/UT</th>\n",
       "      <th></th>\n",
       "      <th></th>\n",
       "    </tr>\n",
       "  </thead>\n",
       "  <tbody>\n",
       "    <tr>\n",
       "      <th>A &amp; N ISLANDS</th>\n",
       "      <td>9102</td>\n",
       "      <td>Peacfull</td>\n",
       "    </tr>\n",
       "    <tr>\n",
       "      <th>ANDHRA PRADESH</th>\n",
       "      <td>2018981</td>\n",
       "      <td>Sensitive</td>\n",
       "    </tr>\n",
       "    <tr>\n",
       "      <th>ARUNACHAL PRADESH</th>\n",
       "      <td>27652</td>\n",
       "      <td>Peacfull</td>\n",
       "    </tr>\n",
       "    <tr>\n",
       "      <th>ASSAM</th>\n",
       "      <td>597764</td>\n",
       "      <td>Peacfull</td>\n",
       "    </tr>\n",
       "    <tr>\n",
       "      <th>BIHAR</th>\n",
       "      <td>1346293</td>\n",
       "      <td>Moderate</td>\n",
       "    </tr>\n",
       "    <tr>\n",
       "      <th>CHANDIGARH</th>\n",
       "      <td>40807</td>\n",
       "      <td>Peacfull</td>\n",
       "    </tr>\n",
       "    <tr>\n",
       "      <th>CHHATTISGARH</th>\n",
       "      <td>561027</td>\n",
       "      <td>Peacfull</td>\n",
       "    </tr>\n",
       "    <tr>\n",
       "      <th>D &amp; N HAVELI</th>\n",
       "      <td>4651</td>\n",
       "      <td>Peacfull</td>\n",
       "    </tr>\n",
       "    <tr>\n",
       "      <th>DAMAN &amp; DIU</th>\n",
       "      <td>2948</td>\n",
       "      <td>Peacfull</td>\n",
       "    </tr>\n",
       "    <tr>\n",
       "      <th>DELHI UT</th>\n",
       "      <td>633174</td>\n",
       "      <td>Peacfull</td>\n",
       "    </tr>\n",
       "  </tbody>\n",
       "</table>\n",
       "</div>"
      ],
      "text/plain": [
       "                   TOTAL IPC CRIMES     Result\n",
       "STATE/UT                                      \n",
       "A & N ISLANDS                  9102   Peacfull\n",
       "ANDHRA PRADESH              2018981  Sensitive\n",
       "ARUNACHAL PRADESH             27652   Peacfull\n",
       "ASSAM                        597764   Peacfull\n",
       "BIHAR                       1346293   Moderate\n",
       "CHANDIGARH                    40807   Peacfull\n",
       "CHHATTISGARH                 561027   Peacfull\n",
       "D & N HAVELI                   4651   Peacfull\n",
       "DAMAN & DIU                    2948   Peacfull\n",
       "DELHI UT                     633174   Peacfull"
      ]
     },
     "execution_count": 358,
     "metadata": {},
     "output_type": "execute_result"
    }
   ],
   "source": [
    "states.head(10)"
   ]
  },
  {
   "cell_type": "code",
   "execution_count": 359,
   "id": "a56f7ded",
   "metadata": {},
   "outputs": [
    {
     "name": "stdout",
     "output_type": "stream",
     "text": [
      "Peacfull     24\n",
      "Sensitive     6\n",
      "Moderate      5\n",
      "Name: Result, dtype: int64\n"
     ]
    },
    {
     "data": {
      "image/png": "[encoded data removed]",
      "text/plain": [
       "<Figure size 640x480 with 1 Axes>"
      ]
     },
     "metadata": {},
     "output_type": "display_data"
    }
   ],
   "source": [
    "ax=sns.countplot(data=sorted_values,x='Result')\n",
    "print(sorted_values['Result'].value_counts())\n"
   ]
  },
  {
   "cell_type": "code",
   "execution_count": null,
   "id": "baac131b",
   "metadata": {},
   "outputs": [],
   "source": []
  }
 ],
 "metadata": {
  "kernelspec": {
   "display_name": "Python 3 (ipykernel)",
   "language": "python",
   "name": "python3"
  },
  "language_info": {
   "codemirror_mode": {
    "name": "ipython",
    "version": 3
   },
   "file_extension": ".py",
   "mimetype": "text/x-python",
   "name": "python",
   "nbconvert_exporter": "python",
   "pygments_lexer": "ipython3",
   "version": "3.10.9"
  }
 },
 "nbformat": 4,
 "nbformat_minor": 5
}
